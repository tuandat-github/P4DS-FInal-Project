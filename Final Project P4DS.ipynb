{
 "cells": [
  {
   "cell_type": "markdown",
   "id": "a8951463",
   "metadata": {},
   "source": [
    "# ĐỒ ÁN THỰC HÀNH\n",
    "# CSC17104 – LẬP TRÌNH CHO KHOA HỌC DỮ LIỆU\n",
    "\n",
    "Giảng viên: Bùi Tiến Lên\n",
    "\n",
    "Thông tin thành viên:\n",
    "1. Nguyễn Văn Tuấn Đạt 19120472\n",
    "2. Phan Xuân Hoài 20120481\n",
    "3. \n",
    "4. "
   ]
  },
  {
   "cell_type": "markdown",
   "id": "95e50bfe",
   "metadata": {},
   "source": [
    "## Import"
   ]
  },
  {
   "cell_type": "code",
   "execution_count": 1,
   "id": "cfca7384",
   "metadata": {},
   "outputs": [
    {
     "name": "stderr",
     "output_type": "stream",
     "text": [
      "C:\\Users\\Dat\\anaconda3\\lib\\site-packages\\scipy\\__init__.py:138: UserWarning: A NumPy version >=1.16.5 and <1.23.0 is required for this version of SciPy (detected version 1.23.3)\n",
      "  warnings.warn(f\"A NumPy version >={np_minversion} and <{np_maxversion} is required for this version of \"\n"
     ]
    }
   ],
   "source": [
    "import numpy as np\n",
    "import pandas as pd\n",
    "import matplotlib.pyplot as plt\n",
    "import seaborn as sns\n",
    "\n",
    "import warnings\n",
    "warnings.simplefilter(\"ignore\", category=RuntimeWarning)"
   ]
  },
  {
   "cell_type": "markdown",
   "id": "c74bb047",
   "metadata": {},
   "source": [
    "## A. Thu thập dữ liệu\n",
    "- Tên dữ liệu: HR Analytics: Job Change of Data Scientists\n",
    "- Nguồn lấy dữ liệu: kaggle\n",
    "- Link dữ liệu: https://www.kaggle.com/datasets/arashnic/hr-analytics-job-change-of-data-scientists\n",
    "- License: CC0: Public Domain\n",
    "- Mô tả về dữ liệu: dữ liệu gồm tập train và tập test. Trong đồ án này, nhóm sẽ sử dụng tập train.\n",
    "            + Dữ liệu gồm 14 cột và 19158 dòng."
   ]
  },
  {
   "cell_type": "code",
   "execution_count": 2,
   "id": "da540175",
   "metadata": {},
   "outputs": [
    {
     "data": {
      "text/plain": [
       "(19158, 14)"
      ]
     },
     "execution_count": 2,
     "metadata": {},
     "output_type": "execute_result"
    }
   ],
   "source": [
    "df = pd.read_csv('aug_train.csv', encoding='utf-8')\n",
    "df.shape"
   ]
  },
  {
   "cell_type": "code",
   "execution_count": 3,
   "id": "4cf47e09",
   "metadata": {},
   "outputs": [
    {
     "data": {
      "text/html": [
       "<div>\n",
       "<style scoped>\n",
       "    .dataframe tbody tr th:only-of-type {\n",
       "        vertical-align: middle;\n",
       "    }\n",
       "\n",
       "    .dataframe tbody tr th {\n",
       "        vertical-align: top;\n",
       "    }\n",
       "\n",
       "    .dataframe thead th {\n",
       "        text-align: right;\n",
       "    }\n",
       "</style>\n",
       "<table border=\"1\" class=\"dataframe\">\n",
       "  <thead>\n",
       "    <tr style=\"text-align: right;\">\n",
       "      <th></th>\n",
       "      <th>enrollee_id</th>\n",
       "      <th>city</th>\n",
       "      <th>city_development_index</th>\n",
       "      <th>gender</th>\n",
       "      <th>relevent_experience</th>\n",
       "      <th>enrolled_university</th>\n",
       "      <th>education_level</th>\n",
       "      <th>major_discipline</th>\n",
       "      <th>experience</th>\n",
       "      <th>company_size</th>\n",
       "      <th>company_type</th>\n",
       "      <th>last_new_job</th>\n",
       "      <th>training_hours</th>\n",
       "      <th>target</th>\n",
       "    </tr>\n",
       "  </thead>\n",
       "  <tbody>\n",
       "    <tr>\n",
       "      <th>0</th>\n",
       "      <td>8949</td>\n",
       "      <td>city_103</td>\n",
       "      <td>0.920</td>\n",
       "      <td>Male</td>\n",
       "      <td>Has relevent experience</td>\n",
       "      <td>no_enrollment</td>\n",
       "      <td>Graduate</td>\n",
       "      <td>STEM</td>\n",
       "      <td>&gt;20</td>\n",
       "      <td>NaN</td>\n",
       "      <td>NaN</td>\n",
       "      <td>1</td>\n",
       "      <td>36</td>\n",
       "      <td>1.0</td>\n",
       "    </tr>\n",
       "    <tr>\n",
       "      <th>1</th>\n",
       "      <td>29725</td>\n",
       "      <td>city_40</td>\n",
       "      <td>0.776</td>\n",
       "      <td>Male</td>\n",
       "      <td>No relevent experience</td>\n",
       "      <td>no_enrollment</td>\n",
       "      <td>Graduate</td>\n",
       "      <td>STEM</td>\n",
       "      <td>15</td>\n",
       "      <td>50-99</td>\n",
       "      <td>Pvt Ltd</td>\n",
       "      <td>&gt;4</td>\n",
       "      <td>47</td>\n",
       "      <td>0.0</td>\n",
       "    </tr>\n",
       "    <tr>\n",
       "      <th>2</th>\n",
       "      <td>11561</td>\n",
       "      <td>city_21</td>\n",
       "      <td>0.624</td>\n",
       "      <td>NaN</td>\n",
       "      <td>No relevent experience</td>\n",
       "      <td>Full time course</td>\n",
       "      <td>Graduate</td>\n",
       "      <td>STEM</td>\n",
       "      <td>5</td>\n",
       "      <td>NaN</td>\n",
       "      <td>NaN</td>\n",
       "      <td>never</td>\n",
       "      <td>83</td>\n",
       "      <td>0.0</td>\n",
       "    </tr>\n",
       "    <tr>\n",
       "      <th>3</th>\n",
       "      <td>33241</td>\n",
       "      <td>city_115</td>\n",
       "      <td>0.789</td>\n",
       "      <td>NaN</td>\n",
       "      <td>No relevent experience</td>\n",
       "      <td>NaN</td>\n",
       "      <td>Graduate</td>\n",
       "      <td>Business Degree</td>\n",
       "      <td>&lt;1</td>\n",
       "      <td>NaN</td>\n",
       "      <td>Pvt Ltd</td>\n",
       "      <td>never</td>\n",
       "      <td>52</td>\n",
       "      <td>1.0</td>\n",
       "    </tr>\n",
       "    <tr>\n",
       "      <th>4</th>\n",
       "      <td>666</td>\n",
       "      <td>city_162</td>\n",
       "      <td>0.767</td>\n",
       "      <td>Male</td>\n",
       "      <td>Has relevent experience</td>\n",
       "      <td>no_enrollment</td>\n",
       "      <td>Masters</td>\n",
       "      <td>STEM</td>\n",
       "      <td>&gt;20</td>\n",
       "      <td>50-99</td>\n",
       "      <td>Funded Startup</td>\n",
       "      <td>4</td>\n",
       "      <td>8</td>\n",
       "      <td>0.0</td>\n",
       "    </tr>\n",
       "    <tr>\n",
       "      <th>5</th>\n",
       "      <td>21651</td>\n",
       "      <td>city_176</td>\n",
       "      <td>0.764</td>\n",
       "      <td>NaN</td>\n",
       "      <td>Has relevent experience</td>\n",
       "      <td>Part time course</td>\n",
       "      <td>Graduate</td>\n",
       "      <td>STEM</td>\n",
       "      <td>11</td>\n",
       "      <td>NaN</td>\n",
       "      <td>NaN</td>\n",
       "      <td>1</td>\n",
       "      <td>24</td>\n",
       "      <td>1.0</td>\n",
       "    </tr>\n",
       "    <tr>\n",
       "      <th>6</th>\n",
       "      <td>28806</td>\n",
       "      <td>city_160</td>\n",
       "      <td>0.920</td>\n",
       "      <td>Male</td>\n",
       "      <td>Has relevent experience</td>\n",
       "      <td>no_enrollment</td>\n",
       "      <td>High School</td>\n",
       "      <td>NaN</td>\n",
       "      <td>5</td>\n",
       "      <td>50-99</td>\n",
       "      <td>Funded Startup</td>\n",
       "      <td>1</td>\n",
       "      <td>24</td>\n",
       "      <td>0.0</td>\n",
       "    </tr>\n",
       "    <tr>\n",
       "      <th>7</th>\n",
       "      <td>402</td>\n",
       "      <td>city_46</td>\n",
       "      <td>0.762</td>\n",
       "      <td>Male</td>\n",
       "      <td>Has relevent experience</td>\n",
       "      <td>no_enrollment</td>\n",
       "      <td>Graduate</td>\n",
       "      <td>STEM</td>\n",
       "      <td>13</td>\n",
       "      <td>&lt;10</td>\n",
       "      <td>Pvt Ltd</td>\n",
       "      <td>&gt;4</td>\n",
       "      <td>18</td>\n",
       "      <td>1.0</td>\n",
       "    </tr>\n",
       "    <tr>\n",
       "      <th>8</th>\n",
       "      <td>27107</td>\n",
       "      <td>city_103</td>\n",
       "      <td>0.920</td>\n",
       "      <td>Male</td>\n",
       "      <td>Has relevent experience</td>\n",
       "      <td>no_enrollment</td>\n",
       "      <td>Graduate</td>\n",
       "      <td>STEM</td>\n",
       "      <td>7</td>\n",
       "      <td>50-99</td>\n",
       "      <td>Pvt Ltd</td>\n",
       "      <td>1</td>\n",
       "      <td>46</td>\n",
       "      <td>1.0</td>\n",
       "    </tr>\n",
       "    <tr>\n",
       "      <th>9</th>\n",
       "      <td>699</td>\n",
       "      <td>city_103</td>\n",
       "      <td>0.920</td>\n",
       "      <td>NaN</td>\n",
       "      <td>Has relevent experience</td>\n",
       "      <td>no_enrollment</td>\n",
       "      <td>Graduate</td>\n",
       "      <td>STEM</td>\n",
       "      <td>17</td>\n",
       "      <td>10000+</td>\n",
       "      <td>Pvt Ltd</td>\n",
       "      <td>&gt;4</td>\n",
       "      <td>123</td>\n",
       "      <td>0.0</td>\n",
       "    </tr>\n",
       "  </tbody>\n",
       "</table>\n",
       "</div>"
      ],
      "text/plain": [
       "   enrollee_id      city  city_development_index gender  \\\n",
       "0         8949  city_103                   0.920   Male   \n",
       "1        29725   city_40                   0.776   Male   \n",
       "2        11561   city_21                   0.624    NaN   \n",
       "3        33241  city_115                   0.789    NaN   \n",
       "4          666  city_162                   0.767   Male   \n",
       "5        21651  city_176                   0.764    NaN   \n",
       "6        28806  city_160                   0.920   Male   \n",
       "7          402   city_46                   0.762   Male   \n",
       "8        27107  city_103                   0.920   Male   \n",
       "9          699  city_103                   0.920    NaN   \n",
       "\n",
       "       relevent_experience enrolled_university education_level  \\\n",
       "0  Has relevent experience       no_enrollment        Graduate   \n",
       "1   No relevent experience       no_enrollment        Graduate   \n",
       "2   No relevent experience    Full time course        Graduate   \n",
       "3   No relevent experience                 NaN        Graduate   \n",
       "4  Has relevent experience       no_enrollment         Masters   \n",
       "5  Has relevent experience    Part time course        Graduate   \n",
       "6  Has relevent experience       no_enrollment     High School   \n",
       "7  Has relevent experience       no_enrollment        Graduate   \n",
       "8  Has relevent experience       no_enrollment        Graduate   \n",
       "9  Has relevent experience       no_enrollment        Graduate   \n",
       "\n",
       "  major_discipline experience company_size    company_type last_new_job  \\\n",
       "0             STEM        >20          NaN             NaN            1   \n",
       "1             STEM         15        50-99         Pvt Ltd           >4   \n",
       "2             STEM          5          NaN             NaN        never   \n",
       "3  Business Degree         <1          NaN         Pvt Ltd        never   \n",
       "4             STEM        >20        50-99  Funded Startup            4   \n",
       "5             STEM         11          NaN             NaN            1   \n",
       "6              NaN          5        50-99  Funded Startup            1   \n",
       "7             STEM         13          <10         Pvt Ltd           >4   \n",
       "8             STEM          7        50-99         Pvt Ltd            1   \n",
       "9             STEM         17       10000+         Pvt Ltd           >4   \n",
       "\n",
       "   training_hours  target  \n",
       "0              36     1.0  \n",
       "1              47     0.0  \n",
       "2              83     0.0  \n",
       "3              52     1.0  \n",
       "4               8     0.0  \n",
       "5              24     1.0  \n",
       "6              24     0.0  \n",
       "7              18     1.0  \n",
       "8              46     1.0  \n",
       "9             123     0.0  "
      ]
     },
     "execution_count": 3,
     "metadata": {},
     "output_type": "execute_result"
    }
   ],
   "source": [
    "df.head(10)"
   ]
  },
  {
   "cell_type": "markdown",
   "id": "a08ad4fb",
   "metadata": {},
   "source": [
    "## B. Khám phá dữ liệu (thường đan xen với pha tiền xử lý dữ liệu)"
   ]
  },
  {
   "cell_type": "markdown",
   "id": "23fdded6",
   "metadata": {},
   "source": [
    "### 1.Mỗi dòng có ý nghĩa gì? Có vấn đề với các dòng có ý nghĩa khác nhau không?"
   ]
  },
  {
   "cell_type": "markdown",
   "id": "990ee175",
   "metadata": {},
   "source": [
    "* Mỗi dòng là thông tin của từng ứng viên, trong đó mỗi ô của dòng là dữ liệu tương ứng với cột của ô đó\n",
    "* Không có vấn đề các dòng có ý nghĩa khác nhau"
   ]
  },
  {
   "cell_type": "markdown",
   "id": "7595ba91",
   "metadata": {},
   "source": [
    "### 1.1 Kiểm tra các dòng có bị trùng lặp hay không?"
   ]
  },
  {
   "cell_type": "code",
   "execution_count": 4,
   "id": "4bf3b147",
   "metadata": {},
   "outputs": [
    {
     "data": {
      "text/plain": [
       "False"
      ]
     },
     "execution_count": 4,
     "metadata": {},
     "output_type": "execute_result"
    }
   ],
   "source": [
    "have_duplicated_rows = np.any(df.duplicated())\n",
    "have_duplicated_rows"
   ]
  },
  {
   "cell_type": "markdown",
   "id": "616e90c2",
   "metadata": {},
   "source": [
    "Các dòng không bị trùng lặp."
   ]
  },
  {
   "cell_type": "markdown",
   "id": "2855aa45",
   "metadata": {},
   "source": [
    "### 2.Mỗi cột có ý nghĩa gì?\n",
    "            \n",
    "            - enrollee_id : ID với từng ứng viên\n",
    "\n",
    "            - city: Mã thành phố\n",
    "\n",
    "            - city_ development _index : Chỉ số phát triển của thành phố (theo tỷ lệ)\n",
    "\n",
    "            - gender: Giới tính\n",
    "\n",
    "            - relevent_experience: Kinh nghiệm liên quan của ứng viên\n",
    "\n",
    "            - enrolled_university: Loại khóa học đại học đã đăng ký nếu có\n",
    "\n",
    "            - education_level: Trình độ học vấn\n",
    "\n",
    "            - major_discipline: Ngành học chính\n",
    "\n",
    "            - experience: Kinh nghiệm (tính theo năm)\n",
    "\n",
    "            - company_size: Số lượng nhân viên trong công ty của người sử dụng lao động hiện tại\n",
    "\n",
    "            - company_type : Loại chủ lao động hiện tại\n",
    "\n",
    "            - last_new_job: Sự khác biệt về số năm giữa công việc trước đây và công việc hiện tại\n",
    "\n",
    "            - training_hours: Thời gian hoàn thành huấn luyện\n",
    "\n",
    "            - target: 0 – Không nhảy việc, 1 – Nhảy việc"
   ]
  },
  {
   "cell_type": "markdown",
   "id": "331fa9e8",
   "metadata": {},
   "source": [
    "### 3.Mỗi cột hiện đang có kiểu dữ liệu gì? Có cột nào có kiểu dữ liệu chưa phù hợp để có thể xử lý tiếp hay không?"
   ]
  },
  {
   "cell_type": "code",
   "execution_count": 5,
   "id": "8b1019be",
   "metadata": {},
   "outputs": [
    {
     "data": {
      "text/plain": [
       "enrollee_id                 int64\n",
       "city                       object\n",
       "city_development_index    float64\n",
       "gender                     object\n",
       "relevent_experience        object\n",
       "enrolled_university        object\n",
       "education_level            object\n",
       "major_discipline           object\n",
       "experience                 object\n",
       "company_size               object\n",
       "company_type               object\n",
       "last_new_job               object\n",
       "training_hours              int64\n",
       "target                    float64\n",
       "dtype: object"
      ]
     },
     "execution_count": 5,
     "metadata": {},
     "output_type": "execute_result"
    }
   ],
   "source": [
    "df.dtypes"
   ]
  },
  {
   "cell_type": "code",
   "execution_count": 6,
   "id": "db75a264",
   "metadata": {},
   "outputs": [
    {
     "data": {
      "text/plain": [
       "array(['>20', '15', '5', '<1', '11', '13', '7', '17', '2', '16', '1', '4',\n",
       "       '10', '14', '18', '19', '12', '3', '6', '9', '8', '20', nan],\n",
       "      dtype=object)"
      ]
     },
     "execution_count": 6,
     "metadata": {},
     "output_type": "execute_result"
    }
   ],
   "source": [
    "df['experience'].unique()"
   ]
  },
  {
   "cell_type": "markdown",
   "id": "d9b21dec",
   "metadata": {},
   "source": [
    "Vì trong feature experience có các dữ liệu như <1, 1, 2, ..., 20, >20 nên ta sẽ chuyển dữ liệu sang dạng các khoảng như <1, 1-5, 6-10, 11-15, 16-20, >20"
   ]
  },
  {
   "cell_type": "code",
   "execution_count": 7,
   "id": "df622c99",
   "metadata": {},
   "outputs": [],
   "source": [
    "df['experience'].replace({'1':'1-5',\n",
    "                            '2':'1-5',\n",
    "                            '3':'1-5',\n",
    "                            '4':'1-5',\n",
    "                            '5':'1-5',\n",
    "                            '6':'6-10',\n",
    "                            '7':'6-10',\n",
    "                            '8':'6-10',\n",
    "                            '9':'6-10',\n",
    "                            '10':'6-10',\n",
    "                            '11':'11-15',\n",
    "                            '12':'11-15',\n",
    "                            '13':'11-15',\n",
    "                            '14':'11-15',\n",
    "                            '15':'11-15',\n",
    "                            '16':'16-20',\n",
    "                            '17':'16-20',\n",
    "                            '18':'16-20',\n",
    "                            '19':'16-20',\n",
    "                            '20':'16-20'},inplace=True)"
   ]
  },
  {
   "cell_type": "markdown",
   "id": "aa1d9dc6",
   "metadata": {},
   "source": [
    "### 4.Với mỗi cột, các giá trị được phân bố như thế nào?"
   ]
  },
  {
   "cell_type": "markdown",
   "id": "1de8236b",
   "metadata": {},
   "source": [
    "### 4.1 Với các cột có giá trị dạng số"
   ]
  },
  {
   "cell_type": "markdown",
   "id": "fefe652d",
   "metadata": {},
   "source": [
    "**Các cột dạng số:** _'enrollee_id', 'city_development_index', 'training_hours', 'target'_ \n",
    "\n",
    "DataFrame `summary_df` bên dưới chứa thông tin phân bố giá trị của các cột trên:\n",
    "- Tên của các cột là tên của các cột số trong `df`\n",
    "- Tên của các dòng có ý nghĩa là: \n",
    " + \"missing_ratio\": tỉ lệ phần trăm các giá trị thiếu\n",
    " + \"count\": số lượng giá trị \n",
    " + \"mean\": giá trị trung bình\n",
    " + \"std\": độ lệch chuẩn\n",
    " + \"min\": giá trị nhỏ nhất\n",
    " + \"25%\": giá trị phân vị 25%\n",
    " + \"50%\": giá trị phân vị 50%\n",
    " + \"75%\": giá trị phân vị 75%\n",
    " + \"max\": giá trị lớn nhất"
   ]
  },
  {
   "cell_type": "code",
   "execution_count": 8,
   "id": "065c7867",
   "metadata": {
    "scrolled": true
   },
   "outputs": [
    {
     "data": {
      "text/html": [
       "<div>\n",
       "<style scoped>\n",
       "    .dataframe tbody tr th:only-of-type {\n",
       "        vertical-align: middle;\n",
       "    }\n",
       "\n",
       "    .dataframe tbody tr th {\n",
       "        vertical-align: top;\n",
       "    }\n",
       "\n",
       "    .dataframe thead th {\n",
       "        text-align: right;\n",
       "    }\n",
       "</style>\n",
       "<table border=\"1\" class=\"dataframe\">\n",
       "  <thead>\n",
       "    <tr style=\"text-align: right;\">\n",
       "      <th></th>\n",
       "      <th>enrollee_id</th>\n",
       "      <th>city_development_index</th>\n",
       "      <th>training_hours</th>\n",
       "      <th>target</th>\n",
       "    </tr>\n",
       "  </thead>\n",
       "  <tbody>\n",
       "    <tr>\n",
       "      <th>missing_ratio</th>\n",
       "      <td>0.0</td>\n",
       "      <td>0.0</td>\n",
       "      <td>0.0</td>\n",
       "      <td>0.0</td>\n",
       "    </tr>\n",
       "    <tr>\n",
       "      <th>count</th>\n",
       "      <td>19158.0</td>\n",
       "      <td>19158.0</td>\n",
       "      <td>19158.0</td>\n",
       "      <td>19158.0</td>\n",
       "    </tr>\n",
       "    <tr>\n",
       "      <th>mean</th>\n",
       "      <td>16875.4</td>\n",
       "      <td>0.8</td>\n",
       "      <td>65.4</td>\n",
       "      <td>0.2</td>\n",
       "    </tr>\n",
       "    <tr>\n",
       "      <th>std</th>\n",
       "      <td>9616.3</td>\n",
       "      <td>0.1</td>\n",
       "      <td>60.1</td>\n",
       "      <td>0.4</td>\n",
       "    </tr>\n",
       "    <tr>\n",
       "      <th>min</th>\n",
       "      <td>1.0</td>\n",
       "      <td>0.4</td>\n",
       "      <td>1.0</td>\n",
       "      <td>0.0</td>\n",
       "    </tr>\n",
       "    <tr>\n",
       "      <th>25%</th>\n",
       "      <td>8554.2</td>\n",
       "      <td>0.7</td>\n",
       "      <td>23.0</td>\n",
       "      <td>0.0</td>\n",
       "    </tr>\n",
       "    <tr>\n",
       "      <th>50%</th>\n",
       "      <td>16982.5</td>\n",
       "      <td>0.9</td>\n",
       "      <td>47.0</td>\n",
       "      <td>0.0</td>\n",
       "    </tr>\n",
       "    <tr>\n",
       "      <th>75%</th>\n",
       "      <td>25169.8</td>\n",
       "      <td>0.9</td>\n",
       "      <td>88.0</td>\n",
       "      <td>0.0</td>\n",
       "    </tr>\n",
       "    <tr>\n",
       "      <th>max</th>\n",
       "      <td>33380.0</td>\n",
       "      <td>0.9</td>\n",
       "      <td>336.0</td>\n",
       "      <td>1.0</td>\n",
       "    </tr>\n",
       "  </tbody>\n",
       "</table>\n",
       "</div>"
      ],
      "text/plain": [
       "               enrollee_id  city_development_index  training_hours   target\n",
       "missing_ratio          0.0                     0.0             0.0      0.0\n",
       "count              19158.0                 19158.0         19158.0  19158.0\n",
       "mean               16875.4                     0.8            65.4      0.2\n",
       "std                 9616.3                     0.1            60.1      0.4\n",
       "min                    1.0                     0.4             1.0      0.0\n",
       "25%                 8554.2                     0.7            23.0      0.0\n",
       "50%                16982.5                     0.9            47.0      0.0\n",
       "75%                25169.8                     0.9            88.0      0.0\n",
       "max                33380.0                     0.9           336.0      1.0"
      ]
     },
     "execution_count": 8,
     "metadata": {},
     "output_type": "execute_result"
    }
   ],
   "source": [
    "summary_df = df.describe().round(1)\n",
    "missing_ratio = pd.DataFrame(df[['enrollee_id', 'city_development_index', 'training_hours', 'target']].isna().sum() * 100/ len(df)).T.round(1)\n",
    "missing_ratio = missing_ratio.set_axis(['missing_ratio'])\n",
    "summary_df = pd.concat([missing_ratio, summary_df])\n",
    "summary_df"
   ]
  },
  {
   "cell_type": "markdown",
   "id": "35179e70",
   "metadata": {},
   "source": [
    "Theo quan sát ở trên, ta thấy các cột có giá trị số không có giá trị thiếu. Mọi thứ trong có vẻ ổn."
   ]
  },
  {
   "cell_type": "markdown",
   "id": "6c4e27ea",
   "metadata": {},
   "source": [
    "### 4.2 Với các cột có giá trị categorical"
   ]
  },
  {
   "cell_type": "markdown",
   "id": "38d285e8",
   "metadata": {},
   "source": [
    "Các giá trị sẽ tính:\n",
    "- Tỉ lệ % (từ 0 đến 100) các giá trị thiếu \n",
    "- Số lượng các giá trị (các giá trị ở đây là các giá trị khác nhau và ta không xét giá trị thiếu)\n",
    "- Tỉ lệ % (từ 0 đến 100) của mỗi giá trị được sort theo tỉ lệ % giảm dần (ta không xét giá trị thiếu, tỉ lệ là tỉ lệ so với số lượng các giá trị không thiếu)"
   ]
  },
  {
   "cell_type": "code",
   "execution_count": 9,
   "id": "f17da8ae",
   "metadata": {},
   "outputs": [
    {
     "data": {
      "text/html": [
       "<div>\n",
       "<style scoped>\n",
       "    .dataframe tbody tr th:only-of-type {\n",
       "        vertical-align: middle;\n",
       "    }\n",
       "\n",
       "    .dataframe tbody tr th {\n",
       "        vertical-align: top;\n",
       "    }\n",
       "\n",
       "    .dataframe thead th {\n",
       "        text-align: right;\n",
       "    }\n",
       "</style>\n",
       "<table border=\"1\" class=\"dataframe\">\n",
       "  <thead>\n",
       "    <tr style=\"text-align: right;\">\n",
       "      <th></th>\n",
       "      <th>city</th>\n",
       "      <th>gender</th>\n",
       "      <th>relevent_experience</th>\n",
       "      <th>enrolled_university</th>\n",
       "      <th>education_level</th>\n",
       "      <th>major_discipline</th>\n",
       "      <th>experience</th>\n",
       "      <th>company_size</th>\n",
       "      <th>company_type</th>\n",
       "      <th>last_new_job</th>\n",
       "    </tr>\n",
       "  </thead>\n",
       "  <tbody>\n",
       "    <tr>\n",
       "      <th>missing_ratio</th>\n",
       "      <td>0.0</td>\n",
       "      <td>23.53064</td>\n",
       "      <td>0.0</td>\n",
       "      <td>2.014824</td>\n",
       "      <td>2.401086</td>\n",
       "      <td>14.683161</td>\n",
       "      <td>0.339284</td>\n",
       "      <td>30.994885</td>\n",
       "      <td>32.049274</td>\n",
       "      <td>2.207955</td>\n",
       "    </tr>\n",
       "    <tr>\n",
       "      <th>num_values</th>\n",
       "      <td>123</td>\n",
       "      <td>3</td>\n",
       "      <td>2</td>\n",
       "      <td>3</td>\n",
       "      <td>5</td>\n",
       "      <td>6</td>\n",
       "      <td>6</td>\n",
       "      <td>8</td>\n",
       "      <td>6</td>\n",
       "      <td>6</td>\n",
       "    </tr>\n",
       "    <tr>\n",
       "      <th>value_ratios</th>\n",
       "      <td>{'city_103': 22.7, 'city_21': 14.1, 'city_16':...</td>\n",
       "      <td>{'Male': 90.2, 'Female': 8.5, 'Other': 1.3}</td>\n",
       "      <td>{'Has relevent experience': 72.0, 'No relevent...</td>\n",
       "      <td>{'no_enrollment': 73.6, 'Full time course': 20...</td>\n",
       "      <td>{'Graduate': 62.0, 'Masters': 23.3, 'High Scho...</td>\n",
       "      <td>{'STEM': 88.7, 'Humanities': 4.1, 'Other': 2.3...</td>\n",
       "      <td>{'1-5': 30.7, '6-10': 26.2, '&gt;20': 17.2, '11-1...</td>\n",
       "      <td>{'50-99': 23.3, '100-500': 19.4, '10000+': 15....</td>\n",
       "      <td>{'Pvt Ltd': 75.4, 'Funded Startup': 7.7, 'Publ...</td>\n",
       "      <td>{'1': 42.9, '&gt;4': 17.6, '2': 15.5, 'never': 13...</td>\n",
       "    </tr>\n",
       "  </tbody>\n",
       "</table>\n",
       "</div>"
      ],
      "text/plain": [
       "                                                            city  \\\n",
       "missing_ratio                                                0.0   \n",
       "num_values                                                   123   \n",
       "value_ratios   {'city_103': 22.7, 'city_21': 14.1, 'city_16':...   \n",
       "\n",
       "                                                    gender  \\\n",
       "missing_ratio                                     23.53064   \n",
       "num_values                                               3   \n",
       "value_ratios   {'Male': 90.2, 'Female': 8.5, 'Other': 1.3}   \n",
       "\n",
       "                                             relevent_experience  \\\n",
       "missing_ratio                                                0.0   \n",
       "num_values                                                     2   \n",
       "value_ratios   {'Has relevent experience': 72.0, 'No relevent...   \n",
       "\n",
       "                                             enrolled_university  \\\n",
       "missing_ratio                                           2.014824   \n",
       "num_values                                                     3   \n",
       "value_ratios   {'no_enrollment': 73.6, 'Full time course': 20...   \n",
       "\n",
       "                                                 education_level  \\\n",
       "missing_ratio                                           2.401086   \n",
       "num_values                                                     5   \n",
       "value_ratios   {'Graduate': 62.0, 'Masters': 23.3, 'High Scho...   \n",
       "\n",
       "                                                major_discipline  \\\n",
       "missing_ratio                                          14.683161   \n",
       "num_values                                                     6   \n",
       "value_ratios   {'STEM': 88.7, 'Humanities': 4.1, 'Other': 2.3...   \n",
       "\n",
       "                                                      experience  \\\n",
       "missing_ratio                                           0.339284   \n",
       "num_values                                                     6   \n",
       "value_ratios   {'1-5': 30.7, '6-10': 26.2, '>20': 17.2, '11-1...   \n",
       "\n",
       "                                                    company_size  \\\n",
       "missing_ratio                                          30.994885   \n",
       "num_values                                                     8   \n",
       "value_ratios   {'50-99': 23.3, '100-500': 19.4, '10000+': 15....   \n",
       "\n",
       "                                                    company_type  \\\n",
       "missing_ratio                                          32.049274   \n",
       "num_values                                                     6   \n",
       "value_ratios   {'Pvt Ltd': 75.4, 'Funded Startup': 7.7, 'Publ...   \n",
       "\n",
       "                                                    last_new_job  \n",
       "missing_ratio                                           2.207955  \n",
       "num_values                                                     6  \n",
       "value_ratios   {'1': 42.9, '>4': 17.6, '2': 15.5, 'never': 13...  "
      ]
     },
     "execution_count": 9,
     "metadata": {},
     "output_type": "execute_result"
    }
   ],
   "source": [
    "def missing_ratio(x):\n",
    "    return (x.isna().mean()*100)\n",
    "def num_values(x):\n",
    "    return len(x.dropna().value_counts())\n",
    "def value_ratios(x):\n",
    "    count_value =  x.dropna().value_counts().sort_values(ascending=False)\n",
    "    return (count_value/count_value.sum()*100).round(1).to_dict()\n",
    "cat_df_info = df.select_dtypes(include=\"object\").agg(func=[missing_ratio, num_values, value_ratios])\n",
    "cat_df_info"
   ]
  },
  {
   "cell_type": "markdown",
   "id": "9222aad9",
   "metadata": {},
   "source": [
    "Các cột gender, company_size, company_type đều có số lượng giá trị thiếu khá lớn, trên 22%. Các số liệu khác trong có vẻ ổn"
   ]
  },
  {
   "cell_type": "markdown",
   "id": "b0be5cbb",
   "metadata": {},
   "source": [
    "### 5. Tiền xử lí dữ liệu"
   ]
  },
  {
   "cell_type": "code",
   "execution_count": 10,
   "id": "05b02de3",
   "metadata": {},
   "outputs": [
    {
     "name": "stdout",
     "output_type": "stream",
     "text": [
      "<class 'pandas.core.frame.DataFrame'>\n",
      "RangeIndex: 19158 entries, 0 to 19157\n",
      "Data columns (total 14 columns):\n",
      " #   Column                  Non-Null Count  Dtype  \n",
      "---  ------                  --------------  -----  \n",
      " 0   enrollee_id             19158 non-null  int64  \n",
      " 1   city                    19158 non-null  object \n",
      " 2   city_development_index  19158 non-null  float64\n",
      " 3   gender                  14650 non-null  object \n",
      " 4   relevent_experience     19158 non-null  object \n",
      " 5   enrolled_university     18772 non-null  object \n",
      " 6   education_level         18698 non-null  object \n",
      " 7   major_discipline        16345 non-null  object \n",
      " 8   experience              19093 non-null  object \n",
      " 9   company_size            13220 non-null  object \n",
      " 10  company_type            13018 non-null  object \n",
      " 11  last_new_job            18735 non-null  object \n",
      " 12  training_hours          19158 non-null  int64  \n",
      " 13  target                  19158 non-null  float64\n",
      "dtypes: float64(2), int64(2), object(10)\n",
      "memory usage: 2.0+ MB\n"
     ]
    }
   ],
   "source": [
    "df.info()"
   ]
  },
  {
   "cell_type": "markdown",
   "id": "c9407686",
   "metadata": {},
   "source": [
    "Số lượng giá trị bị thiếu."
   ]
  },
  {
   "cell_type": "code",
   "execution_count": 11,
   "id": "5700dc62",
   "metadata": {},
   "outputs": [
    {
     "data": {
      "text/plain": [
       "enrollee_id                  0\n",
       "city                         0\n",
       "city_development_index       0\n",
       "gender                    4508\n",
       "relevent_experience          0\n",
       "enrolled_university        386\n",
       "education_level            460\n",
       "major_discipline          2813\n",
       "experience                  65\n",
       "company_size              5938\n",
       "company_type              6140\n",
       "last_new_job               423\n",
       "training_hours               0\n",
       "target                       0\n",
       "dtype: int64"
      ]
     },
     "execution_count": 11,
     "metadata": {},
     "output_type": "execute_result"
    }
   ],
   "source": [
    "df.isnull().sum()"
   ]
  },
  {
   "cell_type": "markdown",
   "id": "7c0011cc",
   "metadata": {},
   "source": [
    "Ta thấy có khá nhiều giá trị bị thiếu và đa số đều là categorical. Vì vậy, ta sẽ xóa các dòng bị thiếu."
   ]
  },
  {
   "cell_type": "code",
   "execution_count": 13,
   "id": "414cde4c",
   "metadata": {},
   "outputs": [
    {
     "data": {
      "text/plain": [
       "(8955, 14)"
      ]
     },
     "execution_count": 13,
     "metadata": {},
     "output_type": "execute_result"
    }
   ],
   "source": [
    "df.dropna(inplace=True)\n",
    "df.shape"
   ]
  },
  {
   "cell_type": "markdown",
   "id": "7b0ac07b",
   "metadata": {},
   "source": [
    "Số lượng dòng bị thiếu khá nhiều, khoảng 1/2 của dữ liệu."
   ]
  },
  {
   "cell_type": "markdown",
   "id": "c8933858",
   "metadata": {},
   "source": [
    "## C. Đưa ra các câu hỏi có ý nghĩa cần trả lời"
   ]
  },
  {
   "cell_type": "markdown",
   "id": "ff223113",
   "metadata": {},
   "source": [
    "### 1. Số lượng Data Scientists trên 10 năm kinh nghiệm đang tìm kiếm công việc mới trong Top 5 thành phố phát triển nhất?"
   ]
  },
  {
   "cell_type": "markdown",
   "id": "ea6ac41c",
   "metadata": {},
   "source": [
    "Lợi ích khi trả lời được câu hỏi:\n",
    "- Với vai trò là doanh nghiệp sẽ biết thêm thông tin để thay đổi chính sách đãi ngộ hay điều chỉnh môi trường làm việc để giữ chân các nhân viên tài năng của minh.\n",
    "- Liệu các Data Scientists nhiều năm kinh nghiệm có nhu cầu tìm kiếm thách thức mới cho bản thân mình.\n",
    "- Thị trường việc làm về Data Scientist ở trong Top 5 thành phố phát triển nhất."
   ]
  },
  {
   "cell_type": "markdown",
   "id": "af943b52",
   "metadata": {},
   "source": [
    "## D. Tiền xử lý và phân tích dữ liệu để trả lời cho từng câu hỏi"
   ]
  },
  {
   "cell_type": "markdown",
   "id": "68454acb",
   "metadata": {},
   "source": [
    "### 1. Số lượng Data Scientists trên 10 năm kinh nghiệm đang tìm kiếm công việc mới trong Top 5 thành phố phát triển nhất?"
   ]
  },
  {
   "cell_type": "markdown",
   "id": "51b8b839",
   "metadata": {},
   "source": [
    "## E. Tổng hợp lại quá trình thực hiện đồ án"
   ]
  },
  {
   "cell_type": "code",
   "execution_count": null,
   "id": "492e34a1",
   "metadata": {},
   "outputs": [],
   "source": []
  }
 ],
 "metadata": {
  "kernelspec": {
   "display_name": "Python 3 (ipykernel)",
   "language": "python",
   "name": "python3"
  },
  "language_info": {
   "codemirror_mode": {
    "name": "ipython",
    "version": 3
   },
   "file_extension": ".py",
   "mimetype": "text/x-python",
   "name": "python",
   "nbconvert_exporter": "python",
   "pygments_lexer": "ipython3",
   "version": "3.8.8"
  },
  "vscode": {
   "interpreter": {
    "hash": "76d7c06053c3456e5600312cec90888656fc0ed30c03d8425b9dac6e4fc8e014"
   }
  }
 },
 "nbformat": 4,
 "nbformat_minor": 5
}
