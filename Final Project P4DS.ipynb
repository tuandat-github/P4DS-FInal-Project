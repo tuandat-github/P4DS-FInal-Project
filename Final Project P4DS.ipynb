{
 "cells": [
  {
   "cell_type": "markdown",
   "id": "a8951463",
   "metadata": {},
   "source": [
    "# ĐỒ ÁN THỰC HÀNH\n",
    "# CSC17104 – LẬP TRÌNH CHO KHOA HỌC DỮ LIỆU\n",
    "\n",
    "Giảng viên: Bùi Tiến Lên\n",
    "\n",
    "Thông tin thành viên:\n",
    "1. Nguyễn Văn Tuấn Đạt 19120472\n",
    "2. Phan Xuân Hoài 20120481\n",
    "3. Luân Mã Khương 20120515\n",
    "4. "
   ]
  },
  {
   "cell_type": "markdown",
   "id": "95e50bfe",
   "metadata": {},
   "source": [
    "## Import"
   ]
  },
  {
   "cell_type": "code",
   "execution_count": 1348,
   "id": "cfca7384",
   "metadata": {},
   "outputs": [],
   "source": [
    "import numpy as np\n",
    "import pandas as pd\n",
    "import matplotlib.pyplot as plt\n",
    "import seaborn as sns\n",
    "import math\n",
    "sns.set_theme()\n",
    "\n",
    "import warnings\n",
    "warnings.simplefilter(\"ignore\", category=RuntimeWarning)"
   ]
  },
  {
   "cell_type": "markdown",
   "id": "c74bb047",
   "metadata": {},
   "source": [
    "## A. Thu thập dữ liệu\n",
    "- Tên dữ liệu: HR Analytics: Job Change of Data Scientists\n",
    "- Nguồn lấy dữ liệu: kaggle\n",
    "- Link dữ liệu: https://www.kaggle.com/datasets/arashnic/hr-analytics-job-change-of-data-scientists\n",
    "- License: CC0: Public Domain\n",
    "- Mô tả về dữ liệu: dữ liệu gồm tập train và tập test. Trong đồ án này, nhóm sẽ sử dụng tập train.\n",
    "            + Dữ liệu gồm 14 cột và 19158 dòng."
   ]
  },
  {
   "cell_type": "code",
   "execution_count": 1349,
   "id": "da540175",
   "metadata": {},
   "outputs": [
    {
     "data": {
      "text/plain": [
       "(19158, 14)"
      ]
     },
     "execution_count": 1349,
     "metadata": {},
     "output_type": "execute_result"
    }
   ],
   "source": [
    "df = pd.read_csv('aug_train.csv', encoding='utf-8')\n",
    "df.shape"
   ]
  },
  {
   "cell_type": "code",
   "execution_count": 1350,
   "id": "4cf47e09",
   "metadata": {},
   "outputs": [
    {
     "data": {
      "text/html": [
       "<div>\n",
       "<style scoped>\n",
       "    .dataframe tbody tr th:only-of-type {\n",
       "        vertical-align: middle;\n",
       "    }\n",
       "\n",
       "    .dataframe tbody tr th {\n",
       "        vertical-align: top;\n",
       "    }\n",
       "\n",
       "    .dataframe thead th {\n",
       "        text-align: right;\n",
       "    }\n",
       "</style>\n",
       "<table border=\"1\" class=\"dataframe\">\n",
       "  <thead>\n",
       "    <tr style=\"text-align: right;\">\n",
       "      <th></th>\n",
       "      <th>enrollee_id</th>\n",
       "      <th>city</th>\n",
       "      <th>city_development_index</th>\n",
       "      <th>gender</th>\n",
       "      <th>relevent_experience</th>\n",
       "      <th>enrolled_university</th>\n",
       "      <th>education_level</th>\n",
       "      <th>major_discipline</th>\n",
       "      <th>experience</th>\n",
       "      <th>company_size</th>\n",
       "      <th>company_type</th>\n",
       "      <th>last_new_job</th>\n",
       "      <th>training_hours</th>\n",
       "      <th>target</th>\n",
       "    </tr>\n",
       "  </thead>\n",
       "  <tbody>\n",
       "    <tr>\n",
       "      <th>0</th>\n",
       "      <td>8949</td>\n",
       "      <td>city_103</td>\n",
       "      <td>0.920</td>\n",
       "      <td>Male</td>\n",
       "      <td>Has relevent experience</td>\n",
       "      <td>no_enrollment</td>\n",
       "      <td>Graduate</td>\n",
       "      <td>STEM</td>\n",
       "      <td>&gt;20</td>\n",
       "      <td>NaN</td>\n",
       "      <td>NaN</td>\n",
       "      <td>1</td>\n",
       "      <td>36</td>\n",
       "      <td>1.0</td>\n",
       "    </tr>\n",
       "    <tr>\n",
       "      <th>1</th>\n",
       "      <td>29725</td>\n",
       "      <td>city_40</td>\n",
       "      <td>0.776</td>\n",
       "      <td>Male</td>\n",
       "      <td>No relevent experience</td>\n",
       "      <td>no_enrollment</td>\n",
       "      <td>Graduate</td>\n",
       "      <td>STEM</td>\n",
       "      <td>15</td>\n",
       "      <td>50-99</td>\n",
       "      <td>Pvt Ltd</td>\n",
       "      <td>&gt;4</td>\n",
       "      <td>47</td>\n",
       "      <td>0.0</td>\n",
       "    </tr>\n",
       "    <tr>\n",
       "      <th>2</th>\n",
       "      <td>11561</td>\n",
       "      <td>city_21</td>\n",
       "      <td>0.624</td>\n",
       "      <td>NaN</td>\n",
       "      <td>No relevent experience</td>\n",
       "      <td>Full time course</td>\n",
       "      <td>Graduate</td>\n",
       "      <td>STEM</td>\n",
       "      <td>5</td>\n",
       "      <td>NaN</td>\n",
       "      <td>NaN</td>\n",
       "      <td>never</td>\n",
       "      <td>83</td>\n",
       "      <td>0.0</td>\n",
       "    </tr>\n",
       "    <tr>\n",
       "      <th>3</th>\n",
       "      <td>33241</td>\n",
       "      <td>city_115</td>\n",
       "      <td>0.789</td>\n",
       "      <td>NaN</td>\n",
       "      <td>No relevent experience</td>\n",
       "      <td>NaN</td>\n",
       "      <td>Graduate</td>\n",
       "      <td>Business Degree</td>\n",
       "      <td>&lt;1</td>\n",
       "      <td>NaN</td>\n",
       "      <td>Pvt Ltd</td>\n",
       "      <td>never</td>\n",
       "      <td>52</td>\n",
       "      <td>1.0</td>\n",
       "    </tr>\n",
       "    <tr>\n",
       "      <th>4</th>\n",
       "      <td>666</td>\n",
       "      <td>city_162</td>\n",
       "      <td>0.767</td>\n",
       "      <td>Male</td>\n",
       "      <td>Has relevent experience</td>\n",
       "      <td>no_enrollment</td>\n",
       "      <td>Masters</td>\n",
       "      <td>STEM</td>\n",
       "      <td>&gt;20</td>\n",
       "      <td>50-99</td>\n",
       "      <td>Funded Startup</td>\n",
       "      <td>4</td>\n",
       "      <td>8</td>\n",
       "      <td>0.0</td>\n",
       "    </tr>\n",
       "    <tr>\n",
       "      <th>5</th>\n",
       "      <td>21651</td>\n",
       "      <td>city_176</td>\n",
       "      <td>0.764</td>\n",
       "      <td>NaN</td>\n",
       "      <td>Has relevent experience</td>\n",
       "      <td>Part time course</td>\n",
       "      <td>Graduate</td>\n",
       "      <td>STEM</td>\n",
       "      <td>11</td>\n",
       "      <td>NaN</td>\n",
       "      <td>NaN</td>\n",
       "      <td>1</td>\n",
       "      <td>24</td>\n",
       "      <td>1.0</td>\n",
       "    </tr>\n",
       "    <tr>\n",
       "      <th>6</th>\n",
       "      <td>28806</td>\n",
       "      <td>city_160</td>\n",
       "      <td>0.920</td>\n",
       "      <td>Male</td>\n",
       "      <td>Has relevent experience</td>\n",
       "      <td>no_enrollment</td>\n",
       "      <td>High School</td>\n",
       "      <td>NaN</td>\n",
       "      <td>5</td>\n",
       "      <td>50-99</td>\n",
       "      <td>Funded Startup</td>\n",
       "      <td>1</td>\n",
       "      <td>24</td>\n",
       "      <td>0.0</td>\n",
       "    </tr>\n",
       "    <tr>\n",
       "      <th>7</th>\n",
       "      <td>402</td>\n",
       "      <td>city_46</td>\n",
       "      <td>0.762</td>\n",
       "      <td>Male</td>\n",
       "      <td>Has relevent experience</td>\n",
       "      <td>no_enrollment</td>\n",
       "      <td>Graduate</td>\n",
       "      <td>STEM</td>\n",
       "      <td>13</td>\n",
       "      <td>&lt;10</td>\n",
       "      <td>Pvt Ltd</td>\n",
       "      <td>&gt;4</td>\n",
       "      <td>18</td>\n",
       "      <td>1.0</td>\n",
       "    </tr>\n",
       "    <tr>\n",
       "      <th>8</th>\n",
       "      <td>27107</td>\n",
       "      <td>city_103</td>\n",
       "      <td>0.920</td>\n",
       "      <td>Male</td>\n",
       "      <td>Has relevent experience</td>\n",
       "      <td>no_enrollment</td>\n",
       "      <td>Graduate</td>\n",
       "      <td>STEM</td>\n",
       "      <td>7</td>\n",
       "      <td>50-99</td>\n",
       "      <td>Pvt Ltd</td>\n",
       "      <td>1</td>\n",
       "      <td>46</td>\n",
       "      <td>1.0</td>\n",
       "    </tr>\n",
       "    <tr>\n",
       "      <th>9</th>\n",
       "      <td>699</td>\n",
       "      <td>city_103</td>\n",
       "      <td>0.920</td>\n",
       "      <td>NaN</td>\n",
       "      <td>Has relevent experience</td>\n",
       "      <td>no_enrollment</td>\n",
       "      <td>Graduate</td>\n",
       "      <td>STEM</td>\n",
       "      <td>17</td>\n",
       "      <td>10000+</td>\n",
       "      <td>Pvt Ltd</td>\n",
       "      <td>&gt;4</td>\n",
       "      <td>123</td>\n",
       "      <td>0.0</td>\n",
       "    </tr>\n",
       "  </tbody>\n",
       "</table>\n",
       "</div>"
      ],
      "text/plain": [
       "   enrollee_id      city  city_development_index gender  \\\n",
       "0         8949  city_103                   0.920   Male   \n",
       "1        29725   city_40                   0.776   Male   \n",
       "2        11561   city_21                   0.624    NaN   \n",
       "3        33241  city_115                   0.789    NaN   \n",
       "4          666  city_162                   0.767   Male   \n",
       "5        21651  city_176                   0.764    NaN   \n",
       "6        28806  city_160                   0.920   Male   \n",
       "7          402   city_46                   0.762   Male   \n",
       "8        27107  city_103                   0.920   Male   \n",
       "9          699  city_103                   0.920    NaN   \n",
       "\n",
       "       relevent_experience enrolled_university education_level  \\\n",
       "0  Has relevent experience       no_enrollment        Graduate   \n",
       "1   No relevent experience       no_enrollment        Graduate   \n",
       "2   No relevent experience    Full time course        Graduate   \n",
       "3   No relevent experience                 NaN        Graduate   \n",
       "4  Has relevent experience       no_enrollment         Masters   \n",
       "5  Has relevent experience    Part time course        Graduate   \n",
       "6  Has relevent experience       no_enrollment     High School   \n",
       "7  Has relevent experience       no_enrollment        Graduate   \n",
       "8  Has relevent experience       no_enrollment        Graduate   \n",
       "9  Has relevent experience       no_enrollment        Graduate   \n",
       "\n",
       "  major_discipline experience company_size    company_type last_new_job  \\\n",
       "0             STEM        >20          NaN             NaN            1   \n",
       "1             STEM         15        50-99         Pvt Ltd           >4   \n",
       "2             STEM          5          NaN             NaN        never   \n",
       "3  Business Degree         <1          NaN         Pvt Ltd        never   \n",
       "4             STEM        >20        50-99  Funded Startup            4   \n",
       "5             STEM         11          NaN             NaN            1   \n",
       "6              NaN          5        50-99  Funded Startup            1   \n",
       "7             STEM         13          <10         Pvt Ltd           >4   \n",
       "8             STEM          7        50-99         Pvt Ltd            1   \n",
       "9             STEM         17       10000+         Pvt Ltd           >4   \n",
       "\n",
       "   training_hours  target  \n",
       "0              36     1.0  \n",
       "1              47     0.0  \n",
       "2              83     0.0  \n",
       "3              52     1.0  \n",
       "4               8     0.0  \n",
       "5              24     1.0  \n",
       "6              24     0.0  \n",
       "7              18     1.0  \n",
       "8              46     1.0  \n",
       "9             123     0.0  "
      ]
     },
     "execution_count": 1350,
     "metadata": {},
     "output_type": "execute_result"
    }
   ],
   "source": [
    "df.head(10)"
   ]
  },
  {
   "cell_type": "markdown",
   "id": "a08ad4fb",
   "metadata": {},
   "source": [
    "## B. Khám phá dữ liệu (thường đan xen với pha tiền xử lý dữ liệu)"
   ]
  },
  {
   "cell_type": "markdown",
   "id": "23fdded6",
   "metadata": {},
   "source": [
    "### 1.Mỗi dòng có ý nghĩa gì? Có vấn đề với các dòng có ý nghĩa khác nhau không?"
   ]
  },
  {
   "cell_type": "markdown",
   "id": "990ee175",
   "metadata": {},
   "source": [
    "* Mỗi dòng là thông tin của từng ứng viên, trong đó mỗi ô của dòng là dữ liệu tương ứng với cột của ô đó\n",
    "* Không có vấn đề các dòng có ý nghĩa khác nhau"
   ]
  },
  {
   "cell_type": "markdown",
   "id": "7595ba91",
   "metadata": {},
   "source": [
    "### 1.1 Kiểm tra các dòng có bị trùng lặp hay không?"
   ]
  },
  {
   "cell_type": "code",
   "execution_count": 1351,
   "id": "4bf3b147",
   "metadata": {},
   "outputs": [
    {
     "data": {
      "text/plain": [
       "False"
      ]
     },
     "execution_count": 1351,
     "metadata": {},
     "output_type": "execute_result"
    }
   ],
   "source": [
    "have_duplicated_rows = np.any(df.duplicated())\n",
    "have_duplicated_rows"
   ]
  },
  {
   "cell_type": "markdown",
   "id": "616e90c2",
   "metadata": {},
   "source": [
    "Các dòng không bị trùng lặp."
   ]
  },
  {
   "cell_type": "markdown",
   "id": "2855aa45",
   "metadata": {},
   "source": [
    "### 2.Mỗi cột có ý nghĩa gì?\n",
    "            \n",
    "            - enrollee_id : ID với từng ứng viên\n",
    "\n",
    "            - city: Mã thành phố\n",
    "\n",
    "            - city_ development _index : Chỉ số phát triển của thành phố (theo tỷ lệ)\n",
    "\n",
    "            - gender: Giới tính\n",
    "\n",
    "            - relevent_experience: Kinh nghiệm liên quan của ứng viên\n",
    "\n",
    "            - enrolled_university: Loại khóa học đại học đã đăng ký nếu có\n",
    "\n",
    "            - education_level: Trình độ học vấn\n",
    "\n",
    "            - major_discipline: Ngành học chính\n",
    "\n",
    "            - experience: Kinh nghiệm (tính theo năm)\n",
    "\n",
    "            - company_size: Số lượng nhân viên trong công ty của người sử dụng lao động hiện tại\n",
    "\n",
    "            - company_type : Loại chủ lao động hiện tại\n",
    "\n",
    "            - last_new_job: Sự khác biệt về số năm giữa công việc trước đây và công việc hiện tại\n",
    "\n",
    "            - training_hours: Thời gian hoàn thành huấn luyện\n",
    "\n",
    "            - target: 0 – Không nhảy việc, 1 – Nhảy việc"
   ]
  },
  {
   "cell_type": "markdown",
   "id": "331fa9e8",
   "metadata": {},
   "source": [
    "### 3.Mỗi cột hiện đang có kiểu dữ liệu gì? Có cột nào có kiểu dữ liệu chưa phù hợp để có thể xử lý tiếp hay không?"
   ]
  },
  {
   "cell_type": "code",
   "execution_count": 1352,
   "id": "8b1019be",
   "metadata": {},
   "outputs": [
    {
     "data": {
      "text/plain": [
       "enrollee_id                 int64\n",
       "city                       object\n",
       "city_development_index    float64\n",
       "gender                     object\n",
       "relevent_experience        object\n",
       "enrolled_university        object\n",
       "education_level            object\n",
       "major_discipline           object\n",
       "experience                 object\n",
       "company_size               object\n",
       "company_type               object\n",
       "last_new_job               object\n",
       "training_hours              int64\n",
       "target                    float64\n",
       "dtype: object"
      ]
     },
     "execution_count": 1352,
     "metadata": {},
     "output_type": "execute_result"
    }
   ],
   "source": [
    "df.dtypes"
   ]
  },
  {
   "cell_type": "code",
   "execution_count": 1353,
   "id": "db75a264",
   "metadata": {},
   "outputs": [
    {
     "data": {
      "text/plain": [
       "array(['>20', '15', '5', '<1', '11', '13', '7', '17', '2', '16', '1', '4',\n",
       "       '10', '14', '18', '19', '12', '3', '6', '9', '8', '20', nan],\n",
       "      dtype=object)"
      ]
     },
     "execution_count": 1353,
     "metadata": {},
     "output_type": "execute_result"
    }
   ],
   "source": [
    "df['experience'].unique()"
   ]
  },
  {
   "cell_type": "markdown",
   "id": "d9b21dec",
   "metadata": {},
   "source": [
    "Vì trong feature experience có các dữ liệu như <1, 1, 2, ..., 20, >20 nên ta sẽ chuyển dữ liệu sang dạng các khoảng như (0,1),\n",
    "(1,5), (6,10), (11,15), (16,20), (21,30)"
   ]
  },
  {
   "cell_type": "code",
   "execution_count": 1354,
   "id": "df622c99",
   "metadata": {},
   "outputs": [
    {
     "data": {
      "text/plain": [
       "0        (21, 30)\n",
       "1        (11, 15)\n",
       "2          (1, 5)\n",
       "3          (0, 1)\n",
       "4        (21, 30)\n",
       "           ...   \n",
       "19153    (11, 15)\n",
       "19154    (11, 15)\n",
       "19155    (21, 30)\n",
       "19156      (0, 1)\n",
       "19157      (1, 5)\n",
       "Name: experience, Length: 19158, dtype: object"
      ]
     },
     "execution_count": 1354,
     "metadata": {},
     "output_type": "execute_result"
    }
   ],
   "source": [
    "def trans_experience(experience):\n",
    "    if isinstance(experience, float):\n",
    "        return np.nan\n",
    "    if experience == '<1':\n",
    "        return (0,1)\n",
    "    if experience == '>20':\n",
    "        return (21,30)\n",
    "    cei = math.ceil(int(experience)/5)\n",
    "    return (cei*5 - 4, cei*5)\n",
    "\n",
    "df['experience'] = df['experience'].apply(trans_experience)\n",
    "df['experience']"
   ]
  },
  {
   "cell_type": "markdown",
   "id": "aa1d9dc6",
   "metadata": {},
   "source": [
    "### 4.Với mỗi cột, các giá trị được phân bố như thế nào?"
   ]
  },
  {
   "cell_type": "markdown",
   "id": "1de8236b",
   "metadata": {},
   "source": [
    "#### 4.1 Với các cột có giá trị dạng số"
   ]
  },
  {
   "cell_type": "markdown",
   "id": "fefe652d",
   "metadata": {},
   "source": [
    "**Các cột dạng số:** _'enrollee_id', 'city_development_index', 'training_hours', 'target'_ \n",
    "\n",
    "DataFrame `summary_df` bên dưới chứa thông tin phân bố giá trị của các cột trên:\n",
    "- Tên của các cột là tên của các cột số trong `df`\n",
    "- Tên của các dòng có ý nghĩa là: \n",
    " + `\"missing_ratio\"`: tỉ lệ phần trăm các giá trị thiếu\n",
    " + `\"count\"`: số lượng giá trị \n",
    " + `\"mean\"`: giá trị trung bình\n",
    " + `\"std\"`: độ lệch chuẩn\n",
    " + `\"min\"`: giá trị nhỏ nhất\n",
    " + `\"25%\"`: giá trị phân vị 25%\n",
    " + `\"50%\"`: giá trị phân vị 50%\n",
    " + `\"75%\"`: giá trị phân vị 75%\n",
    " + `\"max\"`: giá trị lớn nhất"
   ]
  },
  {
   "cell_type": "code",
   "execution_count": 1355,
   "id": "065c7867",
   "metadata": {
    "scrolled": true
   },
   "outputs": [
    {
     "data": {
      "text/html": [
       "<div>\n",
       "<style scoped>\n",
       "    .dataframe tbody tr th:only-of-type {\n",
       "        vertical-align: middle;\n",
       "    }\n",
       "\n",
       "    .dataframe tbody tr th {\n",
       "        vertical-align: top;\n",
       "    }\n",
       "\n",
       "    .dataframe thead th {\n",
       "        text-align: right;\n",
       "    }\n",
       "</style>\n",
       "<table border=\"1\" class=\"dataframe\">\n",
       "  <thead>\n",
       "    <tr style=\"text-align: right;\">\n",
       "      <th></th>\n",
       "      <th>enrollee_id</th>\n",
       "      <th>city_development_index</th>\n",
       "      <th>training_hours</th>\n",
       "      <th>target</th>\n",
       "    </tr>\n",
       "  </thead>\n",
       "  <tbody>\n",
       "    <tr>\n",
       "      <th>missing_ratio</th>\n",
       "      <td>0.0</td>\n",
       "      <td>0.0</td>\n",
       "      <td>0.0</td>\n",
       "      <td>0.0</td>\n",
       "    </tr>\n",
       "    <tr>\n",
       "      <th>count</th>\n",
       "      <td>19158.0</td>\n",
       "      <td>19158.0</td>\n",
       "      <td>19158.0</td>\n",
       "      <td>19158.0</td>\n",
       "    </tr>\n",
       "    <tr>\n",
       "      <th>mean</th>\n",
       "      <td>16875.4</td>\n",
       "      <td>0.8</td>\n",
       "      <td>65.4</td>\n",
       "      <td>0.2</td>\n",
       "    </tr>\n",
       "    <tr>\n",
       "      <th>std</th>\n",
       "      <td>9616.3</td>\n",
       "      <td>0.1</td>\n",
       "      <td>60.1</td>\n",
       "      <td>0.4</td>\n",
       "    </tr>\n",
       "    <tr>\n",
       "      <th>min</th>\n",
       "      <td>1.0</td>\n",
       "      <td>0.4</td>\n",
       "      <td>1.0</td>\n",
       "      <td>0.0</td>\n",
       "    </tr>\n",
       "    <tr>\n",
       "      <th>25%</th>\n",
       "      <td>8554.2</td>\n",
       "      <td>0.7</td>\n",
       "      <td>23.0</td>\n",
       "      <td>0.0</td>\n",
       "    </tr>\n",
       "    <tr>\n",
       "      <th>50%</th>\n",
       "      <td>16982.5</td>\n",
       "      <td>0.9</td>\n",
       "      <td>47.0</td>\n",
       "      <td>0.0</td>\n",
       "    </tr>\n",
       "    <tr>\n",
       "      <th>75%</th>\n",
       "      <td>25169.8</td>\n",
       "      <td>0.9</td>\n",
       "      <td>88.0</td>\n",
       "      <td>0.0</td>\n",
       "    </tr>\n",
       "    <tr>\n",
       "      <th>max</th>\n",
       "      <td>33380.0</td>\n",
       "      <td>0.9</td>\n",
       "      <td>336.0</td>\n",
       "      <td>1.0</td>\n",
       "    </tr>\n",
       "  </tbody>\n",
       "</table>\n",
       "</div>"
      ],
      "text/plain": [
       "               enrollee_id  city_development_index  training_hours   target\n",
       "missing_ratio          0.0                     0.0             0.0      0.0\n",
       "count              19158.0                 19158.0         19158.0  19158.0\n",
       "mean               16875.4                     0.8            65.4      0.2\n",
       "std                 9616.3                     0.1            60.1      0.4\n",
       "min                    1.0                     0.4             1.0      0.0\n",
       "25%                 8554.2                     0.7            23.0      0.0\n",
       "50%                16982.5                     0.9            47.0      0.0\n",
       "75%                25169.8                     0.9            88.0      0.0\n",
       "max                33380.0                     0.9           336.0      1.0"
      ]
     },
     "execution_count": 1355,
     "metadata": {},
     "output_type": "execute_result"
    }
   ],
   "source": [
    "summary_df = df.describe().round(1)\n",
    "missing_ratio = pd.DataFrame(df[['enrollee_id', 'city_development_index', 'training_hours', 'target']].isna().sum() * 100/ len(df)).T.round(1)\n",
    "missing_ratio = missing_ratio.set_axis(['missing_ratio'])\n",
    "summary_df = pd.concat([missing_ratio, summary_df])\n",
    "summary_df"
   ]
  },
  {
   "cell_type": "markdown",
   "id": "35179e70",
   "metadata": {},
   "source": [
    "Theo quan sát ở trên, ta thấy các cột có giá trị số không có giá trị thiếu. Mọi thứ trong có vẻ ổn."
   ]
  },
  {
   "cell_type": "markdown",
   "id": "6c4e27ea",
   "metadata": {},
   "source": [
    "### 4.2 Với các cột có giá trị categorical"
   ]
  },
  {
   "cell_type": "markdown",
   "id": "38d285e8",
   "metadata": {},
   "source": [
    "Các giá trị sẽ tính:\n",
    "- Tỉ lệ % (từ 0 đến 100) các giá trị thiếu \n",
    "- Số lượng các giá trị (các giá trị ở đây là các giá trị khác nhau và ta không xét giá trị thiếu)\n",
    "- Tỉ lệ % (từ 0 đến 100) của mỗi giá trị được sort theo tỉ lệ % giảm dần (ta không xét giá trị thiếu, tỉ lệ là tỉ lệ so với số lượng các giá trị không thiếu)"
   ]
  },
  {
   "cell_type": "code",
   "execution_count": 1356,
   "id": "f17da8ae",
   "metadata": {},
   "outputs": [
    {
     "data": {
      "text/html": [
       "<div>\n",
       "<style scoped>\n",
       "    .dataframe tbody tr th:only-of-type {\n",
       "        vertical-align: middle;\n",
       "    }\n",
       "\n",
       "    .dataframe tbody tr th {\n",
       "        vertical-align: top;\n",
       "    }\n",
       "\n",
       "    .dataframe thead th {\n",
       "        text-align: right;\n",
       "    }\n",
       "</style>\n",
       "<table border=\"1\" class=\"dataframe\">\n",
       "  <thead>\n",
       "    <tr style=\"text-align: right;\">\n",
       "      <th></th>\n",
       "      <th>city</th>\n",
       "      <th>gender</th>\n",
       "      <th>relevent_experience</th>\n",
       "      <th>enrolled_university</th>\n",
       "      <th>education_level</th>\n",
       "      <th>major_discipline</th>\n",
       "      <th>experience</th>\n",
       "      <th>company_size</th>\n",
       "      <th>company_type</th>\n",
       "      <th>last_new_job</th>\n",
       "    </tr>\n",
       "  </thead>\n",
       "  <tbody>\n",
       "    <tr>\n",
       "      <th>missing_ratio</th>\n",
       "      <td>0.0</td>\n",
       "      <td>23.53064</td>\n",
       "      <td>0.0</td>\n",
       "      <td>2.014824</td>\n",
       "      <td>2.401086</td>\n",
       "      <td>14.683161</td>\n",
       "      <td>0.339284</td>\n",
       "      <td>30.994885</td>\n",
       "      <td>32.049274</td>\n",
       "      <td>2.207955</td>\n",
       "    </tr>\n",
       "    <tr>\n",
       "      <th>num_values</th>\n",
       "      <td>123</td>\n",
       "      <td>3</td>\n",
       "      <td>2</td>\n",
       "      <td>3</td>\n",
       "      <td>5</td>\n",
       "      <td>6</td>\n",
       "      <td>6</td>\n",
       "      <td>8</td>\n",
       "      <td>6</td>\n",
       "      <td>6</td>\n",
       "    </tr>\n",
       "    <tr>\n",
       "      <th>value_ratios</th>\n",
       "      <td>{'city_103': 22.7, 'city_21': 14.1, 'city_16':...</td>\n",
       "      <td>{'Male': 90.2, 'Female': 8.5, 'Other': 1.3}</td>\n",
       "      <td>{'Has relevent experience': 72.0, 'No relevent...</td>\n",
       "      <td>{'no_enrollment': 73.6, 'Full time course': 20...</td>\n",
       "      <td>{'Graduate': 62.0, 'Masters': 23.3, 'High Scho...</td>\n",
       "      <td>{'STEM': 88.7, 'Humanities': 4.1, 'Other': 2.3...</td>\n",
       "      <td>{(1, 5): 30.7, (6, 10): 26.2, (21, 30): 17.2, ...</td>\n",
       "      <td>{'50-99': 23.3, '100-500': 19.4, '10000+': 15....</td>\n",
       "      <td>{'Pvt Ltd': 75.4, 'Funded Startup': 7.7, 'Publ...</td>\n",
       "      <td>{'1': 42.9, '&gt;4': 17.6, '2': 15.5, 'never': 13...</td>\n",
       "    </tr>\n",
       "  </tbody>\n",
       "</table>\n",
       "</div>"
      ],
      "text/plain": [
       "                                                            city  \\\n",
       "missing_ratio                                                0.0   \n",
       "num_values                                                   123   \n",
       "value_ratios   {'city_103': 22.7, 'city_21': 14.1, 'city_16':...   \n",
       "\n",
       "                                                    gender  \\\n",
       "missing_ratio                                     23.53064   \n",
       "num_values                                               3   \n",
       "value_ratios   {'Male': 90.2, 'Female': 8.5, 'Other': 1.3}   \n",
       "\n",
       "                                             relevent_experience  \\\n",
       "missing_ratio                                                0.0   \n",
       "num_values                                                     2   \n",
       "value_ratios   {'Has relevent experience': 72.0, 'No relevent...   \n",
       "\n",
       "                                             enrolled_university  \\\n",
       "missing_ratio                                           2.014824   \n",
       "num_values                                                     3   \n",
       "value_ratios   {'no_enrollment': 73.6, 'Full time course': 20...   \n",
       "\n",
       "                                                 education_level  \\\n",
       "missing_ratio                                           2.401086   \n",
       "num_values                                                     5   \n",
       "value_ratios   {'Graduate': 62.0, 'Masters': 23.3, 'High Scho...   \n",
       "\n",
       "                                                major_discipline  \\\n",
       "missing_ratio                                          14.683161   \n",
       "num_values                                                     6   \n",
       "value_ratios   {'STEM': 88.7, 'Humanities': 4.1, 'Other': 2.3...   \n",
       "\n",
       "                                                      experience  \\\n",
       "missing_ratio                                           0.339284   \n",
       "num_values                                                     6   \n",
       "value_ratios   {(1, 5): 30.7, (6, 10): 26.2, (21, 30): 17.2, ...   \n",
       "\n",
       "                                                    company_size  \\\n",
       "missing_ratio                                          30.994885   \n",
       "num_values                                                     8   \n",
       "value_ratios   {'50-99': 23.3, '100-500': 19.4, '10000+': 15....   \n",
       "\n",
       "                                                    company_type  \\\n",
       "missing_ratio                                          32.049274   \n",
       "num_values                                                     6   \n",
       "value_ratios   {'Pvt Ltd': 75.4, 'Funded Startup': 7.7, 'Publ...   \n",
       "\n",
       "                                                    last_new_job  \n",
       "missing_ratio                                           2.207955  \n",
       "num_values                                                     6  \n",
       "value_ratios   {'1': 42.9, '>4': 17.6, '2': 15.5, 'never': 13...  "
      ]
     },
     "execution_count": 1356,
     "metadata": {},
     "output_type": "execute_result"
    }
   ],
   "source": [
    "def missing_ratio(x):\n",
    "    return (x.isna().mean()*100)\n",
    "def num_values(x):\n",
    "    return len(x.dropna().value_counts())\n",
    "def value_ratios(x):\n",
    "    count_value =  x.dropna().value_counts().sort_values(ascending=False)\n",
    "    return (count_value/count_value.sum()*100).round(1).to_dict()\n",
    "cat_df_info = df.select_dtypes(include=\"object\").agg(func=[missing_ratio, num_values, value_ratios])\n",
    "cat_df_info"
   ]
  },
  {
   "cell_type": "markdown",
   "id": "9222aad9",
   "metadata": {},
   "source": [
    "Các cột gender, company_size, company_type đều có số lượng giá trị thiếu khá lớn, trên 22%. Các số liệu khác trong có vẻ ổn"
   ]
  },
  {
   "cell_type": "markdown",
   "id": "b0be5cbb",
   "metadata": {},
   "source": [
    "### 5. Tiền xử lí dữ liệu"
   ]
  },
  {
   "cell_type": "code",
   "execution_count": 1357,
   "id": "05b02de3",
   "metadata": {},
   "outputs": [
    {
     "name": "stdout",
     "output_type": "stream",
     "text": [
      "<class 'pandas.core.frame.DataFrame'>\n",
      "RangeIndex: 19158 entries, 0 to 19157\n",
      "Data columns (total 14 columns):\n",
      " #   Column                  Non-Null Count  Dtype  \n",
      "---  ------                  --------------  -----  \n",
      " 0   enrollee_id             19158 non-null  int64  \n",
      " 1   city                    19158 non-null  object \n",
      " 2   city_development_index  19158 non-null  float64\n",
      " 3   gender                  14650 non-null  object \n",
      " 4   relevent_experience     19158 non-null  object \n",
      " 5   enrolled_university     18772 non-null  object \n",
      " 6   education_level         18698 non-null  object \n",
      " 7   major_discipline        16345 non-null  object \n",
      " 8   experience              19093 non-null  object \n",
      " 9   company_size            13220 non-null  object \n",
      " 10  company_type            13018 non-null  object \n",
      " 11  last_new_job            18735 non-null  object \n",
      " 12  training_hours          19158 non-null  int64  \n",
      " 13  target                  19158 non-null  float64\n",
      "dtypes: float64(2), int64(2), object(10)\n",
      "memory usage: 2.0+ MB\n"
     ]
    }
   ],
   "source": [
    "df.info()"
   ]
  },
  {
   "cell_type": "markdown",
   "id": "c9407686",
   "metadata": {},
   "source": [
    "Số lượng giá trị bị thiếu."
   ]
  },
  {
   "cell_type": "code",
   "execution_count": 1358,
   "id": "5700dc62",
   "metadata": {},
   "outputs": [
    {
     "data": {
      "text/plain": [
       "enrollee_id                  0\n",
       "city                         0\n",
       "city_development_index       0\n",
       "gender                    4508\n",
       "relevent_experience          0\n",
       "enrolled_university        386\n",
       "education_level            460\n",
       "major_discipline          2813\n",
       "experience                  65\n",
       "company_size              5938\n",
       "company_type              6140\n",
       "last_new_job               423\n",
       "training_hours               0\n",
       "target                       0\n",
       "dtype: int64"
      ]
     },
     "execution_count": 1358,
     "metadata": {},
     "output_type": "execute_result"
    }
   ],
   "source": [
    "df.isnull().sum()"
   ]
  },
  {
   "cell_type": "markdown",
   "id": "7c0011cc",
   "metadata": {},
   "source": [
    "Ta thấy có khá nhiều giá trị bị thiếu và đa số đều là categorical. Vì vậy, ta sẽ xóa các dòng bị thiếu."
   ]
  },
  {
   "cell_type": "code",
   "execution_count": 1359,
   "id": "414cde4c",
   "metadata": {},
   "outputs": [
    {
     "data": {
      "text/html": [
       "<div>\n",
       "<style scoped>\n",
       "    .dataframe tbody tr th:only-of-type {\n",
       "        vertical-align: middle;\n",
       "    }\n",
       "\n",
       "    .dataframe tbody tr th {\n",
       "        vertical-align: top;\n",
       "    }\n",
       "\n",
       "    .dataframe thead th {\n",
       "        text-align: right;\n",
       "    }\n",
       "</style>\n",
       "<table border=\"1\" class=\"dataframe\">\n",
       "  <thead>\n",
       "    <tr style=\"text-align: right;\">\n",
       "      <th></th>\n",
       "      <th>enrollee_id</th>\n",
       "      <th>city</th>\n",
       "      <th>city_development_index</th>\n",
       "      <th>gender</th>\n",
       "      <th>relevent_experience</th>\n",
       "      <th>enrolled_university</th>\n",
       "      <th>education_level</th>\n",
       "      <th>major_discipline</th>\n",
       "      <th>experience</th>\n",
       "      <th>company_size</th>\n",
       "      <th>company_type</th>\n",
       "      <th>last_new_job</th>\n",
       "      <th>training_hours</th>\n",
       "      <th>target</th>\n",
       "    </tr>\n",
       "  </thead>\n",
       "  <tbody>\n",
       "    <tr>\n",
       "      <th>1</th>\n",
       "      <td>29725</td>\n",
       "      <td>city_40</td>\n",
       "      <td>0.776</td>\n",
       "      <td>Male</td>\n",
       "      <td>No relevent experience</td>\n",
       "      <td>no_enrollment</td>\n",
       "      <td>Graduate</td>\n",
       "      <td>STEM</td>\n",
       "      <td>(11, 15)</td>\n",
       "      <td>50-99</td>\n",
       "      <td>Pvt Ltd</td>\n",
       "      <td>&gt;4</td>\n",
       "      <td>47</td>\n",
       "      <td>0.0</td>\n",
       "    </tr>\n",
       "    <tr>\n",
       "      <th>4</th>\n",
       "      <td>666</td>\n",
       "      <td>city_162</td>\n",
       "      <td>0.767</td>\n",
       "      <td>Male</td>\n",
       "      <td>Has relevent experience</td>\n",
       "      <td>no_enrollment</td>\n",
       "      <td>Masters</td>\n",
       "      <td>STEM</td>\n",
       "      <td>(21, 30)</td>\n",
       "      <td>50-99</td>\n",
       "      <td>Funded Startup</td>\n",
       "      <td>4</td>\n",
       "      <td>8</td>\n",
       "      <td>0.0</td>\n",
       "    </tr>\n",
       "    <tr>\n",
       "      <th>7</th>\n",
       "      <td>402</td>\n",
       "      <td>city_46</td>\n",
       "      <td>0.762</td>\n",
       "      <td>Male</td>\n",
       "      <td>Has relevent experience</td>\n",
       "      <td>no_enrollment</td>\n",
       "      <td>Graduate</td>\n",
       "      <td>STEM</td>\n",
       "      <td>(11, 15)</td>\n",
       "      <td>&lt;10</td>\n",
       "      <td>Pvt Ltd</td>\n",
       "      <td>&gt;4</td>\n",
       "      <td>18</td>\n",
       "      <td>1.0</td>\n",
       "    </tr>\n",
       "    <tr>\n",
       "      <th>8</th>\n",
       "      <td>27107</td>\n",
       "      <td>city_103</td>\n",
       "      <td>0.920</td>\n",
       "      <td>Male</td>\n",
       "      <td>Has relevent experience</td>\n",
       "      <td>no_enrollment</td>\n",
       "      <td>Graduate</td>\n",
       "      <td>STEM</td>\n",
       "      <td>(6, 10)</td>\n",
       "      <td>50-99</td>\n",
       "      <td>Pvt Ltd</td>\n",
       "      <td>1</td>\n",
       "      <td>46</td>\n",
       "      <td>1.0</td>\n",
       "    </tr>\n",
       "    <tr>\n",
       "      <th>11</th>\n",
       "      <td>23853</td>\n",
       "      <td>city_103</td>\n",
       "      <td>0.920</td>\n",
       "      <td>Male</td>\n",
       "      <td>Has relevent experience</td>\n",
       "      <td>no_enrollment</td>\n",
       "      <td>Graduate</td>\n",
       "      <td>STEM</td>\n",
       "      <td>(1, 5)</td>\n",
       "      <td>5000-9999</td>\n",
       "      <td>Pvt Ltd</td>\n",
       "      <td>1</td>\n",
       "      <td>108</td>\n",
       "      <td>0.0</td>\n",
       "    </tr>\n",
       "    <tr>\n",
       "      <th>...</th>\n",
       "      <td>...</td>\n",
       "      <td>...</td>\n",
       "      <td>...</td>\n",
       "      <td>...</td>\n",
       "      <td>...</td>\n",
       "      <td>...</td>\n",
       "      <td>...</td>\n",
       "      <td>...</td>\n",
       "      <td>...</td>\n",
       "      <td>...</td>\n",
       "      <td>...</td>\n",
       "      <td>...</td>\n",
       "      <td>...</td>\n",
       "      <td>...</td>\n",
       "    </tr>\n",
       "    <tr>\n",
       "      <th>19147</th>\n",
       "      <td>21319</td>\n",
       "      <td>city_21</td>\n",
       "      <td>0.624</td>\n",
       "      <td>Male</td>\n",
       "      <td>No relevent experience</td>\n",
       "      <td>Full time course</td>\n",
       "      <td>Graduate</td>\n",
       "      <td>STEM</td>\n",
       "      <td>(1, 5)</td>\n",
       "      <td>100-500</td>\n",
       "      <td>Pvt Ltd</td>\n",
       "      <td>1</td>\n",
       "      <td>52</td>\n",
       "      <td>1.0</td>\n",
       "    </tr>\n",
       "    <tr>\n",
       "      <th>19149</th>\n",
       "      <td>251</td>\n",
       "      <td>city_103</td>\n",
       "      <td>0.920</td>\n",
       "      <td>Male</td>\n",
       "      <td>Has relevent experience</td>\n",
       "      <td>no_enrollment</td>\n",
       "      <td>Masters</td>\n",
       "      <td>STEM</td>\n",
       "      <td>(6, 10)</td>\n",
       "      <td>50-99</td>\n",
       "      <td>Pvt Ltd</td>\n",
       "      <td>1</td>\n",
       "      <td>36</td>\n",
       "      <td>1.0</td>\n",
       "    </tr>\n",
       "    <tr>\n",
       "      <th>19150</th>\n",
       "      <td>32313</td>\n",
       "      <td>city_160</td>\n",
       "      <td>0.920</td>\n",
       "      <td>Female</td>\n",
       "      <td>Has relevent experience</td>\n",
       "      <td>no_enrollment</td>\n",
       "      <td>Graduate</td>\n",
       "      <td>STEM</td>\n",
       "      <td>(6, 10)</td>\n",
       "      <td>100-500</td>\n",
       "      <td>Public Sector</td>\n",
       "      <td>3</td>\n",
       "      <td>23</td>\n",
       "      <td>0.0</td>\n",
       "    </tr>\n",
       "    <tr>\n",
       "      <th>19152</th>\n",
       "      <td>29754</td>\n",
       "      <td>city_103</td>\n",
       "      <td>0.920</td>\n",
       "      <td>Female</td>\n",
       "      <td>Has relevent experience</td>\n",
       "      <td>no_enrollment</td>\n",
       "      <td>Graduate</td>\n",
       "      <td>Humanities</td>\n",
       "      <td>(6, 10)</td>\n",
       "      <td>10/49</td>\n",
       "      <td>Funded Startup</td>\n",
       "      <td>1</td>\n",
       "      <td>25</td>\n",
       "      <td>0.0</td>\n",
       "    </tr>\n",
       "    <tr>\n",
       "      <th>19155</th>\n",
       "      <td>24576</td>\n",
       "      <td>city_103</td>\n",
       "      <td>0.920</td>\n",
       "      <td>Male</td>\n",
       "      <td>Has relevent experience</td>\n",
       "      <td>no_enrollment</td>\n",
       "      <td>Graduate</td>\n",
       "      <td>STEM</td>\n",
       "      <td>(21, 30)</td>\n",
       "      <td>50-99</td>\n",
       "      <td>Pvt Ltd</td>\n",
       "      <td>4</td>\n",
       "      <td>44</td>\n",
       "      <td>0.0</td>\n",
       "    </tr>\n",
       "  </tbody>\n",
       "</table>\n",
       "<p>9518 rows × 14 columns</p>\n",
       "</div>"
      ],
      "text/plain": [
       "       enrollee_id      city  city_development_index  gender  \\\n",
       "1            29725   city_40                   0.776    Male   \n",
       "4              666  city_162                   0.767    Male   \n",
       "7              402   city_46                   0.762    Male   \n",
       "8            27107  city_103                   0.920    Male   \n",
       "11           23853  city_103                   0.920    Male   \n",
       "...            ...       ...                     ...     ...   \n",
       "19147        21319   city_21                   0.624    Male   \n",
       "19149          251  city_103                   0.920    Male   \n",
       "19150        32313  city_160                   0.920  Female   \n",
       "19152        29754  city_103                   0.920  Female   \n",
       "19155        24576  city_103                   0.920    Male   \n",
       "\n",
       "           relevent_experience enrolled_university education_level  \\\n",
       "1       No relevent experience       no_enrollment        Graduate   \n",
       "4      Has relevent experience       no_enrollment         Masters   \n",
       "7      Has relevent experience       no_enrollment        Graduate   \n",
       "8      Has relevent experience       no_enrollment        Graduate   \n",
       "11     Has relevent experience       no_enrollment        Graduate   \n",
       "...                        ...                 ...             ...   \n",
       "19147   No relevent experience    Full time course        Graduate   \n",
       "19149  Has relevent experience       no_enrollment         Masters   \n",
       "19150  Has relevent experience       no_enrollment        Graduate   \n",
       "19152  Has relevent experience       no_enrollment        Graduate   \n",
       "19155  Has relevent experience       no_enrollment        Graduate   \n",
       "\n",
       "      major_discipline experience company_size    company_type last_new_job  \\\n",
       "1                 STEM   (11, 15)        50-99         Pvt Ltd           >4   \n",
       "4                 STEM   (21, 30)        50-99  Funded Startup            4   \n",
       "7                 STEM   (11, 15)          <10         Pvt Ltd           >4   \n",
       "8                 STEM    (6, 10)        50-99         Pvt Ltd            1   \n",
       "11                STEM     (1, 5)    5000-9999         Pvt Ltd            1   \n",
       "...                ...        ...          ...             ...          ...   \n",
       "19147             STEM     (1, 5)      100-500         Pvt Ltd            1   \n",
       "19149             STEM    (6, 10)        50-99         Pvt Ltd            1   \n",
       "19150             STEM    (6, 10)      100-500   Public Sector            3   \n",
       "19152       Humanities    (6, 10)        10/49  Funded Startup            1   \n",
       "19155             STEM   (21, 30)        50-99         Pvt Ltd            4   \n",
       "\n",
       "       training_hours  target  \n",
       "1                  47     0.0  \n",
       "4                   8     0.0  \n",
       "7                  18     1.0  \n",
       "8                  46     1.0  \n",
       "11                108     0.0  \n",
       "...               ...     ...  \n",
       "19147              52     1.0  \n",
       "19149              36     1.0  \n",
       "19150              23     0.0  \n",
       "19152              25     0.0  \n",
       "19155              44     0.0  \n",
       "\n",
       "[9518 rows x 14 columns]"
      ]
     },
     "execution_count": 1359,
     "metadata": {},
     "output_type": "execute_result"
    }
   ],
   "source": [
    "mask = df['last_new_job'] == 'never'\n",
    "df.loc[mask,[\"company_size\",\"company_type\"]] = \"None\"\n",
    "df.dropna(inplace=True)\n",
    "df"
   ]
  },
  {
   "cell_type": "markdown",
   "id": "7b0ac07b",
   "metadata": {},
   "source": [
    "Số lượng dòng bị thiếu khá nhiều, khoảng 1/2 của dữ liệu."
   ]
  },
  {
   "cell_type": "markdown",
   "id": "c8933858",
   "metadata": {},
   "source": [
    "## C. Đưa ra các câu hỏi có ý nghĩa cần trả lời"
   ]
  },
  {
   "cell_type": "markdown",
   "id": "ff223113",
   "metadata": {},
   "source": [
    "### 1. Tỉ lệ Data Scientists trên 5 năm kinh nghiệm đang tìm kiếm công việc mới trong Top 5 thành phố phát triển nhất?"
   ]
  },
  {
   "cell_type": "markdown",
   "id": "ea6ac41c",
   "metadata": {},
   "source": [
    "Lợi ích khi trả lời được câu hỏi:\n",
    "- Với vai trò là doanh nghiệp sẽ biết thêm thông tin để thay đổi chính sách đãi ngộ hay điều chỉnh môi trường làm việc để giữ chân các nhân viên tài năng của minh.\n",
    "- Liệu các Data Scientists nhiều năm kinh nghiệm có nhu cầu tìm kiếm thách thức mới cho bản thân mình.\n",
    "- Thị trường việc làm về Data Scientist ở trong Top 5 thành phố phát triển nhất."
   ]
  },
  {
   "cell_type": "markdown",
   "id": "d159fbf6",
   "metadata": {},
   "source": [
    "### 2. Số năm kinh nghiệm và kinh nghiệm có liên quan đến DS ảnh hưởng thế nào đến quyết định có nhảy việc không của người tham gia đào tạo?"
   ]
  },
  {
   "cell_type": "markdown",
   "id": "39281de4",
   "metadata": {},
   "source": [
    "**Lợi ích khi trả lời được câu hỏi:** Khi trả lời được câu hỏi công ty có thể đánh giá được đâu là một ứng viên tiềm năng muốn làm việc cho công ty dựa vào số năm kinh nghiệm và kinh nghiệm có liên quan đến DS của ứng viên để "
   ]
  },
  {
   "cell_type": "markdown",
   "id": "2b609caa",
   "metadata": {},
   "source": [
    "### 3. Có sự chênh lệch trình độ học vấn giữa nam và nữ hay không? Điều này có ảnh hưởng tới chỉ số phát triển của thành phố nơi mà họ làm việc?\n",
    "\n",
    "**Lợi ích khi trả lời được câu hỏi:** Khi trả lời được câu hỏi có thể thống kê được sự phân bố của các ứng viên tới các thành phố có chỉ số phát triển cao hay thấp liên quan tới trình độ học vấn của các ứng viên phân nhóm theo giới tính"
   ]
  },
  {
   "cell_type": "markdown",
   "id": "de6bc346",
   "metadata": {},
   "source": [
    "### 4. Trình độ học vấn và kinh nghiệm làm việc của ứng viên tại các công ty lớn?\n",
    "**Lợi ích khi trả lời được câu hỏi:**\n",
    "\n",
    "  - Chúng ta sẽ biết được trình độ học vấn và kinh nghiệm hiện tại của ứng viên đó có xứng đáng để làm việc tại các công ty lớn hay không.\n",
    "\n",
    "  - Công ty lớn sẽ ưu tiên những ứng viên có trình độ học vấn và kinh nghiệm ra sao.\n",
    " \n",
    "  - Công ty lớn có nhận lao động phổ thông nhiều hay không.\n",
    "### 5. Sau khi hoàn thành huấn luyện ở các công ty nhỏ, ứng viên có quyết định nhảy việc hay không?\n",
    "**Lợi ích khi trả lời được câu hỏi:**\n",
    "  - Sau khi đã trải qua quá trình huấn luyện và làm việc tại các công ty nhỏ, các ứng viên sẽ ưu tiên nhảy việc để tìm bến đỗ tốt hơn hay ở lại và tiếp tục cống hiến\n",
    "\n",
    "  - Các ứng viên kiên trì như thế nào với công ty có quy mô nhỏ như hiện tại.\n",
    "\n",
    "  - Chúng ta sẽ nắm được phần nào suy nghĩ của các ứng viên đó về công ty như: chế độ đãi ngộ nhân sự, thái độ của người sử dụng lao động,..."
   ]
  },
  {
   "cell_type": "markdown",
   "id": "af943b52",
   "metadata": {},
   "source": [
    "## D. Tiền xử lý và phân tích dữ liệu để trả lời cho từng câu hỏi"
   ]
  },
  {
   "cell_type": "markdown",
   "id": "a1027a91",
   "metadata": {},
   "source": [
    "<h3 style='color:red; font-size:25px'> 1. Tỉ lệ Data Scientists trên 5 năm kinh nghiệm đang tìm kiếm công việc mới trong Top 5 thành phố phát triển nhất? </h3>"
   ]
  },
  {
   "cell_type": "markdown",
   "id": "a5c8db31",
   "metadata": {},
   "source": [
    "<h3 style='color:#6ac61f'> Bước 1: Tìm Top 5 thành phố phát triển nhất dựa trên \"city_development_index\" và gán vào biến top_5_city</h3>"
   ]
  },
  {
   "cell_type": "markdown",
   "id": "c38bfbfa",
   "metadata": {},
   "source": [
    "Sort giảm dần theo \"city_development_index\""
   ]
  },
  {
   "cell_type": "code",
   "execution_count": 1360,
   "id": "5f5cfaa9",
   "metadata": {},
   "outputs": [],
   "source": [
    "sorted_city = df.sort_values(\"city_development_index\", ascending=False).drop_duplicates(subset=[\"city\"])"
   ]
  },
  {
   "cell_type": "markdown",
   "id": "756bd5e8",
   "metadata": {},
   "source": [
    "Lấy ra tên top 5 thành phố phát triển nhất và gán vào top_5_city"
   ]
  },
  {
   "cell_type": "code",
   "execution_count": 1361,
   "id": "5e614565",
   "metadata": {},
   "outputs": [],
   "source": [
    "top_5_city = sorted_city.head().city"
   ]
  },
  {
   "cell_type": "markdown",
   "id": "6097f265",
   "metadata": {},
   "source": [
    "Trực quan hóa top 5 most developed cities"
   ]
  },
  {
   "cell_type": "code",
   "execution_count": 1362,
   "id": "ac8069fa",
   "metadata": {},
   "outputs": [
    {
     "data": {
      "image/png": "[encoded data removed]",
      "text/plain": [
       "<Figure size 432x288 with 1 Axes>"
      ]
     },
     "metadata": {},
     "output_type": "display_data"
    }
   ],
   "source": [
    "sns.barplot(data=sorted_city.head(5), x='city', y='city_development_index')\n",
    "plt.ylim(0.9, 0.96)\n",
    "plt.title(\"Top 5 most developed cities\");"
   ]
  },
  {
   "cell_type": "markdown",
   "id": "35c9e189",
   "metadata": {},
   "source": [
    "<h3 style='color:#6ac61f'> Bước 2: Tìm các Data Scientists trên 5 năm kinh nghiệm trong Top 5 thành phố phát triển nhất và gán vào biến DS_developed_city</h3>"
   ]
  },
  {
   "cell_type": "code",
   "execution_count": 1363,
   "id": "a6ebed6a",
   "metadata": {},
   "outputs": [],
   "source": [
    "DS_developed_city = df[(df[\"city\"].isin(top_5_city)) & (df['experience']>(5,))]"
   ]
  },
  {
   "cell_type": "markdown",
   "id": "ea81f799",
   "metadata": {},
   "source": [
    "<h3 style='color:#6ac61f'> Bước 3: Tính tỉ lệ các Data Scientists ở trên tìm kiếm công việc mới</h3>"
   ]
  },
  {
   "cell_type": "markdown",
   "id": "143718d8",
   "metadata": {},
   "source": [
    "Tính số lượng Data Scientists tìm kiếm công việc mới và tiếp tục làm công việc hiện tại"
   ]
  },
  {
   "cell_type": "code",
   "execution_count": 1364,
   "id": "58dad214",
   "metadata": {},
   "outputs": [],
   "source": [
    "ds_target = DS_developed_city.groupby(\"target\").size()"
   ]
  },
  {
   "cell_type": "markdown",
   "id": "0ab356e5",
   "metadata": {},
   "source": [
    "Tính tỉ lệ phần trăm các Data Scientists ở trên tìm kiếm công việc mới"
   ]
  },
  {
   "cell_type": "code",
   "execution_count": 1365,
   "id": "c6ca27ab",
   "metadata": {},
   "outputs": [],
   "source": [
    "percentage_ds_target = ds_target / len(DS_developed_city) * 100\n",
    "percentage_ds_target = percentage_ds_target.rename({0: \"Không nhảy việc\", 1:\"Nhảy việc\"})"
   ]
  },
  {
   "cell_type": "markdown",
   "id": "c823d815",
   "metadata": {},
   "source": [
    "<h3 style='color:#6ac61f'> Trực quan hóa</h3>"
   ]
  },
  {
   "cell_type": "code",
   "execution_count": 1366,
   "id": "88a1d2b0",
   "metadata": {},
   "outputs": [
    {
     "data": {
      "image/png": "[encoded data removed]",
      "text/plain": [
       "<Figure size 432x288 with 1 Axes>"
      ]
     },
     "metadata": {},
     "output_type": "display_data"
    }
   ],
   "source": [
    "palette_color = sns.color_palette('bright')\n",
    "labels = percentage_ds_target.index\n",
    "plt.pie(percentage_ds_target,labels=labels, colors=palette_color, autopct='%.0f%%')\n",
    "plt.title(\"Tỉ lệ Data Scientists trên 5 năm kinh nghiệm đang tìm kiếm công việc mới trong Top 5 thành phố phát triển nhất\");"
   ]
  },
  {
   "cell_type": "markdown",
   "id": "d13b8236",
   "metadata": {},
   "source": [
    "<h3 style='color:#6ac61f; line-height: 1.5;'>🤔🤔🤔 Từ biểu đồ trên ở tỉ lệ các Data Scientists trên 5 năm kinh nghiệm ở các thành phố phát triển đang tìm kiếm công việc mới rất thấp.\n",
    "</h3>"
   ]
  },
  {
   "cell_type": "markdown",
   "id": "3fc459d4",
   "metadata": {},
   "source": [
    "<h3 style='color:red; font-size:25px'> 2 Số năm kinh nghiệm và kinh nghiệm có liên quan đến DS ảnh hưởng thế nào đến quyết định có nhảy việc không của người tham gia đào tạo? </h3>"
   ]
  },
  {
   "cell_type": "markdown",
   "id": "30a8356e",
   "metadata": {},
   "source": [
    "<h3 style='color:red; font-size:25px'> 2.1 Tương quan giữa số năm kinh nghiệm và quyết định nhảy việc </h3>"
   ]
  },
  {
   "cell_type": "markdown",
   "id": "ba099d72",
   "metadata": {},
   "source": [
    "<h3 style='color:#6ac61f'> Bước 1: Tính phần trăm người quyết định nhảy việc so với tổng số người trong cùng khoảng số năm kinh nghiệm </h3>"
   ]
  },
  {
   "cell_type": "markdown",
   "id": "138e752e",
   "metadata": {},
   "source": [
    "+ 1. Tính số lượng người trong mỗi khoảng năm kinh nghiệm vào series `experience_total`\n",
    "+ 2. Tính số lượng người có quyết định nhảy việc vào series `experience_change`\n",
    "+ 3. Tính phần trăm số lượng người quyết định nhảy việc so với tổng số người trong cùng một khoảng số năm kinh nghiệm vào series `experience_change_percent`"
   ]
  },
  {
   "cell_type": "code",
   "execution_count": 1367,
   "id": "683f4adb",
   "metadata": {},
   "outputs": [
    {
     "data": {
      "text/plain": [
       "experience\n",
       "(0, 1)      0.496063\n",
       "(1, 5)      0.296614\n",
       "(6, 10)     0.209347\n",
       "(11, 15)    0.136962\n",
       "(16, 20)    0.101147\n",
       "(21, 30)    0.077888\n",
       "Name: experience, dtype: float64"
      ]
     },
     "execution_count": 1367,
     "metadata": {},
     "output_type": "execute_result"
    }
   ],
   "source": [
    "#Tính số lượng người trong mỗi khoảng năm kinh nghiệm\n",
    "experience_total = df.groupby('experience')['experience'].size()\n",
    "\n",
    "#Tính số lượng người có quyết định nhảy việc\n",
    "mask = df['target'] == 1 \n",
    "experience_change = df[mask].groupby('experience')['experience'].size()\n",
    "\n",
    "#Tính phần trăm \n",
    "experience_change_percent = experience_change/experience_total\n",
    "\n",
    "experience_change_percent"
   ]
  },
  {
   "cell_type": "markdown",
   "id": "6155d78d",
   "metadata": {},
   "source": [
    "<h3 style='color:#6ac61f'> Bước 2: Trực quan </h3>"
   ]
  },
  {
   "cell_type": "markdown",
   "id": "f8d36068",
   "metadata": {},
   "source": [
    "Ta sẽ trực quan mối tương quan giữa số năm kinh nghiệm và quyết định nhảy việc bằng đồ thị dạng cột, với:\n",
    "+ Trục hoành thể hiện số năm kinh nghiệm\n",
    "+ Trục tung thể hiện phần trăm số người quyết định nhảy việc so với tổng số người trong cùng một khoảng số năm kinh nghiệm"
   ]
  },
  {
   "cell_type": "code",
   "execution_count": 1368,
   "id": "252927a0",
   "metadata": {},
   "outputs": [
    {
     "data": {
      "image/png": "[encoded data removed]",
      "text/plain": [
       "<Figure size 720x504 with 1 Axes>"
      ]
     },
     "metadata": {},
     "output_type": "display_data"
    }
   ],
   "source": [
    "plt.figure(figsize=(10,7))\n",
    "\n",
    "sns.barplot(x = experience_change_percent.index, y = experience_change_percent.values)\n",
    "\n",
    "plt.title('Phần trăm số người nhảy việc so với tổng số người trong cùng khoảng số năm kinh nghiệm', fontsize=14)\n",
    "plt.xlabel('Số năm kinh nghiệm', fontsize=14)\n",
    "plt.ylabel('Phần trăm(%)', fontsize=14)\n",
    "plt.grid(True)\n",
    "\n",
    "plt.show()"
   ]
  },
  {
   "cell_type": "markdown",
   "id": "2ad35aa6",
   "metadata": {},
   "source": [
    "<h3 style='color:#6ac61f; line-height: 1.5;'>🤔🤔🤔 Từ biểu đồ trên ta có thể thấy một ứng viên có số năm kinh nghiệm càng cao thì khả năng ứng viên đó nhảy việc càng thấp. Điều này có thể dự đoán là bởi khi một người có số năm kinh nghiệm và tuổi càng tăng lên họ sẽ muốn một công việc ổn định bởi cơ hội và khả năng thăng tiến cũng giảm dần.\n",
    "</h3>"
   ]
  },
  {
   "cell_type": "markdown",
   "id": "d86cc4f3",
   "metadata": {},
   "source": [
    "---"
   ]
  },
  {
   "cell_type": "markdown",
   "id": "48930b33",
   "metadata": {},
   "source": [
    "<h3 style='color:red; font-size:25px'> 2.2 Tương quan giữa kinh nghiệm liên quan đến DS và quyết định nhảy việc </h3>"
   ]
  },
  {
   "cell_type": "markdown",
   "id": "acd9c0c2",
   "metadata": {},
   "source": [
    "<h3 style='color:#6ac61f'> Bước 1: Tính phần trăm nhảy việc so với tổng số người có kinh nghiệm hoặc không có kinh nghiệm liên quan đến DS </h3>"
   ]
  },
  {
   "cell_type": "markdown",
   "id": "2ba5e837",
   "metadata": {},
   "source": [
    "+ 1. Tính số lượng người có kinh nghiệm và không có kinh nghiệm DS vào series `sr_total`\n",
    "+ 2. Tính số lượng người có quyết định nhảy việc có kinh nghiệm và không có kinh nghiệm DS vào series `sr_change`\n",
    "+ 3. Tính phần trăm nhảy việc so với tổng số người có kinh nghiệm hoặc không có kinh nghiệm liên quan đến DS vào series `sr_change_percent`"
   ]
  },
  {
   "cell_type": "code",
   "execution_count": 1369,
   "id": "d9e55fab",
   "metadata": {},
   "outputs": [
    {
     "data": {
      "text/plain": [
       "relevent_experience\n",
       "Has relevent experience    16.374122\n",
       "No relevent experience     28.534371\n",
       "dtype: float64"
      ]
     },
     "execution_count": 1369,
     "metadata": {},
     "output_type": "execute_result"
    }
   ],
   "source": [
    "#Tính số lượng người có kinh nghiệm và không có kinh nghiệm DS \n",
    "sr_total = df[['relevent_experience']].groupby('relevent_experience').size()\n",
    "\n",
    "#Tính số lượng người có quyết định nhảy việc có kinh nghiệm và không có kinh nghiệm DS\n",
    "mask = df['target'] == 1\n",
    "sr_change = df.loc[mask,['relevent_experience']].groupby('relevent_experience').size()\n",
    "\n",
    "#Tính phần trăm nhảy việc so với tổng số người có kinh nghiệm hoặc không có kinh nghiệm liên quan đến DS\n",
    "sr_change_percent = sr_change/sr_total * 100\n",
    "sr_change_percent"
   ]
  },
  {
   "cell_type": "markdown",
   "id": "d64a7925",
   "metadata": {},
   "source": [
    "<h3 style='color:#6ac61f'> Bước 2: Trực quan </h3>"
   ]
  },
  {
   "cell_type": "markdown",
   "id": "b6cb2a24",
   "metadata": {},
   "source": [
    "Ta sẽ trực quan mối tương quan giữa kinh nghiệm liên quan đến DS và quyết định nhảy việc bằng đồ thị dạng cột, với:\n",
    "+ Trục hoành gồm 2 cột `Has relevent experience` và `No relevent experience`\n",
    "+ Trục tung thể hiện phần trăm"
   ]
  },
  {
   "cell_type": "code",
   "execution_count": 1370,
   "id": "c3a05534",
   "metadata": {
    "scrolled": false
   },
   "outputs": [
    {
     "data": {
      "image/png": "[encoded data removed]",
      "text/plain": [
       "<Figure size 720x504 with 1 Axes>"
      ]
     },
     "metadata": {},
     "output_type": "display_data"
    }
   ],
   "source": [
    "plt.figure(figsize=(10,7))\n",
    "\n",
    "sns.barplot(x=sr_change_percent.index, y=sr_change_percent.values, color=\"#6ac61f\")\n",
    "\n",
    "plt.title('Tương quan giữa kinh nghiệm liên quan đến DS và quyết định nhảy việc', fontsize=12)\n",
    "plt.xlabel('Kinh nghiệm liên quan đến DS', fontsize=12)\n",
    "plt.ylabel('Phần trăm(%)', fontsize=12)\n",
    "plt.grid(True)\n",
    "\n",
    "plt.show()"
   ]
  },
  {
   "cell_type": "markdown",
   "id": "5e0fe942",
   "metadata": {},
   "source": [
    "<h3 style='color:#6ac61f; line-height: 1.5;'>🧐🧐🧐 Từ biểu đồ trên ta có thể thấy phần trăm những người không có kinh nghiệm liên quan đến DS có mong muốn nhảy việc cao hơn những người có kinh nghiệm khoảng 10%.\n",
    "</h3>"
   ]
  },
  {
   "cell_type": "markdown",
   "id": "fc9d386a",
   "metadata": {},
   "source": [
    "<h3 style='color:red; font-size:25px'> 3. Có sự chênh lệch trình độ học vấn giữa nam và nữ hay không? \n",
    "Điều này có ảnh hưởng tới chỉ số phát triển của thành phố nơi mà họ làm việc? </h3>"
   ]
  },
  {
   "cell_type": "markdown",
   "id": "c75f5c30",
   "metadata": {},
   "source": [
    "<h3 style='color:#6ac61f'> Bước 1: Thống kê số lượng các ứng viên theo giới tính </h3>\n",
    "\n",
    "```num_applicants_by_gender``` thống kê số lượng ứng viên phân nhóm theo từng giới tính"
   ]
  },
  {
   "cell_type": "code",
   "execution_count": 1371,
   "id": "41805c75",
   "metadata": {},
   "outputs": [
    {
     "data": {
      "text/plain": [
       "gender\n",
       "Female     857\n",
       "Male      8572\n",
       "Other       89\n",
       "dtype: int64"
      ]
     },
     "execution_count": 1371,
     "metadata": {},
     "output_type": "execute_result"
    }
   ],
   "source": [
    "num_applicants_by_gender = df.groupby('gender').size()\n",
    "num_applicants_by_gender"
   ]
  },
  {
   "cell_type": "markdown",
   "id": "9ca20cf2",
   "metadata": {},
   "source": [
    "Ta thấy số lượng ứng viên nam có 1 sự chênh lệch rõ rệt so với số lượng ứng viên với các giới tính khác<br>\n",
    "Để tìm hiểu sâu hơn ta tiến hành thống kê trình độ học vấn của các ứng viên theo giới tính\n",
    "\n",
    "<h3 style='color:#6ac61f'> Bước 2: Thống kê trình độ học vấn của các ứng viên theo giới tính </h3><br>\n",
    "```studies_by_gender``` sẽ phân loại trình độ học vấn theo giới tính"
   ]
  },
  {
   "cell_type": "code",
   "execution_count": 1372,
   "id": "c9a4636e",
   "metadata": {},
   "outputs": [
    {
     "data": {
      "text/plain": [
       "gender  education_level\n",
       "Female  Graduate            571\n",
       "        Masters             244\n",
       "        Phd                  42\n",
       "Male    Graduate           6095\n",
       "        Masters            2260\n",
       "        Phd                 217\n",
       "Other   Graduate             73\n",
       "        Masters              16\n",
       "dtype: int64"
      ]
     },
     "execution_count": 1372,
     "metadata": {},
     "output_type": "execute_result"
    }
   ],
   "source": [
    "studies_by_gender = df.groupby(['gender', 'education_level']).size()\n",
    "studies_by_gender"
   ]
  },
  {
   "cell_type": "markdown",
   "id": "1eada34f",
   "metadata": {},
   "source": [
    "<h3 style='color:#6ac61f'> Bước 3: Tính tỉ lệ trình độ học vấn </h3>\n",
    "\n",
    "DataFrame ```education_ratio``` gồm 3 cột ứng với giới tính và 3 dòng ứng với trình độ học vấn lưu tỉ lệ trình độ học vấn theo giới tính (từ 0 đến 100)"
   ]
  },
  {
   "cell_type": "code",
   "execution_count": 1373,
   "id": "94132d79",
   "metadata": {},
   "outputs": [
    {
     "data": {
      "text/html": [
       "<div>\n",
       "<style scoped>\n",
       "    .dataframe tbody tr th:only-of-type {\n",
       "        vertical-align: middle;\n",
       "    }\n",
       "\n",
       "    .dataframe tbody tr th {\n",
       "        vertical-align: top;\n",
       "    }\n",
       "\n",
       "    .dataframe thead th {\n",
       "        text-align: right;\n",
       "    }\n",
       "</style>\n",
       "<table border=\"1\" class=\"dataframe\">\n",
       "  <thead>\n",
       "    <tr style=\"text-align: right;\">\n",
       "      <th>gender</th>\n",
       "      <th>Female</th>\n",
       "      <th>Male</th>\n",
       "      <th>Other</th>\n",
       "    </tr>\n",
       "    <tr>\n",
       "      <th>education_level</th>\n",
       "      <th></th>\n",
       "      <th></th>\n",
       "      <th></th>\n",
       "    </tr>\n",
       "  </thead>\n",
       "  <tbody>\n",
       "    <tr>\n",
       "      <th>Graduate</th>\n",
       "      <td>66.627771</td>\n",
       "      <td>71.103593</td>\n",
       "      <td>82.022472</td>\n",
       "    </tr>\n",
       "    <tr>\n",
       "      <th>Masters</th>\n",
       "      <td>28.471412</td>\n",
       "      <td>26.364909</td>\n",
       "      <td>17.977528</td>\n",
       "    </tr>\n",
       "    <tr>\n",
       "      <th>Phd</th>\n",
       "      <td>4.900817</td>\n",
       "      <td>2.531498</td>\n",
       "      <td>0.000000</td>\n",
       "    </tr>\n",
       "  </tbody>\n",
       "</table>\n",
       "</div>"
      ],
      "text/plain": [
       "gender              Female       Male      Other\n",
       "education_level                                 \n",
       "Graduate         66.627771  71.103593  82.022472\n",
       "Masters          28.471412  26.364909  17.977528\n",
       "Phd               4.900817   2.531498   0.000000"
      ]
     },
     "execution_count": 1373,
     "metadata": {},
     "output_type": "execute_result"
    }
   ],
   "source": [
    "education_ratio = studies_by_gender / num_applicants_by_gender * 100\n",
    "education_ratio = education_ratio.to_frame()\n",
    "education_ratio = education_ratio.reset_index().pivot(index = 'education_level', columns = 'gender')\n",
    "education_ratio = education_ratio.where(education_ratio.notna(), 0)\n",
    "education_ratio = education_ratio[0]\n",
    "education_ratio"
   ]
  },
  {
   "cell_type": "markdown",
   "id": "81888df4",
   "metadata": {},
   "source": [
    "<h3 style='color:#6ac61f'> Bước 4: Trực quan hóa dữ liệu </h3>\n",
    "\n",
    "Ta sẽ trực quan mối tương quan giữa trình độ học vấn theo giới tính bằng đồ thị dạng cột, với:\n",
    "+ Đồ thị gồm 3 cột ứng với các giới tính\n",
    "+ Trục hoành có 3 giá trị ứng với trình độ học vấn\n",
    "+ Trục tung thể hiện tỉ lệ phần trăm"
   ]
  },
  {
   "cell_type": "code",
   "execution_count": 1374,
   "id": "2107b4c4",
   "metadata": {},
   "outputs": [
    {
     "data": {
      "text/plain": [
       "<AxesSubplot:xlabel='education_level'>"
      ]
     },
     "execution_count": 1374,
     "metadata": {},
     "output_type": "execute_result"
    },
    {
     "data": {
      "image/png": "[encoded data removed]",
      "text/plain": [
       "<Figure size 432x288 with 1 Axes>"
      ]
     },
     "metadata": {},
     "output_type": "display_data"
    }
   ],
   "source": [
    "education_ratio.plot.bar()"
   ]
  },
  {
   "cell_type": "markdown",
   "id": "57ef4ace",
   "metadata": {},
   "source": [
    "Nhìn chung ta thấy giới tính khác có tỉ lệ trình độ học vấn là cao nhất mặc dù có 1 sự chênh lệch lớn giữa số lượng so với nam giới<br>\n",
    "Liệu các ứng viên này có làm việc ở các thành phố có mức sống cao hơn hay không?\n",
    "\n",
    "<h3 style='color:#6ac61f'> Bước 5: Trả lời cho câu hỏi liệu trình độ học vấn có ảnh hướng tới chỉ số phát triển của thành phố nơi mà các ứng viên làm việc hay không </h3>\n",
    "\n",
    "`city_development_index_mean` sẽ lưu giá trị trung bình chỉ số phát triển của thành phố theo giới tính"
   ]
  },
  {
   "cell_type": "code",
   "execution_count": 1375,
   "id": "f400fef0",
   "metadata": {},
   "outputs": [
    {
     "data": {
      "text/plain": [
       "gender\n",
       "Female    0.849370\n",
       "Male      0.839467\n",
       "Other     0.873337\n",
       "Name: city_development_index, dtype: float64"
      ]
     },
     "execution_count": 1375,
     "metadata": {},
     "output_type": "execute_result"
    }
   ],
   "source": [
    "city_development_index_mean = df.groupby(['gender']).mean()['city_development_index']\n",
    "city_development_index_mean"
   ]
  },
  {
   "cell_type": "markdown",
   "id": "4d150788",
   "metadata": {},
   "source": [
    "Như vậy, giới tính khác là các ứng viên làm việc ở các thành phố có chỉ số phát triển cao nhất"
   ]
  },
  {
   "cell_type": "markdown",
   "id": "61d2ca93",
   "metadata": {},
   "source": [
    "<h3 style='color:red; font-size:25px'> 4. Trình độ học vấn và kinh nghiệm làm việc của ứng viên tại các công ty lớn?"
   ]
  },
  {
   "cell_type": "markdown",
   "id": "cb542258",
   "metadata": {},
   "source": [
    "<h3 style='color:red; font-size:20px'> 4.1. Xử lý dữ liệu"
   ]
  },
  {
   "cell_type": "markdown",
   "id": "64bc06ca",
   "metadata": {},
   "source": [
    "- company_size: chuyển các giá trị '10/49' sang '10-49'.\n",
    "\n",
    "- Ta quy ước:  Các công ty có **500 nhân viên trở lên** là công ty lớn."
   ]
  },
  {
   "cell_type": "code",
   "execution_count": 1376,
   "id": "51b44d6c",
   "metadata": {},
   "outputs": [
    {
     "data": {
      "text/html": [
       "<div>\n",
       "<style scoped>\n",
       "    .dataframe tbody tr th:only-of-type {\n",
       "        vertical-align: middle;\n",
       "    }\n",
       "\n",
       "    .dataframe tbody tr th {\n",
       "        vertical-align: top;\n",
       "    }\n",
       "\n",
       "    .dataframe thead th {\n",
       "        text-align: right;\n",
       "    }\n",
       "</style>\n",
       "<table border=\"1\" class=\"dataframe\">\n",
       "  <thead>\n",
       "    <tr style=\"text-align: right;\">\n",
       "      <th></th>\n",
       "      <th>education_level</th>\n",
       "      <th>experience</th>\n",
       "      <th>company_size</th>\n",
       "    </tr>\n",
       "  </thead>\n",
       "  <tbody>\n",
       "    <tr>\n",
       "      <th>11</th>\n",
       "      <td>Graduate</td>\n",
       "      <td>(1, 5)</td>\n",
       "      <td>5000-9999</td>\n",
       "    </tr>\n",
       "    <tr>\n",
       "      <th>12</th>\n",
       "      <td>Graduate</td>\n",
       "      <td>(21, 30)</td>\n",
       "      <td>1000-4999</td>\n",
       "    </tr>\n",
       "    <tr>\n",
       "      <th>23</th>\n",
       "      <td>Graduate</td>\n",
       "      <td>(0, 1)</td>\n",
       "      <td>1000-4999</td>\n",
       "    </tr>\n",
       "    <tr>\n",
       "      <th>31</th>\n",
       "      <td>Graduate</td>\n",
       "      <td>(16, 20)</td>\n",
       "      <td>5000-9999</td>\n",
       "    </tr>\n",
       "    <tr>\n",
       "      <th>34</th>\n",
       "      <td>Graduate</td>\n",
       "      <td>(11, 15)</td>\n",
       "      <td>5000-9999</td>\n",
       "    </tr>\n",
       "    <tr>\n",
       "      <th>...</th>\n",
       "      <td>...</td>\n",
       "      <td>...</td>\n",
       "      <td>...</td>\n",
       "    </tr>\n",
       "    <tr>\n",
       "      <th>19108</th>\n",
       "      <td>Graduate</td>\n",
       "      <td>(6, 10)</td>\n",
       "      <td>1000-4999</td>\n",
       "    </tr>\n",
       "    <tr>\n",
       "      <th>19127</th>\n",
       "      <td>Graduate</td>\n",
       "      <td>(6, 10)</td>\n",
       "      <td>10000+</td>\n",
       "    </tr>\n",
       "    <tr>\n",
       "      <th>19132</th>\n",
       "      <td>Graduate</td>\n",
       "      <td>(6, 10)</td>\n",
       "      <td>500-999</td>\n",
       "    </tr>\n",
       "    <tr>\n",
       "      <th>19143</th>\n",
       "      <td>Graduate</td>\n",
       "      <td>(21, 30)</td>\n",
       "      <td>10000+</td>\n",
       "    </tr>\n",
       "    <tr>\n",
       "      <th>19146</th>\n",
       "      <td>Graduate</td>\n",
       "      <td>(1, 5)</td>\n",
       "      <td>500-999</td>\n",
       "    </tr>\n",
       "  </tbody>\n",
       "</table>\n",
       "<p>3209 rows × 3 columns</p>\n",
       "</div>"
      ],
      "text/plain": [
       "      education_level experience company_size\n",
       "11           Graduate     (1, 5)    5000-9999\n",
       "12           Graduate   (21, 30)    1000-4999\n",
       "23           Graduate     (0, 1)    1000-4999\n",
       "31           Graduate   (16, 20)    5000-9999\n",
       "34           Graduate   (11, 15)    5000-9999\n",
       "...               ...        ...          ...\n",
       "19108        Graduate    (6, 10)    1000-4999\n",
       "19127        Graduate    (6, 10)       10000+\n",
       "19132        Graduate    (6, 10)      500-999\n",
       "19143        Graduate   (21, 30)       10000+\n",
       "19146        Graduate     (1, 5)      500-999\n",
       "\n",
       "[3209 rows x 3 columns]"
      ]
     },
     "execution_count": 1376,
     "metadata": {},
     "output_type": "execute_result"
    }
   ],
   "source": [
    "df['company_size'].replace('10/49', '10-49', inplace=True)\n",
    "big_com = ['500-999', '1000-4999', '5000-9999', '10000+']\n",
    "\n",
    "temp = df[df['company_size'].isin(big_com)][['education_level', 'experience', 'company_size']]\n",
    "temp"
   ]
  },
  {
   "cell_type": "markdown",
   "id": "6b17de26",
   "metadata": {},
   "source": [
    "<h3 style='color:red; font-size:20px'> 4.2. Nhận xét về trình độ học vấn (education_level) của lao động ở các công ty lớn"
   ]
  },
  {
   "cell_type": "code",
   "execution_count": 1377,
   "id": "bc738a85",
   "metadata": {},
   "outputs": [
    {
     "data": {
      "text/plain": [
       "Graduate    0.66\n",
       "Masters     0.30\n",
       "Phd         0.03\n",
       "Name: education_level, dtype: float64"
      ]
     },
     "execution_count": 1377,
     "metadata": {},
     "output_type": "execute_result"
    }
   ],
   "source": [
    "temp['education_level'].value_counts(normalize=True).round(2)"
   ]
  },
  {
   "cell_type": "markdown",
   "id": "3e655f4e",
   "metadata": {},
   "source": [
    "- Các ứng viên có bằng cấp phân bố như thế nào ở các công ty có quy mô lớn.\n"
   ]
  },
  {
   "cell_type": "code",
   "execution_count": 1378,
   "id": "4a88292e",
   "metadata": {},
   "outputs": [
    {
     "data": {
      "text/html": [
       "<div>\n",
       "<style scoped>\n",
       "    .dataframe tbody tr th:only-of-type {\n",
       "        vertical-align: middle;\n",
       "    }\n",
       "\n",
       "    .dataframe tbody tr th {\n",
       "        vertical-align: top;\n",
       "    }\n",
       "\n",
       "    .dataframe thead th {\n",
       "        text-align: right;\n",
       "    }\n",
       "</style>\n",
       "<table border=\"1\" class=\"dataframe\">\n",
       "  <thead>\n",
       "    <tr style=\"text-align: right;\">\n",
       "      <th></th>\n",
       "      <th>10000+</th>\n",
       "      <th>1000-4999</th>\n",
       "      <th>500-999</th>\n",
       "      <th>5000-9999</th>\n",
       "    </tr>\n",
       "  </thead>\n",
       "  <tbody>\n",
       "    <tr>\n",
       "      <th>Graduate</th>\n",
       "      <td>0.281</td>\n",
       "      <td>0.178</td>\n",
       "      <td>0.123</td>\n",
       "      <td>0.08</td>\n",
       "    </tr>\n",
       "    <tr>\n",
       "      <th>Masters</th>\n",
       "      <td>0.134</td>\n",
       "      <td>0.089</td>\n",
       "      <td>0.048</td>\n",
       "      <td>0.032</td>\n",
       "    </tr>\n",
       "    <tr>\n",
       "      <th>Phd</th>\n",
       "      <td>0.013</td>\n",
       "      <td>0.011</td>\n",
       "      <td>0.006</td>\n",
       "      <td>0.005</td>\n",
       "    </tr>\n",
       "  </tbody>\n",
       "</table>\n",
       "</div>"
      ],
      "text/plain": [
       "         10000+ 1000-4999 500-999 5000-9999\n",
       "Graduate  0.281     0.178   0.123      0.08\n",
       "Masters   0.134     0.089   0.048     0.032\n",
       "Phd       0.013     0.011   0.006     0.005"
      ]
     },
     "execution_count": 1378,
     "metadata": {},
     "output_type": "execute_result"
    }
   ],
   "source": [
    "data = temp[['education_level', 'company_size']].value_counts(normalize=True)\n",
    "data = data.reset_index()\n",
    "\n",
    "a = pd.DataFrame(index=data['education_level'].unique(), columns=data[data['education_level'] == 'Graduate']['company_size'].values)\n",
    "\n",
    "\n",
    "for i in range(len(a.index)):\n",
    "    a.iloc[i] = data[data['education_level'] == a.index[i]][0].round(3)\n",
    "\n",
    "a\n"
   ]
  },
  {
   "cell_type": "markdown",
   "id": "d4839985",
   "metadata": {},
   "source": [
    "- Nhận xét:\n",
    "\n",
    "        - Nhân sự chính của các công ty này đa phần là các ứng viên đã có bằng đại học.\n",
    "        - Các công ty quy mô lớn đều sở hữu số lượng Thạc Sĩ, Tiến Sĩ nhất định để đào tạo nguồn nhân lực dồi dào."
   ]
  },
  {
   "cell_type": "markdown",
   "id": "d57ac801",
   "metadata": {},
   "source": [
    "<h3 style='color:red; font-size:20px'> 4.3. Nhận xét về kinh nghiệm làm việc của ứng viên tại các công ty lớn này"
   ]
  },
  {
   "cell_type": "markdown",
   "id": "02833ae7",
   "metadata": {},
   "source": [
    "- Các ứng viên phân bố như thế nào ở các công ty lớn (dựa trên kinh nghiệm)"
   ]
  },
  {
   "cell_type": "code",
   "execution_count": 1379,
   "id": "d5a41fa6",
   "metadata": {},
   "outputs": [
    {
     "data": {
      "text/html": [
       "<div>\n",
       "<style scoped>\n",
       "    .dataframe tbody tr th:only-of-type {\n",
       "        vertical-align: middle;\n",
       "    }\n",
       "\n",
       "    .dataframe tbody tr th {\n",
       "        vertical-align: top;\n",
       "    }\n",
       "\n",
       "    .dataframe thead th {\n",
       "        text-align: right;\n",
       "    }\n",
       "</style>\n",
       "<table border=\"1\" class=\"dataframe\">\n",
       "  <thead>\n",
       "    <tr style=\"text-align: right;\">\n",
       "      <th></th>\n",
       "      <th>10000+</th>\n",
       "      <th>1000-4999</th>\n",
       "      <th>500-999</th>\n",
       "      <th>5000-9999</th>\n",
       "    </tr>\n",
       "  </thead>\n",
       "  <tbody>\n",
       "    <tr>\n",
       "      <th>(6, 10)</th>\n",
       "      <td>0.1256</td>\n",
       "      <td>0.0701</td>\n",
       "      <td>0.0489</td>\n",
       "      <td>0.0324</td>\n",
       "    </tr>\n",
       "    <tr>\n",
       "      <th>(21, 30)</th>\n",
       "      <td>0.1022</td>\n",
       "      <td>0.0754</td>\n",
       "      <td>0.0383</td>\n",
       "      <td>0.0287</td>\n",
       "    </tr>\n",
       "    <tr>\n",
       "      <th>(1, 5)</th>\n",
       "      <td>0.0729</td>\n",
       "      <td>0.043</td>\n",
       "      <td>0.0302</td>\n",
       "      <td>0.0171</td>\n",
       "    </tr>\n",
       "    <tr>\n",
       "      <th>(11, 15)</th>\n",
       "      <td>0.0729</td>\n",
       "      <td>0.0548</td>\n",
       "      <td>0.0365</td>\n",
       "      <td>0.0231</td>\n",
       "    </tr>\n",
       "    <tr>\n",
       "      <th>(16, 20)</th>\n",
       "      <td>0.0511</td>\n",
       "      <td>0.0312</td>\n",
       "      <td>0.0203</td>\n",
       "      <td>0.0165</td>\n",
       "    </tr>\n",
       "    <tr>\n",
       "      <th>(0, 1)</th>\n",
       "      <td>0.0041</td>\n",
       "      <td>0.0031</td>\n",
       "      <td>0.0012</td>\n",
       "      <td>0.0003</td>\n",
       "    </tr>\n",
       "  </tbody>\n",
       "</table>\n",
       "</div>"
      ],
      "text/plain": [
       "          10000+ 1000-4999 500-999 5000-9999\n",
       "(6, 10)   0.1256    0.0701  0.0489    0.0324\n",
       "(21, 30)  0.1022    0.0754  0.0383    0.0287\n",
       "(1, 5)    0.0729     0.043  0.0302    0.0171\n",
       "(11, 15)  0.0729    0.0548  0.0365    0.0231\n",
       "(16, 20)  0.0511    0.0312  0.0203    0.0165\n",
       "(0, 1)    0.0041    0.0031  0.0012    0.0003"
      ]
     },
     "execution_count": 1379,
     "metadata": {},
     "output_type": "execute_result"
    }
   ],
   "source": [
    "data = temp[['experience', 'company_size']].value_counts(normalize=True).round(4)\n",
    "data = data.reset_index()\n",
    "\n",
    "a = pd.DataFrame(index=data['experience'].unique(), columns=data[data['experience'] == (6,10)]['company_size'].values)\n",
    "\n",
    "for i in range(len(a.index)):\n",
    "    a.iloc[i] = data[data['experience'] == a.index[i]][0]\n",
    "\n",
    "a"
   ]
  },
  {
   "cell_type": "markdown",
   "id": "47f5d9d9",
   "metadata": {},
   "source": [
    "- Nếu quy ước một ứng viên lành nghề là người có kinh nghiệm từ 5 năm trở lên. Ta sẽ có tỉ lệ phân bố ứng viên lành nghề của các công ty này là:"
   ]
  },
  {
   "cell_type": "code",
   "execution_count": 1380,
   "id": "05082589",
   "metadata": {},
   "outputs": [
    {
     "name": "stdout",
     "output_type": "stream",
     "text": [
      "Tỉ lệ ứng viên lành nghề: 0.828\n"
     ]
    },
    {
     "data": {
      "text/html": [
       "<div>\n",
       "<style scoped>\n",
       "    .dataframe tbody tr th:only-of-type {\n",
       "        vertical-align: middle;\n",
       "    }\n",
       "\n",
       "    .dataframe tbody tr th {\n",
       "        vertical-align: top;\n",
       "    }\n",
       "\n",
       "    .dataframe thead th {\n",
       "        text-align: right;\n",
       "    }\n",
       "</style>\n",
       "<table border=\"1\" class=\"dataframe\">\n",
       "  <thead>\n",
       "    <tr style=\"text-align: right;\">\n",
       "      <th></th>\n",
       "      <th>10000+</th>\n",
       "      <th>1000-4999</th>\n",
       "      <th>500-999</th>\n",
       "      <th>5000-9999</th>\n",
       "    </tr>\n",
       "  </thead>\n",
       "  <tbody>\n",
       "    <tr>\n",
       "      <th>(6, 10)</th>\n",
       "      <td>0.1256</td>\n",
       "      <td>0.0701</td>\n",
       "      <td>0.0489</td>\n",
       "      <td>0.0324</td>\n",
       "    </tr>\n",
       "    <tr>\n",
       "      <th>(21, 30)</th>\n",
       "      <td>0.1022</td>\n",
       "      <td>0.0754</td>\n",
       "      <td>0.0383</td>\n",
       "      <td>0.0287</td>\n",
       "    </tr>\n",
       "    <tr>\n",
       "      <th>(11, 15)</th>\n",
       "      <td>0.0729</td>\n",
       "      <td>0.0548</td>\n",
       "      <td>0.0365</td>\n",
       "      <td>0.0231</td>\n",
       "    </tr>\n",
       "    <tr>\n",
       "      <th>(16, 20)</th>\n",
       "      <td>0.0511</td>\n",
       "      <td>0.0312</td>\n",
       "      <td>0.0203</td>\n",
       "      <td>0.0165</td>\n",
       "    </tr>\n",
       "  </tbody>\n",
       "</table>\n",
       "</div>"
      ],
      "text/plain": [
       "          10000+ 1000-4999 500-999 5000-9999\n",
       "(6, 10)   0.1256    0.0701  0.0489    0.0324\n",
       "(21, 30)  0.1022    0.0754  0.0383    0.0287\n",
       "(11, 15)  0.0729    0.0548  0.0365    0.0231\n",
       "(16, 20)  0.0511    0.0312  0.0203    0.0165"
      ]
     },
     "execution_count": 1380,
     "metadata": {},
     "output_type": "execute_result"
    }
   ],
   "source": [
    "senior = [(6, 10), (11, 15), (16, 20), (21, 30)]\n",
    "res = a.iloc[a.index.isin(senior)]\n",
    "print('Tỉ lệ ứng viên lành nghề:', res.sum().sum())\n",
    "res"
   ]
  },
  {
   "cell_type": "markdown",
   "id": "d1a27377",
   "metadata": {},
   "source": [
    "- Từ 5 năm trở xuống tức là không lành nghề"
   ]
  },
  {
   "cell_type": "code",
   "execution_count": 1381,
   "id": "40307e43",
   "metadata": {},
   "outputs": [
    {
     "name": "stdout",
     "output_type": "stream",
     "text": [
      "Tỉ lệ ứng viên không lành nghề: 0.172\n"
     ]
    },
    {
     "data": {
      "text/html": [
       "<div>\n",
       "<style scoped>\n",
       "    .dataframe tbody tr th:only-of-type {\n",
       "        vertical-align: middle;\n",
       "    }\n",
       "\n",
       "    .dataframe tbody tr th {\n",
       "        vertical-align: top;\n",
       "    }\n",
       "\n",
       "    .dataframe thead th {\n",
       "        text-align: right;\n",
       "    }\n",
       "</style>\n",
       "<table border=\"1\" class=\"dataframe\">\n",
       "  <thead>\n",
       "    <tr style=\"text-align: right;\">\n",
       "      <th></th>\n",
       "      <th>10000+</th>\n",
       "      <th>1000-4999</th>\n",
       "      <th>500-999</th>\n",
       "      <th>5000-9999</th>\n",
       "    </tr>\n",
       "  </thead>\n",
       "  <tbody>\n",
       "    <tr>\n",
       "      <th>(1, 5)</th>\n",
       "      <td>0.0729</td>\n",
       "      <td>0.043</td>\n",
       "      <td>0.0302</td>\n",
       "      <td>0.0171</td>\n",
       "    </tr>\n",
       "    <tr>\n",
       "      <th>(0, 1)</th>\n",
       "      <td>0.0041</td>\n",
       "      <td>0.0031</td>\n",
       "      <td>0.0012</td>\n",
       "      <td>0.0003</td>\n",
       "    </tr>\n",
       "  </tbody>\n",
       "</table>\n",
       "</div>"
      ],
      "text/plain": [
       "        10000+ 1000-4999 500-999 5000-9999\n",
       "(1, 5)  0.0729     0.043  0.0302    0.0171\n",
       "(0, 1)  0.0041    0.0031  0.0012    0.0003"
      ]
     },
     "execution_count": 1381,
     "metadata": {},
     "output_type": "execute_result"
    }
   ],
   "source": [
    "junior = [(1, 5), (0, 1)]\n",
    "res = a.iloc[a.index.isin(junior)]\n",
    "print('Tỉ lệ ứng viên không lành nghề:', round(res.sum().sum(), 3))\n",
    "res"
   ]
  },
  {
   "cell_type": "markdown",
   "id": "fc7a4209",
   "metadata": {},
   "source": [
    "- Nhận xét:\n",
    "\n",
    "        - Tỉ lệ ứng viên lành nghề phân bố ở các công ty này rất cao (hơn 80%).\n",
    "        - Ngoài ra, tỉ lệ ứng viên trong khoảng 1-5 năm kinh nghiệm cũng chiếm hầu hết phần còn lại.\n",
    "        - Tỉ lệ ứng viên dưới 1 năm kinh nghiệm là rất thấp, không đáng kể."
   ]
  },
  {
   "cell_type": "markdown",
   "id": "31809c84",
   "metadata": {},
   "source": [
    "<h3 style='color:red; font-size:25px'> 5. Sau khi hoàn thành huấn luyện ở các công ty nhỏ, ứng viên có quyết định nhảy việc hay không?"
   ]
  },
  {
   "cell_type": "markdown",
   "id": "3958fd78",
   "metadata": {},
   "source": [
    "<h3 style='color:red; font-size:20px'> 5.1. Xử lý dữ liệu"
   ]
  },
  {
   "cell_type": "markdown",
   "id": "3aee8d7c",
   "metadata": {},
   "source": [
    "- Ta quy ước các công ty nhỏ có số lượng lao động không quá 100. "
   ]
  },
  {
   "cell_type": "code",
   "execution_count": 1382,
   "id": "64832e53",
   "metadata": {},
   "outputs": [],
   "source": [
    "small_com = ['None', '<10', '50-99', '10-49']\n",
    "temp1 = df[df['company_size'].isin(small_com)][['training_hours', 'experience', 'target']]"
   ]
  },
  {
   "cell_type": "markdown",
   "id": "ec5f7e6f",
   "metadata": {},
   "source": [
    "<h3 style='color:red; font-size:20px'> 5.2. Nhận xét về tỉ lệ nhảy việc sau thời gian huấn luyện"
   ]
  },
  {
   "cell_type": "markdown",
   "id": "0b25ed73",
   "metadata": {},
   "source": [
    "- Tại các công ty nhỏ, sau một khoảng thời gian đào tạo, các ứng viên này chọn ra đi tìm bến đỗ mới tốt hơn. \n",
    "\n",
    "- Các ứng viên này đã có bao nhiêu kinh nghiệm làm việc trước đó mà lại đưa ra quyết định như vậy."
   ]
  },
  {
   "cell_type": "code",
   "execution_count": 1383,
   "id": "451fd50f",
   "metadata": {},
   "outputs": [
    {
     "data": {
      "text/plain": [
       "(963, 2)"
      ]
     },
     "execution_count": 1383,
     "metadata": {},
     "output_type": "execute_result"
    }
   ],
   "source": [
    "data = temp1[temp1['target'] == 1.0][['training_hours', 'experience']]\n",
    "data.shape"
   ]
  },
  {
   "cell_type": "markdown",
   "id": "a91f81bd",
   "metadata": {},
   "source": [
    "<h3 style='color:#6ac61f; font-size:18px'> 5.2.1. Lao động lành nghề"
   ]
  },
  {
   "cell_type": "code",
   "execution_count": 1384,
   "id": "5db794e4",
   "metadata": {},
   "outputs": [
    {
     "data": {
      "text/plain": [
       "0.49"
      ]
     },
     "execution_count": 1384,
     "metadata": {},
     "output_type": "execute_result"
    }
   ],
   "source": [
    "round((data[data['experience'].isin(senior)][['training_hours', 'experience']].shape[0] / data.shape[0]) , 2)"
   ]
  },
  {
   "cell_type": "markdown",
   "id": "1c7aa0f0",
   "metadata": {},
   "source": [
    "- Ta sẽ chia làm 3 nhóm: **dưới 100 giờ, từ 100-200 giờ, trên 200 giờ**."
   ]
  },
  {
   "cell_type": "code",
   "execution_count": 1385,
   "id": "6b123bf7",
   "metadata": {},
   "outputs": [
    {
     "data": {
      "text/html": [
       "<div>\n",
       "<style scoped>\n",
       "    .dataframe tbody tr th:only-of-type {\n",
       "        vertical-align: middle;\n",
       "    }\n",
       "\n",
       "    .dataframe tbody tr th {\n",
       "        vertical-align: top;\n",
       "    }\n",
       "\n",
       "    .dataframe thead th {\n",
       "        text-align: right;\n",
       "    }\n",
       "</style>\n",
       "<table border=\"1\" class=\"dataframe\">\n",
       "  <thead>\n",
       "    <tr style=\"text-align: right;\">\n",
       "      <th></th>\n",
       "      <th>Less than 100 hours</th>\n",
       "      <th>Between 100 and 200 hours</th>\n",
       "      <th>More than 200 hours</th>\n",
       "    </tr>\n",
       "  </thead>\n",
       "  <tbody>\n",
       "    <tr>\n",
       "      <th>(6, 10)</th>\n",
       "      <td>0.586</td>\n",
       "      <td>0.558</td>\n",
       "      <td>0.500</td>\n",
       "    </tr>\n",
       "    <tr>\n",
       "      <th>(11, 15)</th>\n",
       "      <td>0.224</td>\n",
       "      <td>0.182</td>\n",
       "      <td>0.250</td>\n",
       "    </tr>\n",
       "    <tr>\n",
       "      <th>(16, 20)</th>\n",
       "      <td>0.106</td>\n",
       "      <td>0.156</td>\n",
       "      <td>0.167</td>\n",
       "    </tr>\n",
       "    <tr>\n",
       "      <th>(21, 30)</th>\n",
       "      <td>0.084</td>\n",
       "      <td>0.104</td>\n",
       "      <td>0.083</td>\n",
       "    </tr>\n",
       "  </tbody>\n",
       "</table>\n",
       "</div>"
      ],
      "text/plain": [
       "          Less than 100 hours  Between 100 and 200 hours  More than 200 hours\n",
       "(6, 10)                 0.586                      0.558                0.500\n",
       "(11, 15)                0.224                      0.182                0.250\n",
       "(16, 20)                0.106                      0.156                0.167\n",
       "(21, 30)                0.084                      0.104                0.083"
      ]
     },
     "execution_count": 1385,
     "metadata": {},
     "output_type": "execute_result"
    }
   ],
   "source": [
    "traning_hours = data[data['experience'].isin(senior)][['training_hours', 'experience']]\n",
    "less_than_100 = traning_hours[traning_hours['training_hours'] < 100].value_counts('experience', normalize=True).round(3)\n",
    "from_100_to_200 = traning_hours[traning_hours['training_hours'].isin(range(100, 200))].value_counts('experience', normalize=True).round(3)\n",
    "more_than_200 = traning_hours[traning_hours['training_hours'] > 200].value_counts('experience', normalize=True).round(3)\n",
    "\n",
    "a = pd.DataFrame(data = zip(less_than_100, from_100_to_200, more_than_200), index=senior, \n",
    "                columns=['Less than 100 hours', 'Between 100 and 200 hours', 'More than 200 hours'])\n",
    "\n",
    "a"
   ]
  },
  {
   "cell_type": "markdown",
   "id": "20e47ca0",
   "metadata": {},
   "source": [
    "<h3 style='color:#6ac61f; font-size:18px'> 5.2.2. Lao động không lành nghề"
   ]
  },
  {
   "cell_type": "markdown",
   "id": "40255040",
   "metadata": {},
   "source": [
    "- Là các ứng viên có số năm kinh nghiệm ít hơn 5"
   ]
  },
  {
   "cell_type": "code",
   "execution_count": 1386,
   "id": "0dc3022f",
   "metadata": {},
   "outputs": [
    {
     "data": {
      "text/plain": [
       "0.51"
      ]
     },
     "execution_count": 1386,
     "metadata": {},
     "output_type": "execute_result"
    }
   ],
   "source": [
    "round((data[data['experience'].isin(junior)][['training_hours', 'experience']].shape[0] / data.shape[0]), 2)"
   ]
  },
  {
   "cell_type": "markdown",
   "id": "c6526dfb",
   "metadata": {},
   "source": [
    "- Ta sẽ chia làm 3 nhóm: **dưới 100 giờ, từ 100-200 giờ, trên 200 giờ**."
   ]
  },
  {
   "cell_type": "code",
   "execution_count": 1387,
   "id": "3e1c94d0",
   "metadata": {},
   "outputs": [
    {
     "data": {
      "text/html": [
       "<div>\n",
       "<style scoped>\n",
       "    .dataframe tbody tr th:only-of-type {\n",
       "        vertical-align: middle;\n",
       "    }\n",
       "\n",
       "    .dataframe tbody tr th {\n",
       "        vertical-align: top;\n",
       "    }\n",
       "\n",
       "    .dataframe thead th {\n",
       "        text-align: right;\n",
       "    }\n",
       "</style>\n",
       "<table border=\"1\" class=\"dataframe\">\n",
       "  <thead>\n",
       "    <tr style=\"text-align: right;\">\n",
       "      <th></th>\n",
       "      <th>Less than 100 hours</th>\n",
       "      <th>Between 100 and 200 hours</th>\n",
       "      <th>More than 200 hours</th>\n",
       "    </tr>\n",
       "  </thead>\n",
       "  <tbody>\n",
       "    <tr>\n",
       "      <th>(1, 5)</th>\n",
       "      <td>0.914</td>\n",
       "      <td>0.918</td>\n",
       "      <td>0.8</td>\n",
       "    </tr>\n",
       "    <tr>\n",
       "      <th>(0, 1)</th>\n",
       "      <td>0.086</td>\n",
       "      <td>0.082</td>\n",
       "      <td>0.2</td>\n",
       "    </tr>\n",
       "  </tbody>\n",
       "</table>\n",
       "</div>"
      ],
      "text/plain": [
       "        Less than 100 hours  Between 100 and 200 hours  More than 200 hours\n",
       "(1, 5)                0.914                      0.918                  0.8\n",
       "(0, 1)                0.086                      0.082                  0.2"
      ]
     },
     "execution_count": 1387,
     "metadata": {},
     "output_type": "execute_result"
    }
   ],
   "source": [
    "traning_hours = data[data['experience'].isin(junior)][['training_hours', 'experience']]\n",
    "less_than_100 = traning_hours[traning_hours['training_hours'] < 100].value_counts('experience', normalize=True).round(3)\n",
    "from_100_to_200 = traning_hours[traning_hours['training_hours'].isin(range(100, 200))].value_counts('experience', normalize=True).round(3)\n",
    "more_than_200 = traning_hours[traning_hours['training_hours'] > 200].value_counts('experience', normalize=True).round(3)\n",
    "\n",
    "a = pd.DataFrame(data = zip(less_than_100, from_100_to_200, more_than_200), index=junior, \n",
    "                columns=['Less than 100 hours', 'Between 100 and 200 hours', 'More than 200 hours'])\n",
    "\n",
    "a"
   ]
  },
  {
   "cell_type": "markdown",
   "id": "fa7b00c2",
   "metadata": {},
   "source": [
    "<h3 style='color:#6ac61f; font-size:18px'> 5.2.3. Nhận xét chung"
   ]
  },
  {
   "cell_type": "markdown",
   "id": "e86d99ef",
   "metadata": {},
   "source": [
    "- Ta thấy tỉ lệ lao động lành nghề ngang ngửa so với lao động không lành nghề (49:51).\n",
    "\n",
    "- Với những người không lành nghề:\n",
    "\n",
    "        - Ta có thể hiểu đơn giản là họ cảm thấy bản thân đã đủ kinh nghiệm nên họ chọn ra đi để tìm kiếm bến đỗ mới tốt hơn.\n",
    "        - Phân bố dữ liệu không đồng đều theo thời gian huấn luyện.\n",
    "        - Số lượng ứng viên có khoảng 1-5 năm kinh nghiệm áp đảo phần còn lại.\n",
    "\n",
    "- Với những người lành nghề:\n",
    "\n",
    "        - Có vẻ việc họ không thỏa mãn với quy mô công ty hiện tại hoặc chế độ đãi ngộ không tương xứng nên quyết định ra đi.\n",
    "        - Phân bố dữ liệu đa dạng hơn nhóm trên.\n",
    "        - Tỉ lệ cân đối hơn.\n"
   ]
  },
  {
   "cell_type": "markdown",
   "id": "e9faaa14",
   "metadata": {},
   "source": [
    "<h3 style='color:red; font-size:20px'> 5.3. Nhận xét về tỉ lệ ở lại công ty sau thời gian huấn luyện"
   ]
  },
  {
   "cell_type": "markdown",
   "id": "b703f50a",
   "metadata": {},
   "source": [
    "- Tại các công ty nhỏ, sau một khoảng thời gian đào tạo, các ứng viên này chọn ở lại và tiếp tục cống hiến. \n",
    "\n",
    "- Các ứng viên này đã có bao nhiêu kinh nghiệm làm việc trước đó mà lại đưa ra quyết định như vậy."
   ]
  },
  {
   "cell_type": "code",
   "execution_count": 1388,
   "id": "e5cfdb28",
   "metadata": {},
   "outputs": [
    {
     "data": {
      "text/plain": [
       "(3584, 2)"
      ]
     },
     "execution_count": 1388,
     "metadata": {},
     "output_type": "execute_result"
    }
   ],
   "source": [
    "data = temp1[temp1['target'] == 0.0][['training_hours', 'experience']]\n",
    "data.shape"
   ]
  },
  {
   "cell_type": "markdown",
   "id": "dad6017d",
   "metadata": {},
   "source": [
    "- Trước tiên về số lượng ứng viên ở lại, ta thấy con số này **nhiều hơn gần 4 lần** so với số lượng ứng viên nhảy việc"
   ]
  },
  {
   "cell_type": "code",
   "execution_count": 1389,
   "id": "48e931ad",
   "metadata": {},
   "outputs": [
    {
     "data": {
      "text/plain": [
       "3.72"
      ]
     },
     "execution_count": 1389,
     "metadata": {},
     "output_type": "execute_result"
    }
   ],
   "source": [
    "round((temp1[temp1['target'] == 0.0].shape[0] / temp1[temp1['target'] == 1.0].shape[0]), 2)"
   ]
  },
  {
   "cell_type": "markdown",
   "id": "f2aa61b6",
   "metadata": {},
   "source": [
    "<h3 style='color:#6ac61f; font-size:18px'> 5.3.1. Lao động lành nghề"
   ]
  },
  {
   "cell_type": "code",
   "execution_count": 1390,
   "id": "a47d28ac",
   "metadata": {},
   "outputs": [
    {
     "data": {
      "text/plain": [
       "0.75"
      ]
     },
     "execution_count": 1390,
     "metadata": {},
     "output_type": "execute_result"
    }
   ],
   "source": [
    "round((data[data['experience'].isin(senior)][['training_hours', 'experience']].shape[0] / data.shape[0]), 2)"
   ]
  },
  {
   "cell_type": "markdown",
   "id": "875c8ac8",
   "metadata": {},
   "source": [
    "- Ta sẽ chia làm 3 nhóm: **dưới 100 giờ, từ 100-200 giờ, trên 200 giờ**."
   ]
  },
  {
   "cell_type": "code",
   "execution_count": 1391,
   "id": "4f87380e",
   "metadata": {},
   "outputs": [
    {
     "data": {
      "text/html": [
       "<div>\n",
       "<style scoped>\n",
       "    .dataframe tbody tr th:only-of-type {\n",
       "        vertical-align: middle;\n",
       "    }\n",
       "\n",
       "    .dataframe tbody tr th {\n",
       "        vertical-align: top;\n",
       "    }\n",
       "\n",
       "    .dataframe thead th {\n",
       "        text-align: right;\n",
       "    }\n",
       "</style>\n",
       "<table border=\"1\" class=\"dataframe\">\n",
       "  <thead>\n",
       "    <tr style=\"text-align: right;\">\n",
       "      <th></th>\n",
       "      <th>Less than 100 hours</th>\n",
       "      <th>Between 100 and 200 hours</th>\n",
       "      <th>More than 200 hours</th>\n",
       "    </tr>\n",
       "  </thead>\n",
       "  <tbody>\n",
       "    <tr>\n",
       "      <th>(6, 10)</th>\n",
       "      <td>0.369</td>\n",
       "      <td>0.374</td>\n",
       "      <td>0.399</td>\n",
       "    </tr>\n",
       "    <tr>\n",
       "      <th>(11, 15)</th>\n",
       "      <td>0.256</td>\n",
       "      <td>0.252</td>\n",
       "      <td>0.266</td>\n",
       "    </tr>\n",
       "    <tr>\n",
       "      <th>(16, 20)</th>\n",
       "      <td>0.248</td>\n",
       "      <td>0.228</td>\n",
       "      <td>0.224</td>\n",
       "    </tr>\n",
       "    <tr>\n",
       "      <th>(21, 30)</th>\n",
       "      <td>0.127</td>\n",
       "      <td>0.146</td>\n",
       "      <td>0.112</td>\n",
       "    </tr>\n",
       "  </tbody>\n",
       "</table>\n",
       "</div>"
      ],
      "text/plain": [
       "          Less than 100 hours  Between 100 and 200 hours  More than 200 hours\n",
       "(6, 10)                 0.369                      0.374                0.399\n",
       "(11, 15)                0.256                      0.252                0.266\n",
       "(16, 20)                0.248                      0.228                0.224\n",
       "(21, 30)                0.127                      0.146                0.112"
      ]
     },
     "execution_count": 1391,
     "metadata": {},
     "output_type": "execute_result"
    }
   ],
   "source": [
    "traning_hours = data[data['experience'].isin(senior)][['training_hours', 'experience']]\n",
    "less_than_100 = traning_hours[traning_hours['training_hours'] < 100].value_counts('experience', normalize=True).round(3)\n",
    "from_100_to_200 = traning_hours[traning_hours['training_hours'].isin(range(100, 200))].value_counts('experience', normalize=True).round(3)\n",
    "more_than_200 = traning_hours[traning_hours['training_hours'] > 200].value_counts('experience', normalize=True).round(3)\n",
    "\n",
    "a = pd.DataFrame(data = zip(less_than_100, from_100_to_200, more_than_200), index=senior, \n",
    "                columns=['Less than 100 hours', 'Between 100 and 200 hours', 'More than 200 hours'])\n",
    "\n",
    "a"
   ]
  },
  {
   "cell_type": "markdown",
   "id": "eabfedfd",
   "metadata": {},
   "source": [
    "<h3 style='color:#6ac61f; font-size:18px'> 5.2.2. Lao động không lành nghề"
   ]
  },
  {
   "cell_type": "code",
   "execution_count": 1392,
   "id": "0adaae95",
   "metadata": {},
   "outputs": [
    {
     "data": {
      "text/plain": [
       "0.25"
      ]
     },
     "execution_count": 1392,
     "metadata": {},
     "output_type": "execute_result"
    }
   ],
   "source": [
    "round((data[data['experience'].isin(junior)][['training_hours', 'experience']].shape[0] / data.shape[0]), 2)"
   ]
  },
  {
   "cell_type": "markdown",
   "id": "1ed276c8",
   "metadata": {},
   "source": [
    "- Ta sẽ chia làm 3 nhóm: **dưới 100 giờ, từ 100-200 giờ, trên 200 giờ**."
   ]
  },
  {
   "cell_type": "code",
   "execution_count": 1393,
   "id": "e0302a85",
   "metadata": {},
   "outputs": [
    {
     "data": {
      "text/html": [
       "<div>\n",
       "<style scoped>\n",
       "    .dataframe tbody tr th:only-of-type {\n",
       "        vertical-align: middle;\n",
       "    }\n",
       "\n",
       "    .dataframe tbody tr th {\n",
       "        vertical-align: top;\n",
       "    }\n",
       "\n",
       "    .dataframe thead th {\n",
       "        text-align: right;\n",
       "    }\n",
       "</style>\n",
       "<table border=\"1\" class=\"dataframe\">\n",
       "  <thead>\n",
       "    <tr style=\"text-align: right;\">\n",
       "      <th></th>\n",
       "      <th>Less than 100 hours</th>\n",
       "      <th>Between 100 and 200 hours</th>\n",
       "      <th>More than 200 hours</th>\n",
       "    </tr>\n",
       "  </thead>\n",
       "  <tbody>\n",
       "    <tr>\n",
       "      <th>(1, 5)</th>\n",
       "      <td>0.954</td>\n",
       "      <td>0.958</td>\n",
       "      <td>1.0</td>\n",
       "    </tr>\n",
       "    <tr>\n",
       "      <th>(0, 1)</th>\n",
       "      <td>0.046</td>\n",
       "      <td>0.042</td>\n",
       "      <td>NaN</td>\n",
       "    </tr>\n",
       "  </tbody>\n",
       "</table>\n",
       "</div>"
      ],
      "text/plain": [
       "        Less than 100 hours  Between 100 and 200 hours  More than 200 hours\n",
       "(1, 5)                0.954                      0.958                  1.0\n",
       "(0, 1)                0.046                      0.042                  NaN"
      ]
     },
     "execution_count": 1393,
     "metadata": {},
     "output_type": "execute_result"
    }
   ],
   "source": [
    "traning_hours = data[data['experience'].isin(junior)][['training_hours', 'experience']]\n",
    "less_than_100 = traning_hours[traning_hours['training_hours'] < 100].value_counts('experience', normalize=True).round(3)\n",
    "from_100_to_200 = traning_hours[traning_hours['training_hours'].isin(range(100, 200))].value_counts('experience', normalize=True).round(3)\n",
    "more_than_200 = traning_hours[traning_hours['training_hours'] > 200].value_counts('experience', normalize=True).round(3)\n",
    "\n",
    "\n",
    "a = pd.DataFrame(data = zip(less_than_100, from_100_to_200), index=junior, \n",
    "                columns=['Less than 100 hours', 'Between 100 and 200 hours'])\n",
    "\n",
    "# Vì chỉ có ứng viên kinh nghiệm làm việc từ 1-5 năm tham gia đào tạo trên 200 giờ nên chúng ta phải xử lý riêng cột này\n",
    "a.insert(2, 'More than 200 hours', more_than_200)\n",
    "\n",
    "a"
   ]
  },
  {
   "cell_type": "markdown",
   "id": "eb1097d1",
   "metadata": {},
   "source": [
    "<h3 style='color:#6ac61f; font-size:18px'> 5.2.3. Nhận xét chung"
   ]
  },
  {
   "cell_type": "markdown",
   "id": "7f707aae",
   "metadata": {},
   "source": [
    "- Tỉ lệ ứng viên ở lại áp dảo tỉ lệ ứng viên nhảy việc (gấp 3.7 lần).\n",
    "\n",
    "- Ta thấy tỉ lệ lao động lành nghề nhiều hơn so với lao động không lành nghề (75:25).\n",
    "\n",
    "- Với những người không lành nghề:\n",
    "\n",
    "        - Ta có thể hiểu đơn giản là họ cảm thấy bản thân chưa đủ kinh nghiệm nên việc chọn ở lại để rèn luyện thêm là dễ hiểu hoặc là họ đang tìm kiếm cơ hội tốt hơn.\n",
    "        - Phân bố dữ liệu không đồng đều theo thời gian huấn luyện\n",
    "        - Số lượng ứng viên có khoảng 1-5 năm kinh nghiệm áp đảo phần còn lại.\n",
    "        - Không có ứng viên nào dưới 1 năm kinh nghiệm trải qua huấn luyện quá 200 giờ.\n",
    "\n",
    "- Với những người lành nghề:\n",
    "\n",
    "        - Có vẻ việc họ ở lại các công ty nhỏ này chỉ là đang tìm kiếm cơ hội tốt hơn hoặc cũng có thể là họ chỉ đi làm vì đam mê thôi.\n",
    "        - Phân bố dữ liệu đa dạng hơn nhóm trên.\n",
    "        - Không có sự chênh lệch tỉ lệ quá lớn giữa từng cặp như trên."
   ]
  },
  {
   "cell_type": "markdown",
   "id": "95ff74e7",
   "metadata": {},
   "source": [
    "--- ----"
   ]
  },
  {
   "cell_type": "markdown",
   "id": "51b8b839",
   "metadata": {},
   "source": [
    "## E. Tổng hợp lại quá trình thực hiện đồ án"
   ]
  },
  {
   "cell_type": "code",
   "execution_count": null,
   "id": "492e34a1",
   "metadata": {},
   "outputs": [],
   "source": []
  }
 ],
 "metadata": {
  "kernelspec": {
   "display_name": "Python 3 (ipykernel)",
   "language": "python",
   "name": "python3"
  },
  "language_info": {
   "codemirror_mode": {
    "name": "ipython",
    "version": 3
   },
   "file_extension": ".py",
   "mimetype": "text/x-python",
   "name": "python",
   "nbconvert_exporter": "python",
   "pygments_lexer": "ipython3",
   "version": "3.10.0"
  },
  "vscode": {
   "interpreter": {
    "hash": "76d7c06053c3456e5600312cec90888656fc0ed30c03d8425b9dac6e4fc8e014"
   }
  }
 },
 "nbformat": 4,
 "nbformat_minor": 5
}
