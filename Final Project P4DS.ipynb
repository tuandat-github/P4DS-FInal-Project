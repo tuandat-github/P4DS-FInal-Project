{
 "cells": [
  {
   "cell_type": "markdown",
   "id": "a8951463",
   "metadata": {},
   "source": [
    "# ĐỒ ÁN THỰC HÀNH\n",
    "# CSC17104 – LẬP TRÌNH CHO KHOA HỌC DỮ LIỆU\n",
    "\n",
    "Giảng viên: Bùi Tiến Lên\n",
    "\n",
    "Thông tin thành viên:\n",
    "1. Nguyễn Văn Tuấn Đạt 19120472\n",
    "2. Phan Xuân Hoài 20120481\n",
    "3. \n",
    "4. "
   ]
  },
  {
   "cell_type": "markdown",
   "id": "95e50bfe",
   "metadata": {},
   "source": [
    "## Import"
   ]
  },
  {
   "cell_type": "code",
   "execution_count": null,
   "id": "cfca7384",
   "metadata": {},
   "outputs": [],
   "source": [
    "import numpy as np\n",
    "import pandas as pd\n",
    "import matplotlib.pyplot as plt\n",
    "import seaborn as sns\n",
    "import math\n",
    "sns.set_theme()\n",
    "\n",
    "import warnings\n",
    "warnings.simplefilter(\"ignore\", category=RuntimeWarning)"
   ]
  },
  {
   "cell_type": "markdown",
   "id": "c74bb047",
   "metadata": {},
   "source": [
    "## A. Thu thập dữ liệu\n",
    "- Tên dữ liệu: HR Analytics: Job Change of Data Scientists\n",
    "- Nguồn lấy dữ liệu: kaggle\n",
    "- Link dữ liệu: https://www.kaggle.com/datasets/arashnic/hr-analytics-job-change-of-data-scientists\n",
    "- License: CC0: Public Domain\n",
    "- Mô tả về dữ liệu: dữ liệu gồm tập train và tập test. Trong đồ án này, nhóm sẽ sử dụng tập train.\n",
    "            + Dữ liệu gồm 14 cột và 19158 dòng."
   ]
  },
  {
   "cell_type": "code",
   "execution_count": null,
   "id": "da540175",
   "metadata": {},
   "outputs": [],
   "source": [
    "df = pd.read_csv('aug_train.csv', encoding='utf-8')\n",
    "df.shape"
   ]
  },
  {
   "cell_type": "code",
   "execution_count": null,
   "id": "4cf47e09",
   "metadata": {},
   "outputs": [],
   "source": [
    "df.head(10)"
   ]
  },
  {
   "cell_type": "markdown",
   "id": "a08ad4fb",
   "metadata": {},
   "source": [
    "## B. Khám phá dữ liệu (thường đan xen với pha tiền xử lý dữ liệu)"
   ]
  },
  {
   "cell_type": "markdown",
   "id": "23fdded6",
   "metadata": {},
   "source": [
    "### 1.Mỗi dòng có ý nghĩa gì? Có vấn đề với các dòng có ý nghĩa khác nhau không?"
   ]
  },
  {
   "cell_type": "markdown",
   "id": "990ee175",
   "metadata": {},
   "source": [
    "* Mỗi dòng là thông tin của từng ứng viên, trong đó mỗi ô của dòng là dữ liệu tương ứng với cột của ô đó\n",
    "* Không có vấn đề các dòng có ý nghĩa khác nhau"
   ]
  },
  {
   "cell_type": "markdown",
   "id": "7595ba91",
   "metadata": {},
   "source": [
    "### 1.1 Kiểm tra các dòng có bị trùng lặp hay không?"
   ]
  },
  {
   "cell_type": "code",
   "execution_count": null,
   "id": "4bf3b147",
   "metadata": {},
   "outputs": [],
   "source": [
    "have_duplicated_rows = np.any(df.duplicated())\n",
    "have_duplicated_rows"
   ]
  },
  {
   "cell_type": "markdown",
   "id": "616e90c2",
   "metadata": {},
   "source": [
    "Các dòng không bị trùng lặp."
   ]
  },
  {
   "cell_type": "markdown",
   "id": "2855aa45",
   "metadata": {},
   "source": [
    "### 2.Mỗi cột có ý nghĩa gì?\n",
    "            \n",
    "            - enrollee_id : ID với từng ứng viên\n",
    "\n",
    "            - city: Mã thành phố\n",
    "\n",
    "            - city_ development _index : Chỉ số phát triển của thành phố (theo tỷ lệ)\n",
    "\n",
    "            - gender: Giới tính\n",
    "\n",
    "            - relevent_experience: Kinh nghiệm liên quan của ứng viên\n",
    "\n",
    "            - enrolled_university: Loại khóa học đại học đã đăng ký nếu có\n",
    "\n",
    "            - education_level: Trình độ học vấn\n",
    "\n",
    "            - major_discipline: Ngành học chính\n",
    "\n",
    "            - experience: Kinh nghiệm (tính theo năm)\n",
    "\n",
    "            - company_size: Số lượng nhân viên trong công ty của người sử dụng lao động hiện tại\n",
    "\n",
    "            - company_type : Loại chủ lao động hiện tại\n",
    "\n",
    "            - last_new_job: Sự khác biệt về số năm giữa công việc trước đây và công việc hiện tại\n",
    "\n",
    "            - training_hours: Thời gian hoàn thành huấn luyện\n",
    "\n",
    "            - target: 0 – Không nhảy việc, 1 – Nhảy việc"
   ]
  },
  {
   "cell_type": "markdown",
   "id": "331fa9e8",
   "metadata": {},
   "source": [
    "### 3.Mỗi cột hiện đang có kiểu dữ liệu gì? Có cột nào có kiểu dữ liệu chưa phù hợp để có thể xử lý tiếp hay không?"
   ]
  },
  {
   "cell_type": "code",
   "execution_count": null,
   "id": "8b1019be",
   "metadata": {},
   "outputs": [],
   "source": [
    "df.dtypes"
   ]
  },
  {
   "cell_type": "code",
   "execution_count": null,
   "id": "db75a264",
   "metadata": {},
   "outputs": [],
   "source": [
    "df['experience'].unique()"
   ]
  },
  {
   "cell_type": "markdown",
   "id": "d9b21dec",
   "metadata": {},
   "source": [
    "Vì trong feature experience có các dữ liệu như <1, 1, 2, ..., 20, >20 nên ta sẽ chuyển dữ liệu sang dạng các khoảng như <1, 1-5, 6-10, 11-15, 16-20, >20"
   ]
  },
  {
   "cell_type": "code",
   "execution_count": null,
   "id": "df622c99",
   "metadata": {},
   "outputs": [],
   "source": [
    "df['experience'].replace({'1':'1-5',\n",
    "                            '2':'1-5',\n",
    "                            '3':'1-5',\n",
    "                            '4':'1-5',\n",
    "                            '5':'1-5',\n",
    "                            '6':'6-10',\n",
    "                            '7':'6-10',\n",
    "                            '8':'6-10',\n",
    "                            '9':'6-10',\n",
    "                            '10':'6-10',\n",
    "                            '11':'11-15',\n",
    "                            '12':'11-15',\n",
    "                            '13':'11-15',\n",
    "                            '14':'11-15',\n",
    "                            '15':'11-15',\n",
    "                            '16':'16-20',\n",
    "                            '17':'16-20',\n",
    "                            '18':'16-20',\n",
    "                            '19':'16-20',\n",
    "                            '20':'16-20'},inplace=True)"
   ]
  },
  {
   "cell_type": "markdown",
   "id": "aa1d9dc6",
   "metadata": {},
   "source": [
    "### 4.Với mỗi cột, các giá trị được phân bố như thế nào?"
   ]
  },
  {
   "cell_type": "markdown",
   "id": "1de8236b",
   "metadata": {},
   "source": [
    "#### 4.1 Với các cột có giá trị dạng số"
   ]
  },
  {
   "cell_type": "markdown",
   "id": "fefe652d",
   "metadata": {},
   "source": [
    "**Các cột dạng số:** _'enrollee_id', 'city_development_index', 'training_hours', 'target'_ \n",
    "\n",
    "DataFrame `summary_df` bên dưới chứa thông tin phân bố giá trị của các cột trên:\n",
    "- Tên của các cột là tên của các cột số trong `df`\n",
    "- Tên của các dòng có ý nghĩa là: \n",
    " + `\"missing_ratio\"`: tỉ lệ phần trăm các giá trị thiếu\n",
    " + `\"count\"`: số lượng giá trị \n",
    " + `\"mean\"`: giá trị trung bình\n",
    " + `\"std\"`: độ lệch chuẩn\n",
    " + `\"min\"`: giá trị nhỏ nhất\n",
    " + `\"25%\"`: giá trị phân vị 25%\n",
    " + `\"50%\"`: giá trị phân vị 50%\n",
    " + `\"75%\"`: giá trị phân vị 75%\n",
    " + `\"max\"`: giá trị lớn nhất"
   ]
  },
  {
   "cell_type": "code",
   "execution_count": null,
   "id": "065c7867",
   "metadata": {
    "scrolled": true
   },
   "outputs": [],
   "source": [
    "summary_df = df.describe().round(1)\n",
    "missing_ratio = pd.DataFrame(df[['enrollee_id', 'city_development_index', 'training_hours', 'target']].isna().sum() * 100/ len(df)).T.round(1)\n",
    "missing_ratio = missing_ratio.set_axis(['missing_ratio'])\n",
    "summary_df = pd.concat([missing_ratio, summary_df])\n",
    "summary_df"
   ]
  },
  {
   "cell_type": "markdown",
   "id": "35179e70",
   "metadata": {},
   "source": [
    "Theo quan sát ở trên, ta thấy các cột có giá trị số không có giá trị thiếu. Mọi thứ trong có vẻ ổn."
   ]
  },
  {
   "cell_type": "markdown",
   "id": "6c4e27ea",
   "metadata": {},
   "source": [
    "### 4.2 Với các cột có giá trị categorical"
   ]
  },
  {
   "cell_type": "markdown",
   "id": "38d285e8",
   "metadata": {},
   "source": [
    "Các giá trị sẽ tính:\n",
    "- Tỉ lệ % (từ 0 đến 100) các giá trị thiếu \n",
    "- Số lượng các giá trị (các giá trị ở đây là các giá trị khác nhau và ta không xét giá trị thiếu)\n",
    "- Tỉ lệ % (từ 0 đến 100) của mỗi giá trị được sort theo tỉ lệ % giảm dần (ta không xét giá trị thiếu, tỉ lệ là tỉ lệ so với số lượng các giá trị không thiếu)"
   ]
  },
  {
   "cell_type": "code",
   "execution_count": null,
   "id": "f17da8ae",
   "metadata": {},
   "outputs": [],
   "source": [
    "def missing_ratio(x):\n",
    "    return (x.isna().mean()*100)\n",
    "def num_values(x):\n",
    "    return len(x.dropna().value_counts())\n",
    "def value_ratios(x):\n",
    "    count_value =  x.dropna().value_counts().sort_values(ascending=False)\n",
    "    return (count_value/count_value.sum()*100).round(1).to_dict()\n",
    "cat_df_info = df.select_dtypes(include=\"object\").agg(func=[missing_ratio, num_values, value_ratios])\n",
    "cat_df_info"
   ]
  },
  {
   "cell_type": "markdown",
   "id": "9222aad9",
   "metadata": {},
   "source": [
    "Các cột gender, company_size, company_type đều có số lượng giá trị thiếu khá lớn, trên 22%. Các số liệu khác trong có vẻ ổn"
   ]
  },
  {
   "cell_type": "markdown",
   "id": "b0be5cbb",
   "metadata": {},
   "source": [
    "### 5. Tiền xử lí dữ liệu"
   ]
  },
  {
   "cell_type": "code",
   "execution_count": null,
   "id": "05b02de3",
   "metadata": {},
   "outputs": [],
   "source": [
    "df.info()"
   ]
  },
  {
   "cell_type": "markdown",
   "id": "c9407686",
   "metadata": {},
   "source": [
    "Số lượng giá trị bị thiếu."
   ]
  },
  {
   "cell_type": "code",
   "execution_count": null,
   "id": "5700dc62",
   "metadata": {},
   "outputs": [],
   "source": [
    "df.isnull().sum()"
   ]
  },
  {
   "cell_type": "markdown",
   "id": "7c0011cc",
   "metadata": {},
   "source": [
    "Ta thấy có khá nhiều giá trị bị thiếu và đa số đều là categorical. Vì vậy, ta sẽ xóa các dòng bị thiếu."
   ]
  },
  {
   "cell_type": "code",
   "execution_count": null,
   "id": "414cde4c",
   "metadata": {},
   "outputs": [],
   "source": [
    "#vì các dòng \"relevant_experience\" = \"No relevent experience\" thì các giá trị \"company_size\" và \"company_type\" là NaN. \n",
    "# nên ta cần giữ những dòng này lại \n",
    "df[df[\"relevent_experience\"]==\"No relevent experience\"] = df[df[\"relevent_experience\"]==\"No relevent experience\"].replace(np.nan, \"None\")\n",
    "df.dropna(inplace=True)\n",
    "df"
   ]
  },
  {
   "cell_type": "markdown",
   "id": "7b0ac07b",
   "metadata": {},
   "source": [
    "Số lượng dòng bị thiếu khá nhiều, khoảng 1/2 của dữ liệu."
   ]
  },
  {
   "cell_type": "markdown",
   "id": "c8933858",
   "metadata": {},
   "source": [
    "## C. Đưa ra các câu hỏi có ý nghĩa cần trả lời"
   ]
  },
  {
   "cell_type": "markdown",
   "id": "ff223113",
   "metadata": {},
   "source": [
    "### 1. Số lượng Data Scientists trên 10 năm kinh nghiệm đang tìm kiếm công việc mới trong Top 5 thành phố phát triển nhất?"
   ]
  },
  {
   "cell_type": "markdown",
   "id": "ea6ac41c",
   "metadata": {},
   "source": [
    "Lợi ích khi trả lời được câu hỏi:\n",
    "- Với vai trò là doanh nghiệp sẽ biết thêm thông tin để thay đổi chính sách đãi ngộ hay điều chỉnh môi trường làm việc để giữ chân các nhân viên tài năng của minh.\n",
    "- Liệu các Data Scientists nhiều năm kinh nghiệm có nhu cầu tìm kiếm thách thức mới cho bản thân mình.\n",
    "- Thị trường việc làm về Data Scientist ở trong Top 5 thành phố phát triển nhất."
   ]
  },
  {
   "cell_type": "markdown",
   "id": "d159fbf6",
   "metadata": {},
   "source": [
    "### 2. Số năm kinh nghiệm và kinh nghiệm có liên quan đến DS ảnh hưởng thế nào đến quyết định có nhảy việc không của người tham gia đào tạo?"
   ]
  },
  {
   "cell_type": "markdown",
   "id": "39281de4",
   "metadata": {},
   "source": [
    "**Lợi ích khi trả lời được câu hỏi:** Khi trả lời được câu hỏi công ty có thể đánh giá được đâu là một ứng viên tiềm năng muốn làm việc cho công ty dựa vào số năm kinh nghiệm và kinh nghiệm có liên quan đến DS của ứng viên để "
   ]
  },
  {
   "cell_type": "markdown",
   "id": "44884cac",
   "metadata": {},
   "source": [
    "### 7. Trình độ học vấn và kinh nghiệm làm việc của ứng viên tại các công ty lớn?\n",
    "**Lợi ích khi trả lời được câu hỏi:**\n",
    "\n",
    "  - Chúng ta sẽ biết được trình độ học vấn và kinh nghiệm hiện tại của ứng viên đó có xứng đáng để làm việc tại các công ty lớn hay không.\n",
    "\n",
    "  - Công ty lớn sẽ ưu tiên những ứng viên có trình độ học vấn và kinh nghiệm ra sao.\n",
    " \n",
    "  - Công ty lớn có nhận lao động phổ thông nhiều hay không."
   ]
  },
  {
   "cell_type": "markdown",
   "id": "cf209825",
   "metadata": {},
   "source": [
    "### 8. Sau khi hoàn thành huấn luyện ở các công ty nhỏ, ứng viên có quyết định nhảy việc hay không?\n",
    "**Lợi ích khi trả lời được câu hỏi:**\n",
    "  - Sau khi đã trải qua quá trình huấn luyện và làm việc tại các công ty nhỏ, các ứng viên sẽ ưu tiên nhảy việc để tìm bến đỗ tốt hơn hay ở lại và tiếp tục cống hiến\n",
    "\n",
    "  - Các ứng viên kiên trì như thế nào với công ty có quy mô nhỏ như hiện tại.\n",
    "\n",
    "  - Chúng ta sẽ nắm được phần nào suy nghĩ của các ứng viên đó về công ty như: chế độ đãi ngộ nhân sự, thái độ của người sử dụng lao động,..."
   ]
  },
  {
   "cell_type": "markdown",
   "id": "af943b52",
   "metadata": {},
   "source": [
    "## D. Tiền xử lý và phân tích dữ liệu để trả lời cho từng câu hỏi"
   ]
  },
  {
   "cell_type": "markdown",
   "id": "68454acb",
   "metadata": {},
   "source": [
    "### 1. Số lượng Data Scientists trên 10 năm kinh nghiệm đang tìm kiếm công việc mới trong Top 5 thành phố phát triển nhất?"
   ]
  },
  {
   "cell_type": "markdown",
   "id": "6707314e",
   "metadata": {},
   "source": [
    "### 2. Số năm kinh nghiệm và kinh nghiệm có liên quan đến DS ảnh hưởng thế nào đến quyết định có nhảy việc không của người tham gia đào tạo?"
   ]
  },
  {
   "cell_type": "markdown",
   "id": "30a8356e",
   "metadata": {},
   "source": [
    "<h3 style='color:red; font-size:25px'> 2.1 Tương quan giữa số năm kinh nghiệm và quyết định nhảy việc </h3>"
   ]
  },
  {
   "cell_type": "markdown",
   "id": "ba099d72",
   "metadata": {},
   "source": [
    "<h3 style='color:#6ac61f'> Bước 1: Tính phần trăm người quyết định nhảy việc so với tổng số người trong cùng khoảng số năm kinh nghiệm </h3>"
   ]
  },
  {
   "cell_type": "markdown",
   "id": "138e752e",
   "metadata": {},
   "source": [
    "+ 1. Tính số lượng người trong mỗi khoảng năm kinh nghiệm vào series `experience_total`\n",
    "+ 2. Tính số lượng người có quyết định nhảy việc vào series `experience_change`\n",
    "+ 3. Tính phần trăm số lượng người quyết định nhảy việc so với tổng số người trong cùng một khoảng số năm kinh nghiệm vào series `experience_change_percent`"
   ]
  },
  {
   "cell_type": "code",
   "execution_count": null,
   "id": "683f4adb",
   "metadata": {},
   "outputs": [],
   "source": [
    "#Tính số lượng người trong mỗi khoảng năm kinh nghiệm\n",
    "experience_total = df.groupby('experience')['experience'].size()\n",
    "\n",
    "#Tính số lượng người có quyết định nhảy việc\n",
    "mask = df['target'] == 1 \n",
    "experience_change = df[mask].groupby('experience')['experience'].size()\n",
    "\n",
    "#Tính phần trăm \n",
    "experience_change_percent = experience_change/experience_total\n",
    "\n",
    "experience_change_percent"
   ]
  },
  {
   "cell_type": "markdown",
   "id": "6155d78d",
   "metadata": {},
   "source": [
    "<h3 style='color:#6ac61f'> Bước 2: Trực quan </h3>"
   ]
  },
  {
   "cell_type": "markdown",
   "id": "f8d36068",
   "metadata": {},
   "source": [
    "Ta sẽ trực quan mối tương quan giữa số năm kinh nghiệm và quyết định nhảy việc bằng đồ thị dạng cột, với:\n",
    "+ Trục hoành thể hiện số năm kinh nghiệm\n",
    "+ Trục tung thể hiện phần trăm số người quyết định nhảy việc so với tổng số người trong cùng một khoảng số năm kinh nghiệm"
   ]
  },
  {
   "cell_type": "code",
   "execution_count": null,
   "id": "252927a0",
   "metadata": {},
   "outputs": [],
   "source": [
    "plt.figure(figsize=(10,7))\n",
    "\n",
    "sns.barplot(x = experience_change_percent.index, y = experience_change_percent.values)\n",
    "\n",
    "plt.title('Phần trăm số người nhảy việc so với tổng số người trong cùng khoảng số năm kinh nghiệm', fontsize=14)\n",
    "plt.xlabel('Số năm kinh nghiệm', fontsize=14)\n",
    "plt.ylabel('Phần trăm(%)', fontsize=14)\n",
    "plt.grid(True)\n",
    "\n",
    "plt.show()"
   ]
  },
  {
   "cell_type": "markdown",
   "id": "2ad35aa6",
   "metadata": {},
   "source": [
    "<h3 style='color:#6ac61f; line-height: 1.5;'>🤔🤔🤔 Từ biểu đồ trên ta có thể thấy một ứng viên có số năm kinh nghiệm càng cao thì khả năng ứng viên đó nhảy việc càng thấp. Điều này có thể dự đoán là bởi khi một người có số năm kinh nghiệm và tuổi càng tăng lên họ sẽ muốn một công việc ổn định bởi cơ hội và khả năng thăng tiến cũng giảm dần.\n",
    "</h3>"
   ]
  },
  {
   "cell_type": "markdown",
   "id": "d86cc4f3",
   "metadata": {},
   "source": [
    "---"
   ]
  },
  {
   "cell_type": "markdown",
   "id": "48930b33",
   "metadata": {},
   "source": [
    "<h3 style='color:red; font-size:25px'> 2.2 Tương quan giữa kinh nghiệm liên quan đến DS và quyết định nhảy việc </h3>"
   ]
  },
  {
   "cell_type": "markdown",
   "id": "acd9c0c2",
   "metadata": {},
   "source": [
    "<h3 style='color:#6ac61f'> Bước 1: Tính phần trăm nhảy việc so với tổng số người có kinh nghiệm hoặc không có kinh nghiệm liên quan đến DS </h3>"
   ]
  },
  {
   "cell_type": "markdown",
   "id": "2ba5e837",
   "metadata": {},
   "source": [
    "+ 1. Tính số lượng người có kinh nghiệm và không có kinh nghiệm DS vào series `sr_total`\n",
    "+ 2. Tính số lượng người có quyết định nhảy việc có kinh nghiệm và không có kinh nghiệm DS vào series `sr_change`\n",
    "+ 3. Tính phần trăm nhảy việc so với tổng số người có kinh nghiệm hoặc không có kinh nghiệm liên quan đến DS vào series `sr_change_percent`"
   ]
  },
  {
   "cell_type": "code",
   "execution_count": null,
   "id": "d9e55fab",
   "metadata": {},
   "outputs": [],
   "source": [
    "#Tính số lượng người có kinh nghiệm và không có kinh nghiệm DS \n",
    "sr_total = df[['relevent_experience']].groupby('relevent_experience').size()\n",
    "\n",
    "#Tính số lượng người có quyết định nhảy việc có kinh nghiệm và không có kinh nghiệm DS\n",
    "mask = df['target'] == 1\n",
    "sr_change = df.loc[mask,['relevent_experience']].groupby('relevent_experience').size()\n",
    "\n",
    "#Tính phần trăm nhảy việc so với tổng số người có kinh nghiệm hoặc không có kinh nghiệm liên quan đến DS\n",
    "sr_change_percent = sr_change/sr_total * 100\n",
    "sr_change_percent"
   ]
  },
  {
   "cell_type": "markdown",
   "id": "d64a7925",
   "metadata": {},
   "source": [
    "<h3 style='color:#6ac61f'> Bước 2: Trực quan </h3>"
   ]
  },
  {
   "cell_type": "markdown",
   "id": "b6cb2a24",
   "metadata": {},
   "source": [
    "Ta sẽ trực quan mối tương quan giữa kinh nghiệm liên quan đến DS và quyết định nhảy việc bằng đồ thị dạng cột, với:\n",
    "+ Trục hoành gồm 2 cột `Has relevent experience` và `No relevent experience`\n",
    "+ Trục tung thể hiện phần trăm"
   ]
  },
  {
   "cell_type": "code",
   "execution_count": null,
   "id": "c3a05534",
   "metadata": {
    "scrolled": false
   },
   "outputs": [],
   "source": [
    "plt.figure(figsize=(10,7))\n",
    "\n",
    "sns.barplot(x=sr_change_percent.index, y=sr_change_percent.values, color=\"#6ac61f\")\n",
    "\n",
    "plt.title('Tương quan giữa kinh nghiệm liên quan đến DS và quyết định nhảy việc', fontsize=12)\n",
    "plt.xlabel('Kinh nghiệm liên quan đến DS', fontsize=12)\n",
    "plt.ylabel('Phần trăm(%)', fontsize=12)\n",
    "plt.grid(True)\n",
    "\n",
    "plt.show()"
   ]
  },
  {
   "cell_type": "markdown",
   "id": "5e0fe942",
   "metadata": {},
   "source": [
    "<h3 style='color:#6ac61f; line-height: 1.5;'>🧐🧐🧐 Từ biểu đồ trên ta có thể thấy phần trăm những người không có kinh nghiệm liên quan đến DS có mong muốn nhảy việc cao hơn những người có kinh nghiệm khoảng 10%.\n",
    "</h3>"
   ]
  },
  {
   "cell_type": "markdown",
   "id": "95ff74e7",
   "metadata": {},
   "source": [
    "--- ----"
   ]
  },
  {
   "cell_type": "markdown",
   "id": "bce7dfb5",
   "metadata": {},
   "source": [
    "### 7. Trình độ học vấn và kinh nghiệm làm việc của ứng viên tại các công ty lớn?"
   ]
  },
  {
   "cell_type": "markdown",
   "id": "f7e44fd3",
   "metadata": {},
   "source": [
    "#### 7.1. Xử lý dữ liệu\n",
    "- company_size: chuyển các giá trị '10/49' sang '10-49'\n",
    "\n",
    "- Ta quy ước:  Các công ty có **500 nhân viên trở lên** là công ty lớn"
   ]
  },
  {
   "cell_type": "code",
   "execution_count": null,
   "id": "b77752b3",
   "metadata": {},
   "outputs": [],
   "source": [
    "df['company_size'].replace('10/49', '10-49', inplace=True)\n",
    "big_com = ['500-999', '1000-4999', '5000-9999', '10000+']\n",
    "\n",
    "temp = df[df['company_size'].isin(big_com)][['education_level', 'experience', 'company_size']]\n",
    "\n",
    "temp"
   ]
  },
  {
   "cell_type": "markdown",
   "id": "eb3e637e",
   "metadata": {},
   "source": [
    "#### 7.2. Nhận xét về trình độ học vấn (education_level) của lao động ở các công ty lớn"
   ]
  },
  {
   "cell_type": "markdown",
   "id": "3c111378",
   "metadata": {},
   "source": [
    "- Ta sẽ chia thành 2 nhóm: \n",
    "\n",
    "        - Lao động phổ thông (từ High School trở xuống)\n",
    "        - Lao động có bằng cấp (Từ Graduate trở lên)."
   ]
  },
  {
   "cell_type": "code",
   "execution_count": null,
   "id": "cee71262",
   "metadata": {},
   "outputs": [],
   "source": [
    "temp['education_level'].value_counts()"
   ]
  },
  {
   "cell_type": "code",
   "execution_count": null,
   "id": "fdc8de8c",
   "metadata": {},
   "outputs": [],
   "source": [
    "non_degree = round(temp['education_level'].value_counts()['High School':].sum() / temp['education_level'].value_counts().sum(), 2)\n",
    "print('Tỉ lệ lao động có bằng cấp', 100 - non_degree)\n",
    "print('Tỉ lệ lao động phổ thông:', non_degree)"
   ]
  },
  {
   "cell_type": "markdown",
   "id": "9a621cee",
   "metadata": {},
   "source": [
    "- Các ứng viên có bằng cấp và lao động phổ thông phân bố như thế nào ở các công ty có quy mô lớn.\n",
    "\n",
    "- Lưu ý: Ở trình độ tiểu học (Primary School): cột thứ 3, 4 không có ai hợp lệ nên chúng ta chỉ gán cho cột 1, 2 thôi"
   ]
  },
  {
   "cell_type": "code",
   "execution_count": null,
   "id": "53bba123",
   "metadata": {},
   "outputs": [],
   "source": [
    "data = temp[['education_level', 'company_size']].value_counts(normalize=True).round(4)\n",
    "data = data.reset_index()\n",
    "\n",
    "a = pd.DataFrame(index=data['education_level'].unique(), columns=data[data['education_level'] == 'Graduate']['company_size'].values)\n",
    "\n",
    "# Dòng gần cuối sẽ gán ngoài vòng lặp\n",
    "for i in range(len(a.index) - 1):\n",
    "    a.iloc[i] = data[data['education_level'] == a.index[i]][0]\n",
    "\n",
    "# Vì các cột thứ 3, 4 của dòng này không có giá trị nào cả\n",
    "a.iloc[5][0:2] = data[data['education_level'] == a.index[5]][0]\n",
    "\n",
    "print('Tỉ lệ toàn phần:', a.sum().sum())\n",
    "a\n"
   ]
  },
  {
   "cell_type": "markdown",
   "id": "bd026693",
   "metadata": {},
   "source": [
    "- Nhận xét:\n",
    "\n",
    "        - Trình độ học vấn của lao động ở các công ty này hầu hết đều là tốt nghiệp đại học trở lên.\n",
    "        - Tỉ lệ lao động phổ thông phân bố ở các công ty này rất nhỏ.\n",
    "        - Phần lớn lao động phổ thông đều đã tốt nghiệp cấp 3 (High School)."
   ]
  },
  {
   "cell_type": "markdown",
   "id": "6485b4b4",
   "metadata": {},
   "source": [
    "#### 7.3. Nhận xét về kinh nghiệm làm việc của ứng viên tại các công ty lớn này"
   ]
  },
  {
   "cell_type": "markdown",
   "id": "558d9dfd",
   "metadata": {},
   "source": [
    "- Các ứng viên phân bố như thế nào ở các công ty lớn (dựa trên kinh nghiệm)\n",
    "\n",
    "- Lưu ý: Ở dòng không có kinh nghiệm (None): cột thứ 3, 4 không có ai hợp lệ nên chúng ta chỉ gán cho cột 1, 2 thôi"
   ]
  },
  {
   "cell_type": "code",
   "execution_count": null,
   "id": "4c7d22f2",
   "metadata": {},
   "outputs": [],
   "source": [
    "data = temp[['experience', 'company_size']].value_counts(normalize=True).round(4)\n",
    "data = data.reset_index()\n",
    "\n",
    "a = pd.DataFrame(index=data['experience'].unique(), columns=data[data['experience'] == '>20']['company_size'].values)\n",
    "\n",
    "# Dòng gần cuối sẽ gán ngoài vòng lặp\n",
    "for i in range(len(a.index) - 1):\n",
    "    a.iloc[i] = data[data['experience'] == a.index[i]][0]\n",
    "\n",
    "# Vì các cột thứ 3, 4 của dòng này không có giá trị nào cả nên chỉ gán cho cột 1, 2\n",
    "a.iloc[6][0:2] = data[data['experience'] == a.index[6]][0]\n",
    "\n",
    "print('Tỉ lệ toàn phần:', a.sum().sum())\n",
    "a"
   ]
  },
  {
   "cell_type": "markdown",
   "id": "b9bada11",
   "metadata": {},
   "source": [
    "- Nếu quy ước một ứng viên lành nghề là người có kinh nghiệm từ 5 năm trở lên. Ta sẽ có tỉ lệ phân bố ứng viên lành nghề của các công ty này là:"
   ]
  },
  {
   "cell_type": "code",
   "execution_count": null,
   "id": "4ed44738",
   "metadata": {},
   "outputs": [],
   "source": [
    "senior = ['6-10', '11-15', '16-20', '>20']\n",
    "data[data['experience'].isin(senior)][0].sum().round(4)"
   ]
  },
  {
   "cell_type": "markdown",
   "id": "5a8f2a30",
   "metadata": {},
   "source": [
    "- Nhận xét:\n",
    "\n",
    "        - Tỉ lệ ứng viên lành nghề phân bố ở các công ty này rất cao (gần 80%).\n",
    "        - Ngoài ra, tỉ lệ ứng viên trong khoảng 1-5 năm kinh nghiệm cũng chiếm hầu hết phần còn lại.\n",
    "        - Tỉ lệ lao động không có kinh nghiệm chiếm quá nhỏ, không đáng kể."
   ]
  },
  {
   "cell_type": "markdown",
   "id": "893184e5",
   "metadata": {},
   "source": [
    "### 8. Sau khi hoàn thành huấn luyện ở các công ty nhỏ, ứng viên có quyết định nhảy việc hay không?\n",
    "#### 8.1. Xử lý dữ liệu"
   ]
  },
  {
   "cell_type": "markdown",
   "id": "f5c70e01",
   "metadata": {},
   "source": [
    "- Ta quy ước các công ty nhỏ có số lượng lao động không quá 100. "
   ]
  },
  {
   "cell_type": "code",
   "execution_count": null,
   "id": "44226ebb",
   "metadata": {},
   "outputs": [],
   "source": [
    "small_com = ['None', '<10', '50-99', '10-49']\n",
    "temp1 = df[df['company_size'].isin(small_com)][['training_hours', 'experience', 'target']]"
   ]
  },
  {
   "cell_type": "markdown",
   "id": "5e65eb52",
   "metadata": {},
   "source": [
    "#### 8.2. Nhận xét về tỉ lệ nhảy việc sau thời gian huấn luyện"
   ]
  },
  {
   "cell_type": "markdown",
   "id": "30a89ef0",
   "metadata": {},
   "source": [
    "- Tại các công ty nhỏ, sau một khoảng thời gian đào tạo, các ứng viên này chọn ra đi tìm bến đỗ mới tốt hơn. \n",
    "\n",
    "- Các ứng viên này đã có bao nhiêu kinh nghiệm làm việc trước đó mà lại đưa ra quyết định như vậy."
   ]
  },
  {
   "cell_type": "code",
   "execution_count": null,
   "id": "a49bb1f8",
   "metadata": {},
   "outputs": [],
   "source": [
    "data = temp1[temp1['target'] == 1.0][['training_hours', 'experience']]\n",
    "data.shape"
   ]
  },
  {
   "cell_type": "markdown",
   "id": "8b5ac36b",
   "metadata": {},
   "source": [
    "##### 8.2.1. Lao động lành nghề"
   ]
  },
  {
   "cell_type": "code",
   "execution_count": null,
   "id": "1cd1b8cb",
   "metadata": {},
   "outputs": [],
   "source": [
    "round((data[data['experience'].isin(senior)][['training_hours', 'experience']].shape[0] / data.shape[0]) , 2)"
   ]
  },
  {
   "cell_type": "markdown",
   "id": "4875f867",
   "metadata": {},
   "source": [
    "- Ta sẽ chia làm 3 nhóm: **dưới 100 giờ, từ 100-200 giờ, trên 200 giờ**."
   ]
  },
  {
   "cell_type": "code",
   "execution_count": null,
   "id": "dde512be",
   "metadata": {},
   "outputs": [],
   "source": [
    "traning_hours = data[data['experience'].isin(senior)][['training_hours', 'experience']]\n",
    "less_than_1o0 = traning_hours[traning_hours['training_hours'] < 100].value_counts('experience')\n",
    "from_100_to_200 = traning_hours[traning_hours['training_hours'].isin(range(100, 200))].value_counts('experience')\n",
    "more_than_200 = traning_hours[traning_hours['training_hours'] > 200].value_counts('experience')\n",
    "\n",
    "# Dưới 100 giờ\n",
    "print('------------------')\n",
    "print('Dưới 100 giờ:')\n",
    "print(less_than_1o0)\n",
    "print('------------------')\n",
    "\n",
    "# 100-200 giờ\n",
    "print('Từ 100-200 giờ:')\n",
    "print(from_100_to_200)\n",
    "print('------------------')\n",
    "\n",
    "# Trên 200 giờ\n",
    "print('Trên 200 giờ:')\n",
    "print(more_than_200)\n",
    "print('------------------')"
   ]
  },
  {
   "cell_type": "markdown",
   "id": "4c7b4a25",
   "metadata": {},
   "source": [
    "##### 8.2.2. Lao động không lành nghề"
   ]
  },
  {
   "cell_type": "markdown",
   "id": "af137d97",
   "metadata": {},
   "source": [
    "- Là các ứng viên có số năm kinh nghiệm ít hơn 5"
   ]
  },
  {
   "cell_type": "code",
   "execution_count": null,
   "id": "9002e0d9",
   "metadata": {},
   "outputs": [],
   "source": [
    "round((data[data['experience'].isin(['1-5', '<1', 'None'])][['training_hours', 'experience']].shape[0] / data.shape[0]), 2)"
   ]
  },
  {
   "cell_type": "markdown",
   "id": "9a6806c1",
   "metadata": {},
   "source": [
    "- Ta sẽ chia làm 3 nhóm: **dưới 100 giờ, từ 100-200 giờ, trên 200 giờ**."
   ]
  },
  {
   "cell_type": "code",
   "execution_count": null,
   "id": "1dc1d341",
   "metadata": {},
   "outputs": [],
   "source": [
    "traning_hours = data[data['experience'].isin(['1-5', '<1', 'None'])][['training_hours', 'experience']]\n",
    "less_than_1o0 = traning_hours[traning_hours['training_hours'] < 100].value_counts('experience')\n",
    "from_100_to_200 = traning_hours[traning_hours['training_hours'].isin(range(100, 200))].value_counts('experience')\n",
    "more_than_200 = traning_hours[traning_hours['training_hours'] > 200].value_counts('experience')\n",
    "\n",
    "# Dưới 100 giờ\n",
    "print('------------------')\n",
    "print('Dưới 100 giờ:')\n",
    "print(less_than_1o0)\n",
    "print('------------------')\n",
    "\n",
    "# 100-200 giờ\n",
    "print('Từ 100-200 giờ:')\n",
    "print(from_100_to_200)\n",
    "print('------------------')\n",
    "\n",
    "# Trên 200 giờ\n",
    "print('Trên 200 giờ:')\n",
    "print(more_than_200)\n",
    "print('------------------')"
   ]
  },
  {
   "cell_type": "markdown",
   "id": "96959083",
   "metadata": {},
   "source": [
    "##### 8.2.3. Nhận xét chung"
   ]
  },
  {
   "cell_type": "markdown",
   "id": "c5fedbf8",
   "metadata": {},
   "source": [
    "- Ta thấy tỉ lệ lao động lành nghề nhiều hơn so với lao động không lành nghề (6:4).\n",
    "\n",
    "- Với những người không lành nghề:\n",
    "\n",
    "        - Ta có thể hiểu đơn giản là họ cảm thấy bản thân đã đủ kinh nghiệm nên họ chọn ra đi để tìm kiếm bến đỗ mới tốt hơn.\n",
    "        - Phân bố dữ liệu không đồng đều theo thời gian huấn luyện.\n",
    "        - Số lượng ứng viên có khoảng 1-5 năm kinh nghiệm áp đảo phần còn lại.\n",
    "\n",
    "- Với những người lành nghề:\n",
    "\n",
    "        - Có vẻ việc họ không thỏa mãn với quy mô công ty hiện tại hoặc chế độ đãi ngộ không tương xứng nên quyết định ra đi.\n",
    "        - Phân bố dữ liệu đa dạng hơn nhóm trên.\n",
    "        - Không có sự chênh lệch quá lớn giữa từng cặp như trên.\n"
   ]
  },
  {
   "cell_type": "markdown",
   "id": "2cc97387",
   "metadata": {},
   "source": [
    "#### 8.3. Về tỉ lệ ứng viên ở lại"
   ]
  },
  {
   "cell_type": "markdown",
   "id": "d470a032",
   "metadata": {},
   "source": [
    "- Tại các công ty nhỏ, sau một khoảng thời gian đào tạo, các ứng viên này chọn ở lại và tiếp tục cống hiến. \n",
    "\n",
    "- Các ứng viên này đã có bao nhiêu kinh nghiệm làm việc trước đó mà lại đưa ra quyết định như vậy."
   ]
  },
  {
   "cell_type": "code",
   "execution_count": null,
   "id": "97a497e5",
   "metadata": {},
   "outputs": [],
   "source": [
    "data = temp1[temp1['target'] == 0.0][['training_hours', 'experience']]\n",
    "data.shape"
   ]
  },
  {
   "cell_type": "markdown",
   "id": "f809e674",
   "metadata": {},
   "source": [
    "- Trước tiên về số lượng ứng viên ở lại, ta thấy con số này **nhiều hơn khoảng 2.5 lần** so với số lượng ứng viên nhảy việc"
   ]
  },
  {
   "cell_type": "code",
   "execution_count": null,
   "id": "2acf9d3f",
   "metadata": {},
   "outputs": [],
   "source": [
    "round((temp1[temp1['target'] == 0.0].shape[0] / temp1[temp1['target'] == 1.0].shape[0]), 2)"
   ]
  },
  {
   "cell_type": "markdown",
   "id": "e9a9828f",
   "metadata": {},
   "source": [
    "##### 8.3.1. Lao động lành nghề"
   ]
  },
  {
   "cell_type": "code",
   "execution_count": null,
   "id": "729895a5",
   "metadata": {},
   "outputs": [],
   "source": [
    "round((data[data['experience'].isin(senior)][['training_hours', 'experience']].shape[0] / data.shape[0]), 2)"
   ]
  },
  {
   "cell_type": "markdown",
   "id": "00130e8b",
   "metadata": {},
   "source": [
    "- Ta chia làm 3 nhóm: **dưới 100 giờ, từ 100-200 giờ, trên 200 giờ**"
   ]
  },
  {
   "cell_type": "code",
   "execution_count": null,
   "id": "70907517",
   "metadata": {},
   "outputs": [],
   "source": [
    "traning_hours = data[data['experience'].isin(senior)][['training_hours', 'experience']]\n",
    "less_than_100 = traning_hours[traning_hours['training_hours'] < 100].value_counts('experience')\n",
    "from_100_to_200 = traning_hours[traning_hours['training_hours'].isin(range(100, 200))].value_counts('experience')\n",
    "more_than_200 = traning_hours[traning_hours['training_hours'] > 200].value_counts('experience')\n",
    "\n",
    "# Dưới 100 giờ\n",
    "print('------------------')\n",
    "print('Dưới 100 giờ:')\n",
    "print(less_than_100)\n",
    "print('------------------')\n",
    "\n",
    "# 100-200 giờ\n",
    "print('Từ 100-200 giờ:')\n",
    "print(from_100_to_200)\n",
    "print('------------------')\n",
    "\n",
    "# Trên 200 giờ\n",
    "print('Trên 200 giờ:')\n",
    "print(more_than_200)\n",
    "print('------------------')"
   ]
  },
  {
   "cell_type": "markdown",
   "id": "af450eaa",
   "metadata": {},
   "source": [
    "##### 8.3.2. Lao động không lành nghề"
   ]
  },
  {
   "cell_type": "code",
   "execution_count": null,
   "id": "cb950e72",
   "metadata": {},
   "outputs": [],
   "source": [
    "round((data[data['experience'].isin(['1-5', '<1', 'None'])][['training_hours', 'experience']].shape[0] / data.shape[0]), 2)"
   ]
  },
  {
   "cell_type": "markdown",
   "id": "d2d3610e",
   "metadata": {},
   "source": [
    "- Ta chia làm 3 nhóm: **dưới 100 giờ, từ 100-200 giờ, trên 200 giờ**"
   ]
  },
  {
   "cell_type": "code",
   "execution_count": null,
   "id": "a4257dd3",
   "metadata": {},
   "outputs": [],
   "source": [
    "traning_hours = data[data['experience'].isin(['1-5', '<1', 'None'])][['training_hours', 'experience']]\n",
    "less_than_100 = traning_hours[traning_hours['training_hours'] < 100].value_counts('experience')\n",
    "from_100_to_200 = traning_hours[traning_hours['training_hours'].isin(range(100, 200))].value_counts('experience')\n",
    "more_than_200 = traning_hours[traning_hours['training_hours'] > 200].value_counts('experience')\n",
    "\n",
    "# Dưới 100 giờ\n",
    "print('------------------')\n",
    "print('Dưới 100 giờ:')\n",
    "print(less_than_100)\n",
    "print('------------------')\n",
    "\n",
    "# 100-200 giờ\n",
    "print('Từ 100-200 giờ:')\n",
    "print(from_100_to_200)\n",
    "print('------------------')\n",
    "\n",
    "# Trên 200 giờ\n",
    "print('Trên 200 giờ:')\n",
    "print(more_than_200)\n",
    "print('------------------')"
   ]
  },
  {
   "cell_type": "markdown",
   "id": "37e44e98",
   "metadata": {},
   "source": [
    "##### 8.3.3. Nhận xét chung"
   ]
  },
  {
   "cell_type": "markdown",
   "id": "1a940142",
   "metadata": {},
   "source": [
    "- Tỉ lệ ứng viên ở lại áp dảo tỉ lệ ứng viên nhảy việc (gấp 2.5 lần).\n",
    "\n",
    "- Ta thấy tỉ lệ lao động lành nghề nhiều hơn so với lao động không lành nghề (6:4).\n",
    "\n",
    "- Với những người không lành nghề:\n",
    "\n",
    "        - Ta có thể hiểu đơn giản là họ cảm thấy bản thân chưa đủ kinh nghiệm nên việc chọn ở lại để rèn luyện thêm là dễ hiểu hoặc là họ đang tìm kiếm cơ hội tốt hơn.\n",
    "        - Phân bố dữ liệu không đồng đều theo thời gian huấn luyện\n",
    "        - Số lượng ứng viên có khoảng 1-5 năm kinh nghiệm áp đảo phần còn lại.\n",
    "\n",
    "- Với những người lành nghề:\n",
    "\n",
    "        - Có vẻ việc họ ở lại các công ty nhỏ này chỉ là đang tìm kiếm cơ hội tốt hơn hoặc cũng có thể là họ chỉ đi làm vì đam mê thôi.\n",
    "        - Phân bố dữ liệu đa dạng hơn nhóm trên.\n",
    "        - Không có sự chênh lệch quá lớn giữa từng cặp như trên."
   ]
  },
  {
   "cell_type": "markdown",
   "id": "51b8b839",
   "metadata": {},
   "source": [
    "## E. Tổng hợp lại quá trình thực hiện đồ án"
   ]
  },
  {
   "cell_type": "code",
   "execution_count": null,
   "id": "492e34a1",
   "metadata": {},
   "outputs": [],
   "source": []
  }
 ],
 "metadata": {
  "kernelspec": {
   "display_name": "Python 3 (ipykernel)",
   "language": "python",
   "name": "python3"
  },
  "language_info": {
   "codemirror_mode": {
    "name": "ipython",
    "version": 3
   },
   "file_extension": ".py",
   "mimetype": "text/x-python",
   "name": "python",
   "nbconvert_exporter": "python",
   "pygments_lexer": "ipython3",
   "version": "3.10.0"
  },
  "vscode": {
   "interpreter": {
    "hash": "76d7c06053c3456e5600312cec90888656fc0ed30c03d8425b9dac6e4fc8e014"
   }
  }
 },
 "nbformat": 4,
 "nbformat_minor": 5
}
