{
 "cells": [
  {
   "cell_type": "markdown",
   "id": "a8951463",
   "metadata": {},
   "source": [
    "# ĐỒ ÁN THỰC HÀNH\n",
    "# CSC17104 – LẬP TRÌNH CHO KHOA HỌC DỮ LIỆU\n",
    "\n",
    "Giảng viên: Bùi Tiến Lên\n",
    "\n",
    "Thông tin thành viên:\n",
    "1. Nguyễn Văn Tuấn Đạt 19120472\n",
    "2. Phan Xuân Hoài 20120481\n",
    "3. Luân Mã Khương 20120515\n",
    "4. "
   ]
  },
  {
   "cell_type": "markdown",
   "id": "95e50bfe",
   "metadata": {},
   "source": [
    "## Import"
   ]
  },
  {
   "cell_type": "code",
   "execution_count": null,
   "id": "cfca7384",
   "metadata": {},
   "outputs": [],
   "source": [
    "import numpy as np\n",
    "import pandas as pd\n",
    "import matplotlib.pyplot as plt\n",
    "import seaborn as sns\n",
    "import math\n",
    "sns.set_theme()\n",
    "\n",
    "import warnings\n",
    "warnings.simplefilter(\"ignore\", category=RuntimeWarning)"
   ]
  },
  {
   "cell_type": "markdown",
   "id": "c74bb047",
   "metadata": {},
   "source": [
    "## A. Thu thập dữ liệu\n",
    "- Tên dữ liệu: HR Analytics: Job Change of Data Scientists\n",
    "- Nguồn lấy dữ liệu: kaggle\n",
    "- Link dữ liệu: https://www.kaggle.com/datasets/arashnic/hr-analytics-job-change-of-data-scientists\n",
    "- License: CC0: Public Domain\n",
    "- Mô tả về dữ liệu: dữ liệu gồm tập train và tập test. Trong đồ án này, nhóm sẽ sử dụng tập train.\n",
    "            + Dữ liệu gồm 14 cột và 19158 dòng."
   ]
  },
  {
   "cell_type": "code",
   "execution_count": null,
   "id": "da540175",
   "metadata": {},
   "outputs": [],
   "source": [
    "df = pd.read_csv('aug_train.csv', encoding='utf-8')\n",
    "df.shape"
   ]
  },
  {
   "cell_type": "code",
   "execution_count": null,
   "id": "4cf47e09",
   "metadata": {},
   "outputs": [],
   "source": [
    "df.head(10)"
   ]
  },
  {
   "cell_type": "markdown",
   "id": "a08ad4fb",
   "metadata": {},
   "source": [
    "## B. Khám phá dữ liệu (thường đan xen với pha tiền xử lý dữ liệu)"
   ]
  },
  {
   "cell_type": "markdown",
   "id": "23fdded6",
   "metadata": {},
   "source": [
    "### 1.Mỗi dòng có ý nghĩa gì? Có vấn đề với các dòng có ý nghĩa khác nhau không?"
   ]
  },
  {
   "cell_type": "markdown",
   "id": "990ee175",
   "metadata": {},
   "source": [
    "* Mỗi dòng là thông tin của từng ứng viên, trong đó mỗi ô của dòng là dữ liệu tương ứng với cột của ô đó\n",
    "* Không có vấn đề các dòng có ý nghĩa khác nhau"
   ]
  },
  {
   "cell_type": "markdown",
   "id": "7595ba91",
   "metadata": {},
   "source": [
    "### 1.1 Kiểm tra các dòng có bị trùng lặp hay không?"
   ]
  },
  {
   "cell_type": "code",
   "execution_count": null,
   "id": "4bf3b147",
   "metadata": {},
   "outputs": [],
   "source": [
    "have_duplicated_rows = np.any(df.duplicated())\n",
    "have_duplicated_rows"
   ]
  },
  {
   "cell_type": "markdown",
   "id": "616e90c2",
   "metadata": {},
   "source": [
    "Các dòng không bị trùng lặp."
   ]
  },
  {
   "cell_type": "markdown",
   "id": "2855aa45",
   "metadata": {},
   "source": [
    "### 2.Mỗi cột có ý nghĩa gì?\n",
    "            \n",
    "            - enrollee_id : ID với từng ứng viên\n",
    "\n",
    "            - city: Mã thành phố\n",
    "\n",
    "            - city_ development _index : Chỉ số phát triển của thành phố (theo tỷ lệ)\n",
    "\n",
    "            - gender: Giới tính\n",
    "\n",
    "            - relevent_experience: Kinh nghiệm liên quan của ứng viên\n",
    "\n",
    "            - enrolled_university: Loại khóa học đại học đã đăng ký nếu có\n",
    "\n",
    "            - education_level: Trình độ học vấn\n",
    "\n",
    "            - major_discipline: Ngành học chính\n",
    "\n",
    "            - experience: Kinh nghiệm (tính theo năm)\n",
    "\n",
    "            - company_size: Số lượng nhân viên trong công ty của người sử dụng lao động hiện tại\n",
    "\n",
    "            - company_type : Loại chủ lao động hiện tại\n",
    "\n",
    "            - last_new_job: Sự khác biệt về số năm giữa công việc trước đây và công việc hiện tại\n",
    "\n",
    "            - training_hours: Thời gian hoàn thành huấn luyện\n",
    "\n",
    "            - target: 0 – Không nhảy việc, 1 – Nhảy việc"
   ]
  },
  {
   "cell_type": "markdown",
   "id": "331fa9e8",
   "metadata": {},
   "source": [
    "### 3.Mỗi cột hiện đang có kiểu dữ liệu gì? Có cột nào có kiểu dữ liệu chưa phù hợp để có thể xử lý tiếp hay không?"
   ]
  },
  {
   "cell_type": "code",
   "execution_count": null,
   "id": "8b1019be",
   "metadata": {},
   "outputs": [],
   "source": [
    "df.dtypes"
   ]
  },
  {
   "cell_type": "code",
   "execution_count": null,
   "id": "db75a264",
   "metadata": {},
   "outputs": [],
   "source": [
    "df['experience'].unique()"
   ]
  },
  {
   "cell_type": "markdown",
   "id": "d9b21dec",
   "metadata": {},
   "source": [
    "Vì trong feature experience có các dữ liệu như <1, 1, 2, ..., 20, >20 nên ta sẽ chuyển dữ liệu sang dạng các khoảng như <1, 1-5, 6-10, 11-15, 16-20, >20"
   ]
  },
  {
   "cell_type": "code",
   "execution_count": null,
   "id": "df622c99",
   "metadata": {},
   "outputs": [],
   "source": [
    "df['experience'].replace({'1':'1-5',\n",
    "                            '2':'1-5',\n",
    "                            '3':'1-5',\n",
    "                            '4':'1-5',\n",
    "                            '5':'1-5',\n",
    "                            '6':'6-10',\n",
    "                            '7':'6-10',\n",
    "                            '8':'6-10',\n",
    "                            '9':'6-10',\n",
    "                            '10':'6-10',\n",
    "                            '11':'11-15',\n",
    "                            '12':'11-15',\n",
    "                            '13':'11-15',\n",
    "                            '14':'11-15',\n",
    "                            '15':'11-15',\n",
    "                            '16':'16-20',\n",
    "                            '17':'16-20',\n",
    "                            '18':'16-20',\n",
    "                            '19':'16-20',\n",
    "                            '20':'16-20'},inplace=True)"
   ]
  },
  {
   "cell_type": "markdown",
   "id": "aa1d9dc6",
   "metadata": {},
   "source": [
    "### 4.Với mỗi cột, các giá trị được phân bố như thế nào?"
   ]
  },
  {
   "cell_type": "markdown",
   "id": "1de8236b",
   "metadata": {},
   "source": [
    "#### 4.1 Với các cột có giá trị dạng số"
   ]
  },
  {
   "cell_type": "markdown",
   "id": "fefe652d",
   "metadata": {},
   "source": [
    "**Các cột dạng số:** _'enrollee_id', 'city_development_index', 'training_hours', 'target'_ \n",
    "\n",
    "DataFrame `summary_df` bên dưới chứa thông tin phân bố giá trị của các cột trên:\n",
    "- Tên của các cột là tên của các cột số trong `df`\n",
    "- Tên của các dòng có ý nghĩa là: \n",
    " + `\"missing_ratio\"`: tỉ lệ phần trăm các giá trị thiếu\n",
    " + `\"count\"`: số lượng giá trị \n",
    " + `\"mean\"`: giá trị trung bình\n",
    " + `\"std\"`: độ lệch chuẩn\n",
    " + `\"min\"`: giá trị nhỏ nhất\n",
    " + `\"25%\"`: giá trị phân vị 25%\n",
    " + `\"50%\"`: giá trị phân vị 50%\n",
    " + `\"75%\"`: giá trị phân vị 75%\n",
    " + `\"max\"`: giá trị lớn nhất"
   ]
  },
  {
   "cell_type": "code",
   "execution_count": null,
   "id": "065c7867",
   "metadata": {
    "scrolled": true
   },
   "outputs": [],
   "source": [
    "summary_df = df.describe().round(1)\n",
    "missing_ratio = pd.DataFrame(df[['enrollee_id', 'city_development_index', 'training_hours', 'target']].isna().sum() * 100/ len(df)).T.round(1)\n",
    "missing_ratio = missing_ratio.set_axis(['missing_ratio'])\n",
    "summary_df = pd.concat([missing_ratio, summary_df])\n",
    "summary_df"
   ]
  },
  {
   "cell_type": "markdown",
   "id": "35179e70",
   "metadata": {},
   "source": [
    "Theo quan sát ở trên, ta thấy các cột có giá trị số không có giá trị thiếu. Mọi thứ trong có vẻ ổn."
   ]
  },
  {
   "cell_type": "markdown",
   "id": "6c4e27ea",
   "metadata": {},
   "source": [
    "### 4.2 Với các cột có giá trị categorical"
   ]
  },
  {
   "cell_type": "markdown",
   "id": "38d285e8",
   "metadata": {},
   "source": [
    "Các giá trị sẽ tính:\n",
    "- Tỉ lệ % (từ 0 đến 100) các giá trị thiếu \n",
    "- Số lượng các giá trị (các giá trị ở đây là các giá trị khác nhau và ta không xét giá trị thiếu)\n",
    "- Tỉ lệ % (từ 0 đến 100) của mỗi giá trị được sort theo tỉ lệ % giảm dần (ta không xét giá trị thiếu, tỉ lệ là tỉ lệ so với số lượng các giá trị không thiếu)"
   ]
  },
  {
   "cell_type": "code",
   "execution_count": null,
   "id": "f17da8ae",
   "metadata": {},
   "outputs": [],
   "source": [
    "def missing_ratio(x):\n",
    "    return (x.isna().mean()*100)\n",
    "def num_values(x):\n",
    "    return len(x.dropna().value_counts())\n",
    "def value_ratios(x):\n",
    "    count_value =  x.dropna().value_counts().sort_values(ascending=False)\n",
    "    return (count_value/count_value.sum()*100).round(1).to_dict()\n",
    "cat_df_info = df.select_dtypes(include=\"object\").agg(func=[missing_ratio, num_values, value_ratios])\n",
    "cat_df_info"
   ]
  },
  {
   "cell_type": "markdown",
   "id": "9222aad9",
   "metadata": {},
   "source": [
    "Các cột gender, company_size, company_type đều có số lượng giá trị thiếu khá lớn, trên 22%. Các số liệu khác trong có vẻ ổn"
   ]
  },
  {
   "cell_type": "markdown",
   "id": "b0be5cbb",
   "metadata": {},
   "source": [
    "### 5. Tiền xử lí dữ liệu"
   ]
  },
  {
   "cell_type": "code",
   "execution_count": null,
   "id": "05b02de3",
   "metadata": {},
   "outputs": [],
   "source": [
    "df.info()"
   ]
  },
  {
   "cell_type": "markdown",
   "id": "c9407686",
   "metadata": {},
   "source": [
    "Số lượng giá trị bị thiếu."
   ]
  },
  {
   "cell_type": "code",
   "execution_count": null,
   "id": "5700dc62",
   "metadata": {},
   "outputs": [],
   "source": [
    "df.isnull().sum()"
   ]
  },
  {
   "cell_type": "markdown",
   "id": "7c0011cc",
   "metadata": {},
   "source": [
    "Ta thấy có khá nhiều giá trị bị thiếu và đa số đều là categorical. Vì vậy, ta sẽ xóa các dòng bị thiếu."
   ]
  },
  {
   "cell_type": "code",
   "execution_count": null,
   "id": "414cde4c",
   "metadata": {},
   "outputs": [],
   "source": [
    "#vì các dòng \"relevant_experience\" = \"No relevent experience\" thì các giá trị \"company_size\" và \"company_type\" là NaN. \n",
    "# nên ta cần giữ những dòng này lại \n",
    "df[df[\"relevent_experience\"]==\"No relevent experience\"] = df[df[\"relevent_experience\"]==\"No relevent experience\"].replace(np.nan, \"None\")\n",
    "df.dropna(inplace=True)\n",
    "df"
   ]
  },
  {
   "cell_type": "markdown",
   "id": "7b0ac07b",
   "metadata": {},
   "source": [
    "Số lượng dòng bị thiếu khá nhiều, khoảng 1/2 của dữ liệu."
   ]
  },
  {
   "cell_type": "markdown",
   "id": "c8933858",
   "metadata": {},
   "source": [
    "## C. Đưa ra các câu hỏi có ý nghĩa cần trả lời"
   ]
  },
  {
   "cell_type": "markdown",
   "id": "ff223113",
   "metadata": {},
   "source": [
    "### 1. Số lượng Data Scientists trên 10 năm kinh nghiệm đang tìm kiếm công việc mới trong Top 5 thành phố phát triển nhất?"
   ]
  },
  {
   "cell_type": "markdown",
   "id": "ea6ac41c",
   "metadata": {},
   "source": [
    "Lợi ích khi trả lời được câu hỏi:\n",
    "- Với vai trò là doanh nghiệp sẽ biết thêm thông tin để thay đổi chính sách đãi ngộ hay điều chỉnh môi trường làm việc để giữ chân các nhân viên tài năng của minh.\n",
    "- Liệu các Data Scientists nhiều năm kinh nghiệm có nhu cầu tìm kiếm thách thức mới cho bản thân mình.\n",
    "- Thị trường việc làm về Data Scientist ở trong Top 5 thành phố phát triển nhất."
   ]
  },
  {
   "cell_type": "markdown",
   "id": "d159fbf6",
   "metadata": {},
   "source": [
    "### 2. Số năm kinh nghiệm và kinh nghiệm có liên quan đến DS ảnh hưởng thế nào đến quyết định có nhảy việc không của người tham gia đào tạo?"
   ]
  },
  {
   "cell_type": "markdown",
   "id": "39281de4",
   "metadata": {},
   "source": [
    "**Lợi ích khi trả lời được câu hỏi:** Khi trả lời được câu hỏi công ty có thể đánh giá được đâu là một ứng viên tiềm năng muốn làm việc cho công ty dựa vào số năm kinh nghiệm và kinh nghiệm có liên quan đến DS của ứng viên để "
   ]
  },
  {
   "cell_type": "markdown",
   "id": "af943b52",
   "metadata": {},
   "source": [
    "## D. Tiền xử lý và phân tích dữ liệu để trả lời cho từng câu hỏi"
   ]
  },
  {
   "cell_type": "markdown",
   "id": "68454acb",
   "metadata": {},
   "source": [
    "### 1. Số lượng Data Scientists trên 10 năm kinh nghiệm đang tìm kiếm công việc mới trong Top 5 thành phố phát triển nhất?"
   ]
  },
  {
   "cell_type": "markdown",
   "id": "6707314e",
   "metadata": {},
   "source": [
    "### 2. Số năm kinh nghiệm và kinh nghiệm có liên quan đến DS ảnh hưởng thế nào đến quyết định có nhảy việc không của người tham gia đào tạo?"
   ]
  },
  {
   "cell_type": "markdown",
   "id": "9e1b6f25",
   "metadata": {},
   "source": [
    "### 3. Có sự chênh lệch trình độ học vấn giữa nam và nữ hay không? Điều này có ảnh hưởng tới chỉ số phát triển của thành phố nơi mà họ làm việc?"
   ]
  },
  {
   "cell_type": "markdown",
   "id": "30a8356e",
   "metadata": {},
   "source": [
    "<h3 style='color:red; font-size:25px'> 2.1 Tương quan giữa số năm kinh nghiệm và quyết định nhảy việc </h3>"
   ]
  },
  {
   "cell_type": "markdown",
   "id": "ba099d72",
   "metadata": {},
   "source": [
    "<h3 style='color:#6ac61f'> Bước 1: Tính phần trăm người quyết định nhảy việc so với tổng số người trong cùng khoảng số năm kinh nghiệm </h3>"
   ]
  },
  {
   "cell_type": "markdown",
   "id": "138e752e",
   "metadata": {},
   "source": [
    "+ 1. Tính số lượng người trong mỗi khoảng năm kinh nghiệm vào series `experience_total`\n",
    "+ 2. Tính số lượng người có quyết định nhảy việc vào series `experience_change`\n",
    "+ 3. Tính phần trăm số lượng người quyết định nhảy việc so với tổng số người trong cùng một khoảng số năm kinh nghiệm vào series `experience_change_percent`"
   ]
  },
  {
   "cell_type": "code",
   "execution_count": null,
   "id": "683f4adb",
   "metadata": {},
   "outputs": [],
   "source": [
    "#Tính số lượng người trong mỗi khoảng năm kinh nghiệm\n",
    "experience_total = df.groupby('experience')['experience'].size()\n",
    "\n",
    "#Tính số lượng người có quyết định nhảy việc\n",
    "mask = df['target'] == 1 \n",
    "experience_change = df[mask].groupby('experience')['experience'].size()\n",
    "\n",
    "#Tính phần trăm \n",
    "experience_change_percent = experience_change/experience_total\n",
    "\n",
    "experience_change_percent"
   ]
  },
  {
   "cell_type": "markdown",
   "id": "6155d78d",
   "metadata": {},
   "source": [
    "<h3 style='color:#6ac61f'> Bước 2: Trực quan </h3>"
   ]
  },
  {
   "cell_type": "markdown",
   "id": "f8d36068",
   "metadata": {},
   "source": [
    "Ta sẽ trực quan mối tương quan giữa số năm kinh nghiệm và quyết định nhảy việc bằng đồ thị dạng cột, với:\n",
    "+ Trục hoành thể hiện số năm kinh nghiệm\n",
    "+ Trục tung thể hiện phần trăm số người quyết định nhảy việc so với tổng số người trong cùng một khoảng số năm kinh nghiệm"
   ]
  },
  {
   "cell_type": "code",
   "execution_count": null,
   "id": "252927a0",
   "metadata": {},
   "outputs": [],
   "source": [
    "plt.figure(figsize=(10,7))\n",
    "\n",
    "sns.barplot(x = experience_change_percent.index, y = experience_change_percent.values)\n",
    "\n",
    "plt.title('Phần trăm số người nhảy việc so với tổng số người trong cùng khoảng số năm kinh nghiệm', fontsize=14)\n",
    "plt.xlabel('Số năm kinh nghiệm', fontsize=14)\n",
    "plt.ylabel('Phần trăm(%)', fontsize=14)\n",
    "plt.grid(True)\n",
    "\n",
    "plt.show()"
   ]
  },
  {
   "cell_type": "markdown",
   "id": "2ad35aa6",
   "metadata": {},
   "source": [
    "<h3 style='color:#6ac61f; line-height: 1.5;'>🤔🤔🤔 Từ biểu đồ trên ta có thể thấy một ứng viên có số năm kinh nghiệm càng cao thì khả năng ứng viên đó nhảy việc càng thấp. Điều này có thể dự đoán là bởi khi một người có số năm kinh nghiệm và tuổi càng tăng lên họ sẽ muốn một công việc ổn định bởi cơ hội và khả năng thăng tiến cũng giảm dần.\n",
    "</h3>"
   ]
  },
  {
   "cell_type": "markdown",
   "id": "d86cc4f3",
   "metadata": {},
   "source": [
    "---"
   ]
  },
  {
   "cell_type": "markdown",
   "id": "48930b33",
   "metadata": {},
   "source": [
    "<h3 style='color:red; font-size:25px'> 2.2 Tương quan giữa kinh nghiệm liên quan đến DS và quyết định nhảy việc </h3>"
   ]
  },
  {
   "cell_type": "markdown",
   "id": "acd9c0c2",
   "metadata": {},
   "source": [
    "<h3 style='color:#6ac61f'> Bước 1: Tính phần trăm nhảy việc so với tổng số người có kinh nghiệm hoặc không có kinh nghiệm liên quan đến DS </h3>"
   ]
  },
  {
   "cell_type": "markdown",
   "id": "2ba5e837",
   "metadata": {},
   "source": [
    "+ 1. Tính số lượng người có kinh nghiệm và không có kinh nghiệm DS vào series `sr_total`\n",
    "+ 2. Tính số lượng người có quyết định nhảy việc có kinh nghiệm và không có kinh nghiệm DS vào series `sr_change`\n",
    "+ 3. Tính phần trăm nhảy việc so với tổng số người có kinh nghiệm hoặc không có kinh nghiệm liên quan đến DS vào series `sr_change_percent`"
   ]
  },
  {
   "cell_type": "code",
   "execution_count": null,
   "id": "d9e55fab",
   "metadata": {},
   "outputs": [],
   "source": [
    "#Tính số lượng người có kinh nghiệm và không có kinh nghiệm DS \n",
    "sr_total = df[['relevent_experience']].groupby('relevent_experience').size()\n",
    "\n",
    "#Tính số lượng người có quyết định nhảy việc có kinh nghiệm và không có kinh nghiệm DS\n",
    "mask = df['target'] == 1\n",
    "sr_change = df.loc[mask,['relevent_experience']].groupby('relevent_experience').size()\n",
    "\n",
    "#Tính phần trăm nhảy việc so với tổng số người có kinh nghiệm hoặc không có kinh nghiệm liên quan đến DS\n",
    "sr_change_percent = sr_change/sr_total * 100\n",
    "sr_change_percent"
   ]
  },
  {
   "cell_type": "markdown",
   "id": "d64a7925",
   "metadata": {},
   "source": [
    "<h3 style='color:#6ac61f'> Bước 2: Trực quan </h3>"
   ]
  },
  {
   "cell_type": "markdown",
   "id": "b6cb2a24",
   "metadata": {},
   "source": [
    "Ta sẽ trực quan mối tương quan giữa kinh nghiệm liên quan đến DS và quyết định nhảy việc bằng đồ thị dạng cột, với:\n",
    "+ Trục hoành gồm 2 cột `Has relevent experience` và `No relevent experience`\n",
    "+ Trục tung thể hiện phần trăm"
   ]
  },
  {
   "cell_type": "code",
   "execution_count": null,
   "id": "c3a05534",
   "metadata": {
    "scrolled": false
   },
   "outputs": [],
   "source": [
    "plt.figure(figsize=(10,7))\n",
    "\n",
    "sns.barplot(x=sr_change_percent.index, y=sr_change_percent.values, color=\"#6ac61f\")\n",
    "\n",
    "plt.title('Tương quan giữa kinh nghiệm liên quan đến DS và quyết định nhảy việc', fontsize=12)\n",
    "plt.xlabel('Kinh nghiệm liên quan đến DS', fontsize=12)\n",
    "plt.ylabel('Phần trăm(%)', fontsize=12)\n",
    "plt.grid(True)\n",
    "\n",
    "plt.show()"
   ]
  },
  {
   "cell_type": "markdown",
   "id": "5e0fe942",
   "metadata": {},
   "source": [
    "<h3 style='color:#6ac61f; line-height: 1.5;'>🧐🧐🧐 Từ biểu đồ trên ta có thể thấy phần trăm những người không có kinh nghiệm liên quan đến DS có mong muốn nhảy việc cao hơn những người có kinh nghiệm khoảng 10%.\n",
    "</h3>"
   ]
  },
  {
   "cell_type": "markdown",
   "id": "6f2befe5",
   "metadata": {},
   "source": [
    "<h3 style='color:red; font-size:25px'> 2.3 Sự chênh lệch giữa trình độ học vấn và mức sống phân nhóm theo giới tính </h3>"
   ]
  },
  {
   "cell_type": "markdown",
   "id": "c75f5c30",
   "metadata": {},
   "source": [
    "Thống kê số lượng các ứng viên theo giới tính"
   ]
  },
  {
   "cell_type": "code",
   "execution_count": null,
   "id": "41805c75",
   "metadata": {},
   "outputs": [],
   "source": [
    "num_applicants_by_gender = df.groupby('gender').size()\n",
    "num_applicants_by_gender"
   ]
  },
  {
   "cell_type": "markdown",
   "id": "9ca20cf2",
   "metadata": {},
   "source": [
    "Ta thấy số lượng ứng viên nam có 1 sự chênh lệch rõ rệt so với số lượng ứng viên với các giới tính khác<br>\n",
    "Để tìm hiểu sâu hơn ta tiến hành thống kê trình độ học vấn của các ứng viên theo giới tính"
   ]
  },
  {
   "cell_type": "code",
   "execution_count": null,
   "id": "c9a4636e",
   "metadata": {},
   "outputs": [],
   "source": [
    "studies_by_gender = df.groupby(['gender', 'education_level']).size()\n",
    "studies_by_gender"
   ]
  },
  {
   "cell_type": "markdown",
   "id": "1eada34f",
   "metadata": {},
   "source": [
    "DataFrame ```education_ratio``` gồm 4 cột ứng với giới tính và 6 dòng ứng với trình độ học vấn lưu tỉ lệ trình độ học vấn theo giới tính (từ 0 đến 100)"
   ]
  },
  {
   "cell_type": "code",
   "execution_count": null,
   "id": "94132d79",
   "metadata": {},
   "outputs": [],
   "source": [
    "education_ratio = studies_by_gender / num_applicants_by_gender * 100\n",
    "education_ratio = education_ratio.to_frame()\n",
    "education_ratio = education_ratio.reset_index().pivot(index = 'education_level', columns = 'gender')\n",
    "education_ratio = education_ratio.where(education_ratio.notna(), 0)\n",
    "education_ratio = education_ratio[0]\n",
    "education_ratio"
   ]
  },
  {
   "cell_type": "markdown",
   "id": "81888df4",
   "metadata": {},
   "source": [
    "Trực quan hóa bảng dữ liệu trên thành biểu đồ cột"
   ]
  },
  {
   "cell_type": "code",
   "execution_count": null,
   "id": "2107b4c4",
   "metadata": {},
   "outputs": [],
   "source": [
    "education_ratio.plot.bar()"
   ]
  },
  {
   "cell_type": "markdown",
   "id": "57ef4ace",
   "metadata": {},
   "source": [
    "Như vậy ta thấy nữ giới có tỉ lệ trình độ học vấn trên THPT là cao nhất mặc dù có 1 sự chênh lệch lớn giữa số lượng so với nam giới<br>\n",
    "Liệu các ứng viên nữ có làm việc ở các thành phố có mức sống cao hơn hay không?\n",
    "\n",
    "Ta xem xét trung bình mức sống của các thành phố mà các ứng viên làm việc"
   ]
  },
  {
   "cell_type": "code",
   "execution_count": null,
   "id": "f400fef0",
   "metadata": {},
   "outputs": [],
   "source": [
    "city_development_index_mean = df.groupby(['gender']).mean()\n",
    "city_development_index_mean['city_development_index']"
   ]
  },
  {
   "cell_type": "markdown",
   "id": "4d150788",
   "metadata": {},
   "source": [
    "Mặc dù nữ giới có tỉ lệ trình độ học vấn cao nhất nhưng các ứng viên thuộc giới tính khác lại là người có mức sống cao nhất\n",
    "mặc dù không có ứng viên nào có trình độ Phd"
   ]
  },
  {
   "cell_type": "markdown",
   "id": "95ff74e7",
   "metadata": {},
   "source": [
    "--- ----"
   ]
  },
  {
   "cell_type": "markdown",
   "id": "51b8b839",
   "metadata": {},
   "source": [
    "## E. Tổng hợp lại quá trình thực hiện đồ án"
   ]
  },
  {
   "cell_type": "code",
   "execution_count": null,
   "id": "492e34a1",
   "metadata": {},
   "outputs": [],
   "source": []
  }
 ],
 "metadata": {
  "kernelspec": {
   "display_name": "Python 3 (ipykernel)",
   "language": "python",
   "name": "python3"
  },
  "language_info": {
   "codemirror_mode": {
    "name": "ipython",
    "version": 3
   },
   "file_extension": ".py",
   "mimetype": "text/x-python",
   "name": "python",
   "nbconvert_exporter": "python",
   "pygments_lexer": "ipython3",
   "version": "3.8.8"
  },
  "vscode": {
   "interpreter": {
    "hash": "76d7c06053c3456e5600312cec90888656fc0ed30c03d8425b9dac6e4fc8e014"
   }
  }
 },
 "nbformat": 4,
 "nbformat_minor": 5
}
